{
  "nbformat": 4,
  "nbformat_minor": 0,
  "metadata": {
    "colab": {
      "provenance": [],
      "include_colab_link": true
    },
    "kernelspec": {
      "name": "python3",
      "display_name": "Python 3"
    },
    "language_info": {
      "name": "python"
    }
  },
  "cells": [
    {
      "cell_type": "markdown",
      "metadata": {
        "id": "view-in-github",
        "colab_type": "text"
      },
      "source": [
        "<a href=\"https://colab.research.google.com/github/jaweria01/Python_Volunteer_Course/blob/main/Session17_(OOP_Advanced).ipynb\" target=\"_parent\"><img src=\"https://colab.research.google.com/assets/colab-badge.svg\" alt=\"Open In Colab\"/></a>"
      ]
    },
    {
      "cell_type": "code",
      "execution_count": null,
      "metadata": {
        "id": "_YJFLZ-mIS2k"
      },
      "outputs": [],
      "source": [
        "\\n"
      ]
    },
    {
      "cell_type": "markdown",
      "source": [
        "# TODAY'S TOPICS OOP ADVANCED\n",
        "\n",
        "MAGIC METHOD\n",
        "\n",
        "ATTRIBUTE CREATION\n",
        "\n",
        "REFERENCE VARIABLES\n",
        "\n",
        "OBJECT MUTABILITY\n",
        "\n",
        "ENCAPSULATION\n"
      ],
      "metadata": {
        "id": "F1s9qqJ6csDq"
      }
    },
    {
      "cell_type": "markdown",
      "source": [
        "# MAGIC METHODS\n",
        "\n",
        "Special methods with double underscores.\n",
        "\n",
        "Customize object behavior."
      ],
      "metadata": {
        "id": "jVd3wq2WJtG7"
      }
    },
    {
      "cell_type": "code",
      "source": [
        "class Book:\n",
        "  def __init__(self, title):\n",
        "    self.title = title\n",
        "  def __str__(self):\n",
        "    return f\"Book: {self.title}\"\n",
        "  def __add__(self, other):\n",
        "    return Book(self.title + \" and \" + other.title)\n",
        "b1=Book(\"python\")\n",
        "b2=Book(\"java\")\n",
        "b3=Book(\"oop advanced\")\n",
        "b4=Book(\"c++\")\n",
        "print(b1,b2,b3)\n",
        "print(b1+b2+b3+b4)\n",
        "print(f\"{b1}\\n{b2}\\n{b3}\")"
      ],
      "metadata": {
        "colab": {
          "base_uri": "https://localhost:8080/"
        },
        "id": "YPJIfZ-gJ20v",
        "outputId": "1d1dbde1-4f6a-4a21-986d-f171e59b1829"
      },
      "execution_count": null,
      "outputs": [
        {
          "output_type": "stream",
          "name": "stdout",
          "text": [
            "Book: python Book: java Book: oop advanced\n",
            "Book: python and java and oop advanced and c++\n",
            "Book: python\n",
            "Book: java\n",
            "Book: oop advanced\n"
          ]
        }
      ]
    },
    {
      "cell_type": "markdown",
      "source": [
        "# 2- ATTRIBUTE CREATION\n",
        "\n",
        "INSIDE VS OUTSIDE\n",
        "\n",
        "Attributes are variables that store data for an object.\n",
        "\n",
        "they can be created inside the  class(usually in init method).\n",
        "\n",
        "  **INSIDE**\n",
        "  \n",
        "    This is the standard best practice way.\n",
        "\n",
        "    Attributes defined in init are set when the object is first created ensuring every object starts with those attributes.\n",
        "\n",
        "  **OUTSIDE**\n",
        "\n",
        "  Pyhton allows you to dynamically add new attributes to an instance of a class at any time.\n",
        "  \n",
        "   This is flexible but cake make code harder to read and maintain,\n",
        "   as not all objects of that class will necessarily have that attribute.\n"
      ],
      "metadata": {
        "id": "ML_tYumLRskO"
      }
    },
    {
      "cell_type": "code",
      "source": [
        "class dog:\n",
        "  def __init__(self, name):\n",
        "    self.name = name\n",
        "dog1=dog(\"sparky\")\n",
        "print(dog1.name)\n",
        "dog1.age=10\n",
        "print(dog1.age)\n",
        "\n"
      ],
      "metadata": {
        "colab": {
          "base_uri": "https://localhost:8080/"
        },
        "id": "-rGHvlbWUVkx",
        "outputId": "ccd09520-4ce4-46ec-9544-3a1b98560089"
      },
      "execution_count": null,
      "outputs": [
        {
          "output_type": "stream",
          "name": "stdout",
          "text": [
            "sparky\n",
            "10\n"
          ]
        }
      ]
    },
    {
      "cell_type": "markdown",
      "source": [
        "# 3-REFERENCE VARIABLES (PASS BY REFERENCE VS VALUE)\n",
        "\n",
        "This describes how varibales(reference) are handled when passed to functions.\n",
        "\n",
        "with MUTABLE AND IMMUTABLE object.\n",
        "\n",
        "**IMMUTABLE**\n",
        "\n",
        "When you pass an object (like,num,string,or tuples) to a function, the function gets a copy of the reference.\n",
        "\n",
        "**MUTABLE**\n",
        "\n",
        "When you pass a mutable object (like lists, dictionaries or custom class objects) to a function the function gets a copy of the reference that points to the same object.\n"
      ],
      "metadata": {
        "id": "JHz_twE7VlWT"
      }
    },
    {
      "cell_type": "code",
      "source": [
        "def modify_list(list1):\n",
        "  list1.append(4)\n",
        "def modify_string(string1):\n",
        "  string1 =string1 + \"modified\"\n",
        "list1=[1,2,3]\n",
        "string1=\"original\"\n",
        "modify_list(list1)\n",
        "modify_string(string1)\n",
        "print(list1)\n",
        "print(string1)"
      ],
      "metadata": {
        "colab": {
          "base_uri": "https://localhost:8080/"
        },
        "id": "WyvzSqRRXY8t",
        "outputId": "0c4dd712-5cb3-47af-86c1-95ffe9078084"
      },
      "execution_count": null,
      "outputs": [
        {
          "output_type": "stream",
          "name": "stdout",
          "text": [
            "[1, 2, 3, 4]\n",
            "original\n"
          ]
        }
      ]
    },
    {
      "cell_type": "markdown",
      "source": [
        "# 4. Object Mutability\n",
        "\n",
        "OOP Concept: Mutability refers to whether the internal state (data) of an object can be changed after it has been created.\n",
        "\n",
        "Explanation:\n",
        "\n",
        "**Mutable Objects**: Their value can be changed. Examples include lists, dictionaries, and most custom class instances.\n",
        "\n",
        "**Immutable Objects**: Their value cannot be changed after creation. If you seemingly \"change\" an immutable object (like a string), you are actually creating a new object.\n",
        "\n",
        "**Examples**\n",
        "\n",
        "include strings, numbers (int, float), and tuples."
      ],
      "metadata": {
        "id": "M8gPS53fZFlE"
      }
    },
    {
      "cell_type": "code",
      "source": [
        "# Mutable example (List)\n",
        "my_list = [10, 20]\n",
        "print(f\"Original list: {my_list}\")\n",
        "my_list[0] = 50 # Modification is possible\n",
        "print(f\"Modified list: {my_list}\")\n",
        "\n",
        "# Immutable example (String)\n",
        "my_string = \"apple\"\n",
        "print(f\"Original string: {my_string}\")\n",
        "#my_string[0] = 'b'\n",
        "#print(my_string)\n",
        "\n",
        "# When you \"change\" a string, you create a new one:\n",
        "my_string = my_string + \" pie\"\n",
        "print(f\"New string object: {my_string}\")"
      ],
      "metadata": {
        "colab": {
          "base_uri": "https://localhost:8080/"
        },
        "id": "SumnA90DZlgh",
        "outputId": "40b12bef-d081-4508-b046-1dce234cdcaa"
      },
      "execution_count": null,
      "outputs": [
        {
          "output_type": "stream",
          "name": "stdout",
          "text": [
            "Original list: [10, 20]\n",
            "Modified list: [50, 20]\n",
            "Original string: apple\n",
            "New string object: apple pie\n"
          ]
        }
      ]
    },
    {
      "cell_type": "code",
      "source": [
        "class list1:\n",
        "  def __init__(self, list2):\n",
        "    self.list2=list2\n",
        "\n",
        "list1=[1,2,3]\n",
        "list2=list1\n",
        "list2.append(4)\n",
        "print(list1)\n"
      ],
      "metadata": {
        "colab": {
          "base_uri": "https://localhost:8080/"
        },
        "id": "qB7E6jFdzYTF",
        "outputId": "37149bc7-706a-451b-8868-d89fe3e2135e"
      },
      "execution_count": null,
      "outputs": [
        {
          "output_type": "stream",
          "name": "stdout",
          "text": [
            "[1, 2, 3, 4]\n"
          ]
        }
      ]
    },
    {
      "cell_type": "markdown",
      "source": [
        "# 5. Encapsulation\n",
        "\n",
        "OOP Concept: Encapsulation is the bundling of data (attributes) and the methods (functions) that operate on that data into a single unit (a class).\n",
        "\n",
        " It also involves restricting direct access to some of an object's components.\n",
        "\n",
        "**Explanation:** It's like a capsule where everything is kept together and protected. In Python, encapsulation is often enforced by using naming conventions (prefixes) to signal that an attribute should be treated as private (not directly accessed from outside the class).\n",
        "\n",
        "**_attribute (Single underscore)**: Conventionally protected. You can access it, but it's a hint to other programmers to leave it alone.\n",
        "\n",
        "**__attribute (Double underscore)**: Name mangling. Python internally changes the name to make it harder (but not impossible) to access from outside, effectively making it \"more private.\" Access should only be via methods (getters/setters)."
      ],
      "metadata": {
        "id": "NOmdvfSTZ_m_"
      }
    },
    {
      "cell_type": "code",
      "source": [
        "class BankAccount:\n",
        "    # Constructor\n",
        "    def __init__(self, initial_balance):\n",
        "        # Encapsulated (private) attribute using __\n",
        "        self.__balance = initial_balance\n",
        "\n",
        "    # Public method (Getter) to safely read the balance\n",
        "    def get_balance(self):\n",
        "        return self.__balance\n",
        "\n",
        "    # Public method (Setter) to safely update the balance\n",
        "    def deposit(self, amount):\n",
        "        if amount > 0:\n",
        "            self.__balance += amount\n",
        "            print(f\"Deposited {amount}.\")\n",
        "        else:\n",
        "            print(\"Invalid deposit amount.\")\n",
        "\n",
        "account = BankAccount(100)\n",
        "\n",
        "# Access via public method (GOOD)\n",
        "print(f\"Current balance: {account.get_balance()}\") # Added parentheses to call the method\n",
        "\n",
        "# Direct access is discouraged (and complex due to name mangling)\n",
        "# print(account.__balance) # This will fail\n"
      ],
      "metadata": {
        "colab": {
          "base_uri": "https://localhost:8080/"
        },
        "id": "HqdM9y-Hahyd",
        "outputId": "12d23680-a0a7-49bf-aa67-83f8f93e19f4"
      },
      "execution_count": null,
      "outputs": [
        {
          "output_type": "stream",
          "name": "stdout",
          "text": [
            "Current balance: 100\n"
          ]
        }
      ]
    }
  ]
}