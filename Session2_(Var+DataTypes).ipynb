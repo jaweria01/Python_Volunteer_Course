{
  "nbformat": 4,
  "nbformat_minor": 0,
  "metadata": {
    "colab": {
      "provenance": [],
      "include_colab_link": true
    },
    "kernelspec": {
      "name": "python3",
      "display_name": "Python 3"
    },
    "language_info": {
      "name": "python"
    }
  },
  "cells": [
    {
      "cell_type": "markdown",
      "metadata": {
        "id": "view-in-github",
        "colab_type": "text"
      },
      "source": [
        "<a href=\"https://colab.research.google.com/github/jaweria01/Python_Volunteer_Course/blob/main/Session2_(Var%2BDataTypes).ipynb\" target=\"_parent\"><img src=\"https://colab.research.google.com/assets/colab-badge.svg\" alt=\"Open In Colab\"/></a>"
      ]
    },
    {
      "cell_type": "markdown",
      "source": [
        "**Variables**\n",
        " variables are used to store data that can be referenced and manipulated during program execution. A variable is essentially a name that is assigned to a value.\n",
        " Variables act as placeholders for data. They allow us to store and reuse values in our program."
      ],
      "metadata": {
        "id": "92h478oRqdKp"
      }
    },
    {
      "cell_type": "code",
      "source": [
        "x = 10\n",
        "name = \"ali\"\n",
        "\n",
        "print(x)\n",
        "print(name)"
      ],
      "metadata": {
        "id": "CVMoULd-qb_0",
        "colab": {
          "base_uri": "https://localhost:8080/"
        },
        "outputId": "bd9de73d-bfe9-4f54-a159-83726c9e16c5"
      },
      "execution_count": null,
      "outputs": [
        {
          "output_type": "stream",
          "name": "stdout",
          "text": [
            "10\n",
            "ali\n"
          ]
        }
      ]
    },
    {
      "cell_type": "markdown",
      "source": [
        "Rules for Naming Variables\n",
        "To use variables effectively, we must follow Python’s naming rules:\n",
        "\n",
        "Variable names can only contain letters, digits and underscores (_).\n",
        "A variable name cannot start with a digit.\n",
        "Variable names are case-sensitive (myVar and myvar are different).\n",
        "Avoid using Python keywords (e.g., if, else, for) as variable names.\n"
      ],
      "metadata": {
        "id": "pwgRjqmPqbL5"
      }
    },
    {
      "cell_type": "code",
      "execution_count": null,
      "metadata": {
        "id": "Oms8XymDoHG9",
        "colab": {
          "base_uri": "https://localhost:8080/"
        },
        "outputId": "450f0be4-e9a6-4a99-e35d-d80146df1082"
      },
      "outputs": [
        {
          "output_type": "stream",
          "name": "stdout",
          "text": [
            "21\n"
          ]
        }
      ],
      "source": [
        "age56 = 21\n",
        "_colour = \"lilac\"\n",
        "total_score = 90\n",
        "print(age56)"
      ]
    },
    {
      "cell_type": "code",
      "source": [
        "1name = \"Error\"  # Starts with a digit\n",
        "class = 10       # 'class' is a reserved keyword\n",
        "user-name = \"Doe\"  # Contains a hyphen"
      ],
      "metadata": {
        "id": "8zaWQQTT3dzl"
      },
      "execution_count": null,
      "outputs": []
    },
    {
      "cell_type": "markdown",
      "source": [
        "Datatypes Data types in Python are a way to classify data items. They represent the kind of value, which determines what operations can be performed on that data\n",
        "https://www.geeksforgeeks.org/python/python-data-types/"
      ],
      "metadata": {
        "id": "rPU7vkRPEdXR"
      }
    },
    {
      "cell_type": "code",
      "source": [
        "n = 5\n",
        "name = \"ali\"\n",
        "y = 0.8 (float)\n"
      ],
      "metadata": {
        "id": "hpfDg8H9FLn_"
      },
      "execution_count": null,
      "outputs": []
    },
    {
      "cell_type": "markdown",
      "source": [
        "Static vs dynamic typing\n",
        " Type checking occurs at runtime, meaning while the code is executing.\n",
        "\n",
        "how to make a const var\n",
        "\n"
      ],
      "metadata": {
        "id": "SAtYMP_5UB3w"
      }
    },
    {
      "cell_type": "code",
      "source": [
        "x =\n",
        "print(x)\n",
        "print(type(x))\n",
        "\n"
      ],
      "metadata": {
        "colab": {
          "base_uri": "https://localhost:8080/",
          "height": 110
        },
        "id": "WuTg4tDqWsdD",
        "outputId": "09cc6fd9-62fc-4e10-d6ab-4de5c239cd4a"
      },
      "execution_count": null,
      "outputs": [
        {
          "output_type": "error",
          "ename": "SyntaxError",
          "evalue": "invalid syntax (ipython-input-4231706819.py, line 1)",
          "traceback": [
            "\u001b[0;36m  File \u001b[0;32m\"/tmp/ipython-input-4231706819.py\"\u001b[0;36m, line \u001b[0;32m1\u001b[0m\n\u001b[0;31m    x =\u001b[0m\n\u001b[0m        ^\u001b[0m\n\u001b[0;31mSyntaxError\u001b[0m\u001b[0;31m:\u001b[0m invalid syntax\n"
          ]
        }
      ]
    },
    {
      "cell_type": "markdown",
      "source": [
        "Type Casting/conversion a Variable\n",
        "Type casting refers to the process of converting the value of one data type into another. Python provides several built-in functions to facilitate casting, including int(), float() and str() among others."
      ],
      "metadata": {
        "id": "_-Qnw29aATXA"
      }
    },
    {
      "cell_type": "code",
      "source": [
        "# Casting variables\n",
        "s = \"10\"  # Initially a string\n",
        "n  = int(s)  # Cast string to integer\n",
        "print(type(s))\n",
        "print(type(n))\n",
        "cnt = 5\n",
        "f = 2.9\n",
        "b = int(f)\n",
        "f = float(cnt)  # Cast integer to float\n",
        "print(f)\n",
        "age = 25\n",
        "s2 = str(age)  # Cast integer to string\n",
        "\n",
        "# Display results\n",
        "print(s2)\n"
      ],
      "metadata": {
        "id": "EJEtkXoyAaz7",
        "colab": {
          "base_uri": "https://localhost:8080/",
          "height": 110
        },
        "outputId": "11d81f33-b01f-4c5e-d222-e2dab69e5c96"
      },
      "execution_count": null,
      "outputs": [
        {
          "output_type": "error",
          "ename": "IndentationError",
          "evalue": "unexpected indent (ipython-input-1015877571.py, line 9)",
          "traceback": [
            "\u001b[0;36m  File \u001b[0;32m\"/tmp/ipython-input-1015877571.py\"\u001b[0;36m, line \u001b[0;32m9\u001b[0m\n\u001b[0;31m    age = 25\u001b[0m\n\u001b[0m    ^\u001b[0m\n\u001b[0;31mIndentationError\u001b[0m\u001b[0;31m:\u001b[0m unexpected indent\n"
          ]
        }
      ]
    },
    {
      "cell_type": "code",
      "source": [
        "f = 2.9\n",
        "b = int(f)\n",
        "print(b)"
      ],
      "metadata": {
        "colab": {
          "base_uri": "https://localhost:8080/"
        },
        "id": "7lAtSaLQsNKW",
        "outputId": "08cae23f-ddfb-4286-969f-0829aaa407df"
      },
      "execution_count": null,
      "outputs": [
        {
          "output_type": "stream",
          "name": "stdout",
          "text": [
            "2\n"
          ]
        }
      ]
    },
    {
      "cell_type": "markdown",
      "source": [
        "Type of Variable\n",
        "In Python, we can determine the data type of a variable using the type() function. This built-in function returns the type of the object passed to it.\n"
      ],
      "metadata": {
        "id": "dLuwrAysAcyF"
      }
    },
    {
      "cell_type": "code",
      "source": [
        "# Define variables with different data types\n",
        "n = 42\n",
        "f = 3.14\n",
        "s = \"Hello, World!\"\n",
        "li = [1, 2, 3]\n",
        "d = {'key': 'value'}\n",
        "bool = True\n",
        "\n",
        "# Get and print the type of each variable\n",
        "print(type(n))\n",
        "print(type(f))\n"
      ],
      "metadata": {
        "id": "tXJVh-s_AnGa",
        "colab": {
          "base_uri": "https://localhost:8080/"
        },
        "outputId": "c8d44485-ecb8-4c63-9492-b0fbf2d64597"
      },
      "execution_count": null,
      "outputs": [
        {
          "output_type": "stream",
          "name": "stdout",
          "text": [
            "<class 'int'>\n",
            "<class 'float'>\n"
          ]
        }
      ]
    },
    {
      "cell_type": "code",
      "source": [
        "taking user input\n",
        " This is done using the input() function, which:\n",
        "\n",
        "Pauses the program and waits for the user to type something.\n",
        "Returns the entered value as a string (str).\n",
        "Optionally displays a prompt message to guide the user.\n"
      ],
      "metadata": {
        "id": "kGwx5hb7YO3q"
      },
      "execution_count": null,
      "outputs": []
    },
    {
      "cell_type": "code",
      "source": [
        "number = int(input(\"Enter number:\"))\n",
        "print(number)\n",
        "name1 = input(\"Enter name: \")\n",
        "print(name1)\n",
        "\n",
        "# Printing type of input value\n",
        "print (\"type of number\", type(number))\n",
        "print (\"type of name\", type(name1))"
      ],
      "metadata": {
        "colab": {
          "base_uri": "https://localhost:8080/"
        },
        "id": "7vW9z_I5Yf13",
        "outputId": "659de7ab-e6bc-4cba-8768-8fa7d11377d0"
      },
      "execution_count": null,
      "outputs": [
        {
          "output_type": "stream",
          "name": "stdout",
          "text": [
            "Enter number:67\n",
            "67\n",
            "Enter name: ali\n",
            "ali\n",
            "type of number <class 'str'>\n",
            "type of name <class 'str'>\n"
          ]
        }
      ]
    },
    {
      "cell_type": "markdown",
      "source": [
        "memory allocation in python vs other"
      ],
      "metadata": {
        "id": "x0PT1CGSf7Sq"
      }
    },
    {
      "cell_type": "code",
      "source": [
        "x = 10\n",
        "print(id(x))"
      ],
      "metadata": {
        "id": "NntahrxZgB2f"
      },
      "execution_count": null,
      "outputs": []
    },
    {
      "cell_type": "code",
      "source": [
        "# +, -, *, / , %, //\n",
        "\n",
        "a = 34\n",
        "b = a\n",
        "a = 56\n",
        "print (b)\n",
        "print(a)\n"
      ],
      "metadata": {
        "colab": {
          "base_uri": "https://localhost:8080/"
        },
        "id": "-OmMD6qWuLx3",
        "outputId": "0ba86495-b010-40de-8ffc-f3c179a6a493"
      },
      "execution_count": null,
      "outputs": [
        {
          "output_type": "stream",
          "name": "stdout",
          "text": [
            "34\n",
            "56\n"
          ]
        }
      ]
    }
  ]
}