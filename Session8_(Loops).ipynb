{
  "nbformat": 4,
  "nbformat_minor": 0,
  "metadata": {
    "colab": {
      "provenance": [],
      "include_colab_link": true
    },
    "kernelspec": {
      "name": "python3",
      "display_name": "Python 3"
    },
    "language_info": {
      "name": "python"
    }
  },
  "cells": [
    {
      "cell_type": "markdown",
      "metadata": {
        "id": "view-in-github",
        "colab_type": "text"
      },
      "source": [
        "<a href=\"https://colab.research.google.com/github/jaweria01/Python_Volunteer_Course/blob/main/Session8_(Loops).ipynb\" target=\"_parent\"><img src=\"https://colab.research.google.com/assets/colab-badge.svg\" alt=\"Open In Colab\"/></a>"
      ]
    },
    {
      "cell_type": "markdown",
      "source": [
        "# **Looping Control**"
      ],
      "metadata": {
        "id": "jSrg8x_V-XFz"
      }
    },
    {
      "cell_type": "markdown",
      "source": [
        "Loops in Python are used to repeat actions efficiently. The main types are For loops (counting through items)\n",
        "and While loops (based on conditions)."
      ],
      "metadata": {
        "id": "n5Kk0k7gBslF"
      }
    },
    {
      "cell_type": "markdown",
      "source": [
        "## **for Loop**"
      ],
      "metadata": {
        "id": "_TFwkm22B_8A"
      }
    },
    {
      "cell_type": "markdown",
      "source": [
        "For loops is used to iterate over a sequence such as list, tuple, string or range.\n",
        "\n",
        " It allow to execute a block of code repeatedly, once for each item in the sequence."
      ],
      "metadata": {
        "id": "w0uDzyFbB3rk"
      }
    },
    {
      "cell_type": "code",
      "source": [
        "fruits = [\"apple\", \"banana\", \"mango\"]\n",
        "for fruit in fruits:\n",
        "    print(fruit)"
      ],
      "metadata": {
        "id": "OzyMrs1BCLxt"
      },
      "execution_count": null,
      "outputs": []
    },
    {
      "cell_type": "markdown",
      "source": [
        "## **While Loop**"
      ],
      "metadata": {
        "id": "YLXqLy13_AO5"
      }
    },
    {
      "cell_type": "markdown",
      "source": [
        "While Loop\n",
        "The while loop repeatedly executes a block of code as long as a given condition remains\n",
        "True. It checks the condition before each iteration.\n"
      ],
      "metadata": {
        "id": "d44bOA4KhV9A"
      }
    },
    {
      "cell_type": "code",
      "source": [
        "i = 1\n",
        "while i < 6:\n",
        "  print(i)\n",
        "  i += 1\n",
        "\n",
        "\n"
      ],
      "metadata": {
        "id": "T_JJ55W6hVnt",
        "colab": {
          "base_uri": "https://localhost:8080/"
        },
        "outputId": "cd3e31f9-4149-47f6-a99f-d7d1fe552122"
      },
      "execution_count": null,
      "outputs": [
        {
          "output_type": "stream",
          "name": "stdout",
          "text": [
            "1\n",
            "2\n",
            "3\n",
            "4\n",
            "5\n"
          ]
        }
      ]
    },
    {
      "cell_type": "markdown",
      "source": [
        "## **Combining loop + conditions**"
      ],
      "metadata": {
        "id": "UMUbNbjN_Jel"
      }
    },
    {
      "cell_type": "markdown",
      "source": [
        "else Statement: An else clause can be added to loops. It executes after the loop\n",
        "finishes normally (i.e., not terminated by break). Example:\n"
      ],
      "metadata": {
        "id": "kzlyysALh2R-"
      }
    },
    {
      "cell_type": "code",
      "source": [
        "i = 1\n",
        "while i < 6:\n",
        "  print(i)\n",
        "  if i == 3:\n",
        "    break\n",
        "  i += 1\n",
        "\n",
        "\n"
      ],
      "metadata": {
        "id": "cyzNHE7fh8M_",
        "colab": {
          "base_uri": "https://localhost:8080/"
        },
        "outputId": "a1eb7c59-7f7c-4609-cb8f-9d55e0971618"
      },
      "execution_count": null,
      "outputs": [
        {
          "output_type": "stream",
          "name": "stdout",
          "text": [
            "1\n",
            "2\n",
            "3\n"
          ]
        }
      ]
    },
    {
      "cell_type": "code",
      "source": [
        "i = 0\n",
        "while i < 6:\n",
        "  i += 1\n",
        "  if i == 3:\n",
        "    continue\n",
        "  print(i)"
      ],
      "metadata": {
        "id": "0esVTjV8_Bzx"
      },
      "execution_count": null,
      "outputs": []
    },
    {
      "cell_type": "code",
      "source": [
        "i = 1\n",
        "while i < 6:\n",
        "  print(i)\n",
        "  i += 1\n",
        "else:\n",
        "  print(\"i is no longer less than 6\")"
      ],
      "metadata": {
        "id": "w1aMqR2x_G00"
      },
      "execution_count": null,
      "outputs": []
    },
    {
      "cell_type": "code",
      "source": [
        "n = 4\n",
        "for i in range(0, n):\n",
        "    print(i)"
      ],
      "metadata": {
        "id": "AhwuE8_Mqk1b",
        "colab": {
          "base_uri": "https://localhost:8080/"
        },
        "outputId": "d2ed29fc-e1bd-480c-c070-372b807cfa3f"
      },
      "execution_count": null,
      "outputs": [
        {
          "output_type": "stream",
          "name": "stdout",
          "text": [
            "0\n",
            "1\n",
            "2\n",
            "3\n"
          ]
        }
      ]
    },
    {
      "cell_type": "markdown",
      "source": [
        "## **Iterating Over List, Tuple, String and Dictionary Using for Loops**"
      ],
      "metadata": {
        "id": "MNZujjDMvin_"
      }
    },
    {
      "cell_type": "code",
      "source": [
        "li = [\"geeks\", \"for\", \"geeks\"]\n",
        "for x in li:\n",
        "    print(x)\n",
        "\n"
      ],
      "metadata": {
        "id": "F9Y0T22-uJrR",
        "colab": {
          "base_uri": "https://localhost:8080/"
        },
        "outputId": "0ca6343e-84ec-44f0-cf66-c0264ab0eb6e"
      },
      "execution_count": null,
      "outputs": [
        {
          "output_type": "stream",
          "name": "stdout",
          "text": [
            "geeks\n",
            "for\n",
            "geeks\n"
          ]
        }
      ]
    },
    {
      "cell_type": "code",
      "source": [
        "tup = (\"geeks\", \"for\", \"geeks\")\n",
        "for x in tup:\n",
        "    print(x)\n",
        "\n"
      ],
      "metadata": {
        "id": "UpQ3OUTRuPJF",
        "colab": {
          "base_uri": "https://localhost:8080/"
        },
        "outputId": "01881b9b-89c4-457a-d83b-fa53fd4614b9"
      },
      "execution_count": null,
      "outputs": [
        {
          "output_type": "stream",
          "name": "stdout",
          "text": [
            "geeks\n",
            "for\n",
            "geeks\n"
          ]
        }
      ]
    },
    {
      "cell_type": "code",
      "source": [
        "s = \"abc\"\n",
        "for x in s:\n",
        "    print(x)\n",
        "\n"
      ],
      "metadata": {
        "id": "QWpUdE_VuRFM",
        "colab": {
          "base_uri": "https://localhost:8080/"
        },
        "outputId": "a7eca721-4ea6-4bd8-d9a0-36804f2e5f10"
      },
      "execution_count": null,
      "outputs": [
        {
          "output_type": "stream",
          "name": "stdout",
          "text": [
            "a\n",
            "b\n",
            "c\n"
          ]
        }
      ]
    },
    {
      "cell_type": "code",
      "source": [
        "d = dict({'x':123, 'y':354})\n",
        "for x in d:\n",
        "    print(\"%s  %d\" % (x, d[x]))\n",
        "\n"
      ],
      "metadata": {
        "id": "w6JJX1eFuVQE"
      },
      "execution_count": null,
      "outputs": []
    },
    {
      "cell_type": "code",
      "source": [
        "set1 = {10, 30, 20}\n",
        "for x in set1:\n",
        "    print(x),"
      ],
      "metadata": {
        "id": "IBD3C_XSuXKy"
      },
      "execution_count": null,
      "outputs": []
    },
    {
      "cell_type": "code",
      "source": [
        "li = [\"ali\", \"anam\", \"sara\"]\n",
        "for index in range(len(li)):\n",
        "    print(li[index])"
      ],
      "metadata": {
        "id": "eDh27hROuqxJ",
        "colab": {
          "base_uri": "https://localhost:8080/"
        },
        "outputId": "82d4a3c3-94e7-4abf-bd3d-56da91b15a3c"
      },
      "execution_count": null,
      "outputs": [
        {
          "output_type": "stream",
          "name": "stdout",
          "text": [
            "ali\n",
            "anam\n",
            "sara\n"
          ]
        }
      ]
    },
    {
      "cell_type": "markdown",
      "source": [],
      "metadata": {
        "id": "U07Vsi6Z-Vbi"
      }
    },
    {
      "cell_type": "markdown",
      "source": [
        "## **Nested Loops**\n",
        "\n",
        "When you place one loop inside another;\n",
        "\n",
        "```\n",
        "i=0, j=0\n",
        "i=0, j=1\n",
        "i=1, j=0\n",
        "```\n",
        "\n"
      ],
      "metadata": {
        "id": "bHhHzM56wQDj"
      }
    },
    {
      "cell_type": "code",
      "source": [
        "for i in range(3):\n",
        "    for j in range(2):\n",
        "        print(f\"i={i}, j={j}\")\n"
      ],
      "metadata": {
        "id": "GEbsnWrOwUoA",
        "colab": {
          "base_uri": "https://localhost:8080/"
        },
        "outputId": "a47ab676-8c90-40bb-9cb8-c9dc3ec9c279"
      },
      "execution_count": null,
      "outputs": [
        {
          "output_type": "stream",
          "name": "stdout",
          "text": [
            "i=0, j=0\n",
            "i=0, j=1\n",
            "i=1, j=0\n",
            "i=1, j=1\n",
            "i=2, j=0\n",
            "i=2, j=1\n"
          ]
        }
      ]
    },
    {
      "cell_type": "markdown",
      "source": [
        "##  **Jump control (break, continue, pass)**"
      ],
      "metadata": {
        "id": "BhII814NArOJ"
      }
    },
    {
      "cell_type": "markdown",
      "source": [
        "### **break**"
      ],
      "metadata": {
        "id": "UAfl5N-_BLfI"
      }
    },
    {
      "cell_type": "code",
      "source": [
        "fruits = [\"apple\", \"banana\", \"cherry\"]\n",
        "for x in fruits:\n",
        "  if x == \"banana\":\n",
        "    break\n",
        "  print(x)"
      ],
      "metadata": {
        "id": "md75yeDxugrA",
        "colab": {
          "base_uri": "https://localhost:8080/"
        },
        "outputId": "82a9f3d0-98ed-4d96-b5cd-9c8fade4372f"
      },
      "execution_count": null,
      "outputs": [
        {
          "output_type": "stream",
          "name": "stdout",
          "text": [
            "apple\n"
          ]
        }
      ]
    },
    {
      "cell_type": "markdown",
      "source": [
        "### continue"
      ],
      "metadata": {
        "id": "IXb8C4nQBQin"
      }
    },
    {
      "cell_type": "code",
      "source": [
        "fruits = [\"apple\", \"banana\", \"cherry\"]\n",
        "for x in fruits:\n",
        "  if x == \"banana\":\n",
        "    continue\n",
        "  print(x)"
      ],
      "metadata": {
        "colab": {
          "base_uri": "https://localhost:8080/"
        },
        "id": "Y6AFdXJG3geP",
        "outputId": "840c27eb-7d9b-45f4-ae40-3981b12f5907"
      },
      "execution_count": null,
      "outputs": [
        {
          "output_type": "stream",
          "name": "stdout",
          "text": [
            "apple\n",
            "cherry\n"
          ]
        }
      ]
    },
    {
      "cell_type": "markdown",
      "source": [
        "### **Pass**"
      ],
      "metadata": {
        "id": "tV7KFe48BXwZ"
      }
    },
    {
      "cell_type": "code",
      "source": [
        "for in in range(6):\n",
        "    pass"
      ],
      "metadata": {
        "id": "LK8_Ey5-Bb8y"
      },
      "execution_count": null,
      "outputs": []
    },
    {
      "cell_type": "code",
      "source": [
        "for x in range(6):\n",
        "  print(x)"
      ],
      "metadata": {
        "colab": {
          "base_uri": "https://localhost:8080/"
        },
        "id": "73IeUqv0374z",
        "outputId": "36ef019c-124a-4769-a28a-87e106ec20df"
      },
      "execution_count": null,
      "outputs": [
        {
          "output_type": "stream",
          "name": "stdout",
          "text": [
            "0\n",
            "1\n",
            "2\n",
            "3\n",
            "4\n",
            "5\n"
          ]
        }
      ]
    },
    {
      "cell_type": "code",
      "source": [
        "for x in range(2, 6):\n",
        "  print(x)"
      ],
      "metadata": {
        "colab": {
          "base_uri": "https://localhost:8080/"
        },
        "id": "gLG68Em64FL3",
        "outputId": "107cd698-27d3-4c07-f1b3-e7363394e4ac"
      },
      "execution_count": null,
      "outputs": [
        {
          "output_type": "stream",
          "name": "stdout",
          "text": [
            "2\n",
            "3\n",
            "4\n",
            "5\n"
          ]
        }
      ]
    },
    {
      "cell_type": "code",
      "source": [
        "for x in range(2, 30, 5):\n",
        "  print(x)"
      ],
      "metadata": {
        "colab": {
          "base_uri": "https://localhost:8080/"
        },
        "id": "81BkfAFu4MgD",
        "outputId": "c34b8e39-1bc0-42d7-ab58-0449e80dbb63"
      },
      "execution_count": null,
      "outputs": [
        {
          "output_type": "stream",
          "name": "stdout",
          "text": [
            "2\n",
            "7\n",
            "12\n",
            "17\n",
            "22\n",
            "27\n"
          ]
        }
      ]
    },
    {
      "cell_type": "code",
      "source": [
        "for x in range(6):\n",
        "  print(x)\n",
        "else:\n",
        "  print(\"Finally finished!\")"
      ],
      "metadata": {
        "colab": {
          "base_uri": "https://localhost:8080/"
        },
        "id": "Xpd7MBQM4kSM",
        "outputId": "129aecd8-1da3-449e-fb35-21ea34d14afc"
      },
      "execution_count": null,
      "outputs": [
        {
          "output_type": "stream",
          "name": "stdout",
          "text": [
            "0\n",
            "1\n",
            "2\n",
            "3\n",
            "4\n",
            "5\n",
            "Finally finished!\n"
          ]
        }
      ]
    },
    {
      "cell_type": "code",
      "source": [
        "for x in range(6):\n",
        "  if x == 3: break\n",
        "  print(x)\n",
        "else:\n",
        "  print(\"Finally finished!\")"
      ],
      "metadata": {
        "colab": {
          "base_uri": "https://localhost:8080/"
        },
        "id": "hcc-9d854xFj",
        "outputId": "b9fedce5-72a8-4d6f-cecf-a88a8b748e3f"
      },
      "execution_count": null,
      "outputs": [
        {
          "output_type": "stream",
          "name": "stdout",
          "text": [
            "0\n",
            "1\n",
            "2\n"
          ]
        }
      ]
    },
    {
      "cell_type": "code",
      "source": [
        "adj = (1, 2, 3)\n",
        "fruits = [\"apple\", \"banana\", \"cherry\"]\n",
        "\n",
        "for x in adj:\n",
        "  for y in fruits:\n",
        "    print(x, y)"
      ],
      "metadata": {
        "colab": {
          "base_uri": "https://localhost:8080/"
        },
        "id": "-5gC1Sk54-q2",
        "outputId": "2b20d062-16c8-4add-fce1-8b8d25442aaf"
      },
      "execution_count": null,
      "outputs": [
        {
          "output_type": "stream",
          "name": "stdout",
          "text": [
            "1 apple\n",
            "1 banana\n",
            "1 cherry\n",
            "2 apple\n",
            "2 banana\n",
            "2 cherry\n",
            "3 apple\n",
            "3 banana\n",
            "3 cherry\n"
          ]
        }
      ]
    },
    {
      "cell_type": "code",
      "source": [
        "for x in [0, 1, 2]:\n"
      ],
      "metadata": {
        "colab": {
          "base_uri": "https://localhost:8080/",
          "height": 110
        },
        "id": "SmZvqDH15vj5",
        "outputId": "a5aecaaf-03a7-4807-bae6-5bb607e8da64"
      },
      "execution_count": null,
      "outputs": [
        {
          "output_type": "error",
          "ename": "SyntaxError",
          "evalue": "incomplete input (ipython-input-2097983358.py, line 2)",
          "traceback": [
            "\u001b[0;36m  File \u001b[0;32m\"/tmp/ipython-input-2097983358.py\"\u001b[0;36m, line \u001b[0;32m2\u001b[0m\n\u001b[0;31m    \u001b[0m\n\u001b[0m    ^\u001b[0m\n\u001b[0;31mSyntaxError\u001b[0m\u001b[0;31m:\u001b[0m incomplete input\n"
          ]
        }
      ]
    },
    {
      "cell_type": "markdown",
      "source": [],
      "metadata": {
        "id": "I6kL9J9FqcmE"
      }
    }
  ]
}