{
  "nbformat": 4,
  "nbformat_minor": 0,
  "metadata": {
    "colab": {
      "provenance": [],
      "include_colab_link": true
    },
    "kernelspec": {
      "name": "python3",
      "display_name": "Python 3"
    },
    "language_info": {
      "name": "python"
    }
  },
  "cells": [
    {
      "cell_type": "markdown",
      "metadata": {
        "id": "view-in-github",
        "colab_type": "text"
      },
      "source": [
        "<a href=\"https://colab.research.google.com/github/jaweria01/Python_Volunteer_Course/blob/main/Session18_(OOP_Relationships).ipynb\" target=\"_parent\"><img src=\"https://colab.research.google.com/assets/colab-badge.svg\" alt=\"Open In Colab\"/></a>"
      ]
    },
    {
      "cell_type": "markdown",
      "source": [
        " **Static vs Instance Variables**\n",
        "\n",
        "🧩 Instance Variable\n",
        "\n",
        "Belongs to the object (instance).\n",
        "\n",
        "Each object has its own copy.\n",
        "\n",
        "Defined inside __init__()"
      ],
      "metadata": {
        "id": "KbiwaWhNj_XA"
      }
    },
    {
      "cell_type": "code",
      "source": [
        "class Car:\n",
        "    def __init__(self, brand):\n",
        "        self.brand = brand  # instance variable\n",
        "\n",
        "car1 = Car(\"Toyota\")\n",
        "car2 = Car(\"Honda\")\n",
        "\n",
        "print(car1.brand)  # Toyota\n",
        "print(car2.brand)  # Honda\n"
      ],
      "metadata": {
        "colab": {
          "base_uri": "https://localhost:8080/"
        },
        "id": "3CmoHtH6kGL0",
        "outputId": "0155a3f5-bc7f-4230-e505-8a4a8bd776a0"
      },
      "execution_count": null,
      "outputs": [
        {
          "output_type": "stream",
          "name": "stdout",
          "text": [
            "Toyota\n",
            "Honda\n"
          ]
        }
      ]
    },
    {
      "cell_type": "markdown",
      "source": [
        "⚡ Main Difference: Static vs Instance Variable\n",
        "\n",
        "Feature       \t | Static Variable (Class Variable)          | Instance Variable\n",
        "\n",
        "Belongs to       |\tThe class                                |\tEach object (instance)\n",
        "\n",
        "Shared by        |\t✅ All objects share one copy\t          |❌ Each object has its own copy\n",
        "\n",
        "Defined\t         |Inside class but outside any method      \t |Inside the __init__() constructor\n",
        "\n",
        "Accessed by      |\tClassName.variable or self.variable      |\tself.variable\n",
        "\n",
        "Memory Allocation|\tHappens once when class is created       |Happens each time a new\n",
        "\n",
        "object is created\n",
        "\n",
        "Change effect    |\tChanging it via class affects all objects|\tChanging it affects\n",
        "\n",
        "only that one object\n"
      ],
      "metadata": {
        "id": "R06_N58NmNAY"
      }
    },
    {
      "cell_type": "markdown",
      "source": [
        "**⚡ Static (Class) Variable**\n",
        "\n",
        "Shared by all objects of the class.\n",
        "\n",
        "Defined outside methods, directly under the class."
      ],
      "metadata": {
        "id": "KwHDVTPIkNko"
      }
    },
    {
      "cell_type": "code",
      "source": [
        "class Car:\n",
        "    wheels = 4  # static (class) variable\n",
        "\n",
        "    def __init__(self, brand):\n",
        "        self.brand = brand\n",
        "\n",
        "car1 = Car(\"Toyota\")\n",
        "car2 = Car(\"Honda\")\n",
        "\n",
        "print(car1.wheels)\n",
        "print(car2.wheels)\n",
        "print(car1.brand)\n",
        "Car.wheels = 5\n",
        "print(car1.wheels)\n"
      ],
      "metadata": {
        "colab": {
          "base_uri": "https://localhost:8080/"
        },
        "id": "BK4nZu3HkPUB",
        "outputId": "2799e6e9-b184-4d18-d125-a348c8ffb24a"
      },
      "execution_count": null,
      "outputs": [
        {
          "output_type": "stream",
          "name": "stdout",
          "text": [
            "4\n",
            "4\n",
            "Toyota\n",
            "5\n"
          ]
        }
      ]
    },
    {
      "cell_type": "markdown",
      "source": [
        "**Inheritance Types**\n",
        "\n",
        "🧠 What is Inheritance?\n",
        "\n",
        "It allows a class to inherit properties and methods from another class."
      ],
      "metadata": {
        "id": "207eygAPkbjB"
      }
    },
    {
      "cell_type": "markdown",
      "source": [
        "**1️⃣ Single Inheritance**"
      ],
      "metadata": {
        "id": "qqfxvgpUkhXx"
      }
    },
    {
      "cell_type": "code",
      "source": [
        "class Parent:\n",
        "    def greet(self):\n",
        "        print(\"Hello from Parent\")\n",
        "\n",
        "class Child(Parent):\n",
        "    def intro(self):\n",
        "        print(\"Hello from Child\")\n",
        "\n",
        "obj = Child()\n",
        "obj.greet()  # inherited from Parent\n",
        "obj.intro()\n"
      ],
      "metadata": {
        "colab": {
          "base_uri": "https://localhost:8080/"
        },
        "id": "xGh1cMqukki8",
        "outputId": "6b50cc56-b515-4a74-f2f6-5e296618de73"
      },
      "execution_count": null,
      "outputs": [
        {
          "output_type": "stream",
          "name": "stdout",
          "text": [
            "Hello from Parent\n",
            "Hello from Child\n"
          ]
        }
      ]
    },
    {
      "cell_type": "markdown",
      "source": [
        "**2️⃣ Multiple Inheritance**\n",
        "\n",
        "A class inherits from more than one parent."
      ],
      "metadata": {
        "id": "oLE2gyeZkov0"
      }
    },
    {
      "cell_type": "code",
      "source": [
        "class Father:\n",
        "    def skill(self):\n",
        "        print(\"Good in driving\")\n",
        "\n",
        "class Mother:\n",
        "    def talent(self):\n",
        "        print(\"Good in cooking\")\n",
        "\n",
        "class Child(Father, Mother):\n",
        "    print('hello')\n",
        "\n",
        "c = Child()\n",
        "#b=Father('python')\n",
        "c.skill()\n",
        "c.talent()\n"
      ],
      "metadata": {
        "colab": {
          "base_uri": "https://localhost:8080/"
        },
        "id": "9ev9R1ogksUS",
        "outputId": "cc8427f0-60f5-475f-d016-6f61afa099d9"
      },
      "execution_count": null,
      "outputs": [
        {
          "output_type": "stream",
          "name": "stdout",
          "text": [
            "hello\n",
            "Good in cooking\n"
          ]
        }
      ]
    },
    {
      "cell_type": "markdown",
      "source": [
        "**3️⃣ Multilevel Inheritance**\n",
        "\n",
        "A class inherits from another child class (chain)."
      ],
      "metadata": {
        "id": "FxAYC_WfkvG0"
      }
    },
    {
      "cell_type": "code",
      "source": [
        "class Grandparent:\n",
        "    def greet(self):\n",
        "        print(\"Hello from Grandparent\")\n",
        "\n",
        "class Parent(Grandparent):\n",
        "    print('python')\n",
        "\n",
        "class Child(Parent):\n",
        "    pass\n",
        "\n",
        "c = Child()\n",
        "c.greet()\n"
      ],
      "metadata": {
        "colab": {
          "base_uri": "https://localhost:8080/"
        },
        "id": "5mGU7g2lkzP8",
        "outputId": "bc8e15aa-e68a-42e9-8fbf-c0f2b6449b3f"
      },
      "execution_count": null,
      "outputs": [
        {
          "output_type": "stream",
          "name": "stdout",
          "text": [
            "python\n",
            "Hello from Grandparent\n"
          ]
        }
      ]
    },
    {
      "cell_type": "markdown",
      "source": [
        "**4️⃣ Hierarchical Inheritance**\n",
        "\n",
        "Multiple child classes share the same parent."
      ],
      "metadata": {
        "id": "Eshkk0Fwk3tk"
      }
    },
    {
      "cell_type": "code",
      "source": [
        "class Parent:\n",
        "    def greet(self):\n",
        "        print(\"Hello from Parent\")\n",
        "\n",
        "class Child1(Parent):\n",
        "    print(\"hy\")\n",
        "\n",
        "class Child2(Parent):\n",
        "    print(\"by\")\n",
        "\n",
        "obj1 = Child1()\n",
        "obj2 = Child2()\n",
        "\n",
        "obj1.greet()\n",
        "\n"
      ],
      "metadata": {
        "colab": {
          "base_uri": "https://localhost:8080/"
        },
        "id": "uFAKFzMhk7VP",
        "outputId": "0e3ed967-3906-4fa3-e3c8-3e3d22f5ecd2"
      },
      "execution_count": null,
      "outputs": [
        {
          "output_type": "stream",
          "name": "stdout",
          "text": [
            "hy\n",
            "by\n",
            "Hello from Parent\n"
          ]
        }
      ]
    },
    {
      "cell_type": "markdown",
      "source": [
        "**super() Keyword**\n",
        "\n",
        "Used to call parent class methods or constructors."
      ],
      "metadata": {
        "id": "VmrZOFNak-GU"
      }
    },
    {
      "cell_type": "code",
      "source": [
        "class Parent:\n",
        "    def __init__(self):\n",
        "        print(\"Parent constructor\")\n",
        "\n",
        "class Child(Parent):\n",
        "    def __init__(self):\n",
        "        super().__init__()  # calls parent constructor\n",
        "        print(\"Child constructor\")\n",
        "\n",
        "obj = Child()\n"
      ],
      "metadata": {
        "colab": {
          "base_uri": "https://localhost:8080/"
        },
        "id": "FEKvpdXmlFsO",
        "outputId": "0fb004fb-f88a-4eb8-9079-0b733b7cbcbc"
      },
      "execution_count": null,
      "outputs": [
        {
          "output_type": "stream",
          "name": "stdout",
          "text": [
            "Parent constructor\n",
            "Child constructor\n"
          ]
        }
      ]
    },
    {
      "cell_type": "markdown",
      "source": [
        "Also used to access parent methods:"
      ],
      "metadata": {
        "id": "O2yoxQuLlJN9"
      }
    },
    {
      "cell_type": "code",
      "source": [
        "class Parent:\n",
        "    def show(self):\n",
        "        print(\"Parent show\")\n",
        "\n",
        "class Child(Parent):\n",
        "    def show(self):\n",
        "        super().show()\n",
        "        print(\"Child show\")\n",
        "\n",
        "c = Child()\n",
        "c.show()\n"
      ],
      "metadata": {
        "colab": {
          "base_uri": "https://localhost:8080/"
        },
        "id": "vCM_Lo8DlMkn",
        "outputId": "533439aa-e38b-47c3-8f77-7cba9cb096c4"
      },
      "execution_count": null,
      "outputs": [
        {
          "output_type": "stream",
          "name": "stdout",
          "text": [
            "Parent show\n",
            "Child show\n"
          ]
        }
      ]
    },
    {
      "cell_type": "markdown",
      "source": [
        "**Polymorphism**\n",
        "\n",
        "Means “many forms” — same method name behaves differently for different objects.\n",
        "\n",
        "Example: Method Overriding"
      ],
      "metadata": {
        "id": "G-T_qxvWlQU5"
      }
    },
    {
      "cell_type": "code",
      "source": [
        "class Animal:\n",
        "    def speak(self):\n",
        "        print(\"Animal speaks\")\n",
        "\n",
        "class Dog(Animal):\n",
        "    def speak(self):\n",
        "        print(\"Dog barks\")\n",
        "\n",
        "class Cat(Animal):\n",
        "    def speak(self):\n",
        "        print(\"Cat meows\")\n",
        "\n",
        "for animal in [Dog(), Cat()]:\n",
        "    animal.speak()\n"
      ],
      "metadata": {
        "colab": {
          "base_uri": "https://localhost:8080/"
        },
        "id": "2xJHgs58lUun",
        "outputId": "46190c2e-1fb0-486c-be87-4d8b8bae0b32"
      },
      "execution_count": null,
      "outputs": [
        {
          "output_type": "stream",
          "name": "stdout",
          "text": [
            "Dog barks\n",
            "Cat meows\n"
          ]
        }
      ]
    },
    {
      "cell_type": "markdown",
      "source": [
        "**Abstraction**\n",
        "\n",
        "Means hiding complex details and showing only essential features.\n",
        "\n",
        "(It’s like saying:\n",
        "\n",
        "“Tell me what it does, not how it does it.”)\n",
        "\n",
        "In Python, we use the abc module (Abstract Base Class)."
      ],
      "metadata": {
        "id": "aU-Ym5Y0lX2v"
      }
    },
    {
      "cell_type": "code",
      "source": [
        "from abc import ABC, abstractmethod\n",
        "\n",
        "class Vehicle(ABC):\n",
        "    @abstractmethod\n",
        "    def start(self):\n",
        "        print('hy')\n",
        "\n",
        "class Car(Vehicle):\n",
        "    def start(self):\n",
        "        print(\"Car starts with a key\")\n",
        "\n",
        "c = Car()\n",
        "c.start()\n"
      ],
      "metadata": {
        "colab": {
          "base_uri": "https://localhost:8080/"
        },
        "id": "y9hutjbrlcDQ",
        "outputId": "edeccc92-b801-4b87-88be-4c45a6b0b6be"
      },
      "execution_count": null,
      "outputs": [
        {
          "output_type": "stream",
          "name": "stdout",
          "text": [
            "Car starts with a key\n"
          ]
        }
      ]
    },
    {
      "cell_type": "markdown",
      "source": [
        "🧠 You can’t create an object of an abstract class directly."
      ],
      "metadata": {
        "id": "VMDwQlKwliqK"
      }
    }
  ]
}