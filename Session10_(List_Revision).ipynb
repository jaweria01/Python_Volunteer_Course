{
  "nbformat": 4,
  "nbformat_minor": 0,
  "metadata": {
    "colab": {
      "provenance": [],
      "include_colab_link": true
    },
    "kernelspec": {
      "name": "python3",
      "display_name": "Python 3"
    },
    "language_info": {
      "name": "python"
    }
  },
  "cells": [
    {
      "cell_type": "markdown",
      "metadata": {
        "id": "view-in-github",
        "colab_type": "text"
      },
      "source": [
        "<a href=\"https://colab.research.google.com/github/jaweria01/Python_Volunteer_Course/blob/main/Session10_(List_Revision).ipynb\" target=\"_parent\"><img src=\"https://colab.research.google.com/assets/colab-badge.svg\" alt=\"Open In Colab\"/></a>"
      ]
    },
    {
      "cell_type": "markdown",
      "source": [
        "## **List Revision**"
      ],
      "metadata": {
        "id": "2bCz32W17DX3"
      }
    },
    {
      "cell_type": "markdown",
      "source": [
        "### **Enumerate**"
      ],
      "metadata": {
        "id": "c8nBsWctNjK-"
      }
    },
    {
      "cell_type": "code",
      "source": [
        "num=[12,16,\"ali\",34,87]\n",
        "print(enumerate(num))                         ##  will give the adress of the list\n",
        "print(list(enumerate(num)))                   ## will generate a list in ordered pair first is for index and second for value\n",
        "print(type(enumerate(num)))                   ## will give the data type\n",
        "\n"
      ],
      "metadata": {
        "colab": {
          "base_uri": "https://localhost:8080/"
        },
        "id": "_GMvKwUS6Wuv",
        "outputId": "b254e3df-9825-4e61-a6ae-3cb01d6d4b1f"
      },
      "execution_count": null,
      "outputs": [
        {
          "output_type": "stream",
          "name": "stdout",
          "text": [
            "<enumerate object at 0x7e765f099ad0>\n",
            "[(0, 12), (1, 16), (2, 'ali'), (3, 34), (4, 87)]\n",
            "<class 'enumerate'>\n"
          ]
        }
      ]
    },
    {
      "cell_type": "code",
      "source": [
        "num=[12,16,\"ali\",34,87]\n",
        "new=list(enumerate(num))\n",
        "print(new)\n",
        "print(type(new))\n",
        "print(type(new[1]))                           ###  In enumerate data type is list and elements in list behave as tuple\n"
      ],
      "metadata": {
        "colab": {
          "base_uri": "https://localhost:8080/"
        },
        "id": "fcQez_NM6uPj",
        "outputId": "1dae9f07-0d3c-4866-a984-357940e0a297"
      },
      "execution_count": null,
      "outputs": [
        {
          "output_type": "stream",
          "name": "stdout",
          "text": [
            "[(0, 12), (1, 16), (2, 'ali'), (3, 34), (4, 87)]\n",
            "<class 'list'>\n",
            "<class 'tuple'>\n"
          ]
        }
      ]
    },
    {
      "cell_type": "markdown",
      "source": [
        "# Iterable"
      ],
      "metadata": {
        "id": "Ji06ldGF7Sdk"
      }
    },
    {
      "cell_type": "code",
      "source": [
        "##list(iterabel)##\n",
        "Fruit=\"Apple\"\n",
        "print(list(Fruit))               ### length of string is same as the length of the output.\n",
        "                                 ### it makes the element to every character.\n",
        "                                 ### it is applicable on string not on integer"
      ],
      "metadata": {
        "colab": {
          "base_uri": "https://localhost:8080/"
        },
        "id": "J2jHgyhC7UNj",
        "outputId": "eeaf822d-0482-46a7-fd4b-a0aac5b28837"
      },
      "execution_count": null,
      "outputs": [
        {
          "output_type": "stream",
          "name": "stdout",
          "text": [
            "['A', 'p', 'p', 'l', 'e']\n"
          ]
        }
      ]
    },
    {
      "cell_type": "markdown",
      "source": [
        "# Append"
      ],
      "metadata": {
        "id": "MZhuH3nE7xRK"
      }
    },
    {
      "cell_type": "code",
      "source": [
        "l1=[12,16,\"ali\",34,87]\n",
        "print(l1)\n",
        "print(len(l1))\n",
        "l1.append(90)\n",
        "print(l1)      ### append  update the list and it will always create new element at the last of the list\n",
        "                        ### it will not create a new list. we can not generate a new variable to append it give answer\n",
        "                        ### none because it update the origional list not create a new list\n",
        "\n",
        "\n",
        "\n",
        "\n"
      ],
      "metadata": {
        "colab": {
          "base_uri": "https://localhost:8080/"
        },
        "id": "1Vg4C9_z734z",
        "outputId": "3b34c49a-b48e-47d6-95d1-0e3adebab5d6"
      },
      "execution_count": null,
      "outputs": [
        {
          "output_type": "stream",
          "name": "stdout",
          "text": [
            "[12, 16, 'ali', 34, 87]\n",
            "5\n",
            "[12, 16, 'ali', 34, 87, 90]\n"
          ]
        }
      ]
    },
    {
      "cell_type": "code",
      "source": [
        "l1=[12,16,\"ali\",34,87]\n",
        "print(l1)\n",
        "print (len(l1))\n",
        "l1.append([1,2,3,4,5])\n",
        "print(l1)"
      ],
      "metadata": {
        "colab": {
          "base_uri": "https://localhost:8080/"
        },
        "id": "YbRuRSC082X_",
        "outputId": "758d801e-a42d-4585-d886-4090b9c03bc7"
      },
      "execution_count": null,
      "outputs": [
        {
          "output_type": "stream",
          "name": "stdout",
          "text": [
            "[12, 16, 'ali', 34, 87]\n",
            "5\n",
            "[12, 16, 'ali', 34, 87, [1, 2, 3, 4, 5]]\n"
          ]
        }
      ]
    },
    {
      "cell_type": "code",
      "source": [
        "l1=[12,16,\"ali\",34,87]\n",
        "l2=[23,24,25,78,98]          ### this new list basically store on the only one element\n",
        "l1.append(l2)\n",
        "print(l1)\n",
        "print(len(l1))"
      ],
      "metadata": {
        "colab": {
          "base_uri": "https://localhost:8080/"
        },
        "id": "28bcI7uz8sK7",
        "outputId": "54b8b46b-affe-4f74-f1cd-b3a7b7cb6774"
      },
      "execution_count": null,
      "outputs": [
        {
          "output_type": "stream",
          "name": "stdout",
          "text": [
            "[12, 16, 'ali', 34, 87, [23, 24, 25, 78, 98]]\n",
            "6\n"
          ]
        }
      ]
    },
    {
      "cell_type": "markdown",
      "source": [
        "# Extend"
      ],
      "metadata": {
        "id": "Q16M2ZrA76Sf"
      }
    },
    {
      "cell_type": "code",
      "source": [
        "\n",
        "#### extend function\n",
        "l1=[12,16,\"ali\",34,87]\n",
        "l2=[23,24,25,78,98]\n",
        "l1.extend(l2)\n",
        "print(l1)"
      ],
      "metadata": {
        "colab": {
          "base_uri": "https://localhost:8080/"
        },
        "id": "f58Bxzsc79F6",
        "outputId": "64f52e67-e360-4285-d563-1a5bd426fd00"
      },
      "execution_count": null,
      "outputs": [
        {
          "output_type": "stream",
          "name": "stdout",
          "text": [
            "[12, 16, 'ali', 34, 87, 23, 24, 25, 78, 98]\n"
          ]
        }
      ]
    },
    {
      "cell_type": "markdown",
      "source": [
        "# Insert"
      ],
      "metadata": {
        "id": "SM0269mf9SxX"
      }
    },
    {
      "cell_type": "code",
      "source": [
        "### Insert function\n",
        "\n",
        "l1=[12,16,\"ali\",34,87]\n",
        "l2=[23,24,25,78,98]\n",
        "l1.insert(0,\"ali\")        ### it store the data ali at the zero index place and update the l1 list\n",
        "                          ### after applying insert function the elements from right side move one step ahead in output\n",
        "print(l1)"
      ],
      "metadata": {
        "colab": {
          "base_uri": "https://localhost:8080/"
        },
        "id": "QM0heLGm9Trb",
        "outputId": "56b33024-6fd4-469a-b86d-0f9cbdb4c6b7"
      },
      "execution_count": null,
      "outputs": [
        {
          "output_type": "stream",
          "name": "stdout",
          "text": [
            "['ali', 12, 16, 'ali', 34, 87]\n"
          ]
        }
      ]
    },
    {
      "cell_type": "markdown",
      "source": [
        "# Remove"
      ],
      "metadata": {
        "id": "WkZZQMDf9q_S"
      }
    },
    {
      "cell_type": "code",
      "source": [
        "### remove function\n",
        "\n",
        "l1=[12,16,\"ali\",34,87]\n",
        "l2=[23,24,25,78,98]\n",
        "l2.remove(25)\n",
        "print(l2)                         ## it will remove the element and reduce the length of the list which is in output\n",
        "                                  ### after removing elements move backward one step. it cannot be stored in a new variable"
      ],
      "metadata": {
        "colab": {
          "base_uri": "https://localhost:8080/"
        },
        "id": "nKOsnJmF9toN",
        "outputId": "203f99ca-215e-46a6-c386-f449ab26e5e6"
      },
      "execution_count": null,
      "outputs": [
        {
          "output_type": "stream",
          "name": "stdout",
          "text": [
            "[23, 24, 78, 98]\n"
          ]
        }
      ]
    },
    {
      "cell_type": "markdown",
      "source": [
        "#Count"
      ],
      "metadata": {
        "id": "-BCJB7Vp-Bsj"
      }
    },
    {
      "cell_type": "code",
      "source": [
        "l1=[12,16,\"ali\",34,87,34]\n",
        "l2=[23,24,25,78,98]\n",
        "print(l1.count(34))\n",
        "\n"
      ],
      "metadata": {
        "colab": {
          "base_uri": "https://localhost:8080/"
        },
        "id": "a9LRDOaK-Dy5",
        "outputId": "aaa69f61-2343-4f0c-f404-15e7f9c83382"
      },
      "execution_count": null,
      "outputs": [
        {
          "output_type": "stream",
          "name": "stdout",
          "text": [
            "2\n"
          ]
        }
      ]
    },
    {
      "cell_type": "markdown",
      "source": [
        "# Copy\n"
      ],
      "metadata": {
        "id": "4EkP2KEl-oMe"
      }
    },
    {
      "cell_type": "code",
      "source": [
        "l1=[12,16,\"ali\",34,87,34]\n",
        "new=l1.copy()                          ## data in l1 and in copy are same just copy like store same data\n",
        "print(new)"
      ],
      "metadata": {
        "colab": {
          "base_uri": "https://localhost:8080/"
        },
        "id": "pxqqCV_n-s0b",
        "outputId": "6e72436a-b7e1-4101-9e8b-de4e51c46fed"
      },
      "execution_count": null,
      "outputs": [
        {
          "output_type": "stream",
          "name": "stdout",
          "text": [
            "[12, 16, 'ali', 34, 87, 34]\n"
          ]
        }
      ]
    }
  ]
}