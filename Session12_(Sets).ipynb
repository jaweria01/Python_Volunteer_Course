{
  "nbformat": 4,
  "nbformat_minor": 0,
  "metadata": {
    "colab": {
      "provenance": [],
      "authorship_tag": "ABX9TyPLx8qncK0ZVPGqPX/LdcwB",
      "include_colab_link": true
    },
    "kernelspec": {
      "name": "python3",
      "display_name": "Python 3"
    },
    "language_info": {
      "name": "python"
    }
  },
  "cells": [
    {
      "cell_type": "markdown",
      "metadata": {
        "id": "view-in-github",
        "colab_type": "text"
      },
      "source": [
        "<a href=\"https://colab.research.google.com/github/jaweria01/Python_Volunteer_Course/blob/main/Session12_(Sets).ipynb\" target=\"_parent\"><img src=\"https://colab.research.google.com/assets/colab-badge.svg\" alt=\"Open In Colab\"/></a>"
      ]
    },
    {
      "cell_type": "markdown",
      "source": [
        "## **Sets**\n",
        "\n",
        "A set is an unordered collection of items. Every set element is unique (no duplicates) and must be immutable (cannot be changed).\n",
        "\n",
        "However, a set itself is mutable. We can add or remove items from it.\n",
        "\n",
        "Sets can also be used to perform mathematical set operations like union, intersection, symmetric difference, etc.\n",
        "\n",
        "***Characterstics:***\n",
        "\n",
        "Unordered\n",
        "\n",
        "Mutable\n",
        "\n",
        "No Duplicates\n",
        "\n",
        "Can't contain mutable data types"
      ],
      "metadata": {
        "id": "2MPLVYyv79q3"
      }
    },
    {
      "cell_type": "code",
      "source": [
        "# unordered means that 1,2,3 = 3,2,1\n",
        "# Sets itself are mutable , but they can not take mutable data types like sets inside sets will not work / 2D sets, or list inside sets"
      ],
      "metadata": {
        "id": "PqKfWrzk7-Se"
      },
      "execution_count": null,
      "outputs": []
    },
    {
      "cell_type": "code",
      "source": [
        "l1 = [1,2,3]\n",
        "l2 = [3,2,1]\n",
        "l1== l2"
      ],
      "metadata": {
        "colab": {
          "base_uri": "https://localhost:8080/"
        },
        "id": "KAcAgyAF26np",
        "outputId": "6aedbf38-1ed2-4d6b-8e8d-c92863793041"
      },
      "execution_count": null,
      "outputs": [
        {
          "output_type": "execute_result",
          "data": {
            "text/plain": [
              "False"
            ]
          },
          "metadata": {},
          "execution_count": 14
        }
      ]
    },
    {
      "cell_type": "code",
      "source": [
        "# Creating a set\n",
        "#{}\n",
        "numbers1 = {10, 20, 30, 40, 50}\n",
        "numbers2 = {50,40,30,20,10}\n",
        "numbers1 == numbers2\n",
        "print(numbers1 == numbers2)   # ✅ Output: True\n",
        "print(numbers1)  # Output might be {40, 10, 50, 20, 30}\n"
      ],
      "metadata": {
        "colab": {
          "base_uri": "https://localhost:8080/"
        },
        "id": "Xn2ruzIYcAza",
        "outputId": "932fa889-7bc4-4ad0-d50e-4b17a3e8f256"
      },
      "execution_count": null,
      "outputs": [
        {
          "output_type": "stream",
          "name": "stdout",
          "text": [
            "{50, 20, 40, 10, 30}\n"
          ]
        }
      ]
    },
    {
      "cell_type": "markdown",
      "source": [
        "### **Creating Sets**"
      ],
      "metadata": {
        "id": "jg86W5rW9Rwe"
      }
    },
    {
      "cell_type": "markdown",
      "source": [
        "####**Empty sets**"
      ],
      "metadata": {
        "id": "EK2edSy4mvGV"
      }
    },
    {
      "cell_type": "code",
      "source": [
        "l = list()\n",
        "l"
      ],
      "metadata": {
        "colab": {
          "base_uri": "https://localhost:8080/"
        },
        "id": "wI9e_7QM3jHr",
        "outputId": "709930cb-b842-41c5-e580-442419886a9e"
      },
      "execution_count": null,
      "outputs": [
        {
          "output_type": "execute_result",
          "data": {
            "text/plain": [
              "[]"
            ]
          },
          "metadata": {},
          "execution_count": 16
        }
      ]
    },
    {
      "cell_type": "code",
      "source": [
        "# empty set\n",
        "# as sets and dictionary both have same syntax like {}, so the default syntax show dic.\n",
        "s = {}\n",
        "print(s)\n",
        "print(type(s))"
      ],
      "metadata": {
        "colab": {
          "base_uri": "https://localhost:8080/"
        },
        "id": "PVMAncTD9Y23",
        "outputId": "12a2871b-e3db-46ab-9354-c5bde54075eb"
      },
      "execution_count": null,
      "outputs": [
        {
          "output_type": "stream",
          "name": "stdout",
          "text": [
            "{}\n",
            "<class 'dict'>\n"
          ]
        }
      ]
    },
    {
      "cell_type": "code",
      "source": [
        "# empty\n",
        "# To make empty set we use type conversion func.\n",
        "s = set()\n",
        "print(s)\n",
        "print(type(s))"
      ],
      "metadata": {
        "id": "cSQC0e-b7-Y0"
      },
      "execution_count": null,
      "outputs": []
    },
    {
      "cell_type": "markdown",
      "source": [
        "**1D and 2D set**"
      ],
      "metadata": {
        "id": "nFB8p1W-nLDV"
      }
    },
    {
      "cell_type": "code",
      "source": [
        "# 1D and 2D\n",
        "s1 = {1,2,3}\n",
        "print(s1)\n",
        "#s2 = {1,2,3,{4,5}}\n",
        "#print(s2)"
      ],
      "metadata": {
        "colab": {
          "base_uri": "https://localhost:8080/"
        },
        "id": "FAyR1aYU7-ie",
        "outputId": "d6bf5d39-46a4-4505-f0a7-d1cda93c4485"
      },
      "execution_count": null,
      "outputs": [
        {
          "output_type": "stream",
          "name": "stdout",
          "text": [
            "{1, 2, 3}\n"
          ]
        }
      ]
    },
    {
      "cell_type": "markdown",
      "source": [
        "**mutable data type are not allowed**"
      ],
      "metadata": {
        "id": "wMstEPn6oeAT"
      }
    },
    {
      "cell_type": "code",
      "source": [
        "# mutable data type are not allowed\n",
        "s1 = {1,2,3, [1,2]}\n",
        "print(s1)"
      ],
      "metadata": {
        "id": "-kB4ZynF--c2",
        "colab": {
          "base_uri": "https://localhost:8080/",
          "height": 185
        },
        "outputId": "85dafd31-ca30-45ee-fbd9-54b5a543969f"
      },
      "execution_count": null,
      "outputs": [
        {
          "output_type": "error",
          "ename": "TypeError",
          "evalue": "unhashable type: 'list'",
          "traceback": [
            "\u001b[0;31m---------------------------------------------------------------------------\u001b[0m",
            "\u001b[0;31mTypeError\u001b[0m                                 Traceback (most recent call last)",
            "\u001b[0;32m/tmp/ipython-input-2803622193.py\u001b[0m in \u001b[0;36m<cell line: 0>\u001b[0;34m()\u001b[0m\n\u001b[1;32m      1\u001b[0m \u001b[0;31m# mutable data type are not allowed\u001b[0m\u001b[0;34m\u001b[0m\u001b[0;34m\u001b[0m\u001b[0m\n\u001b[0;32m----> 2\u001b[0;31m \u001b[0ms1\u001b[0m \u001b[0;34m=\u001b[0m \u001b[0;34m{\u001b[0m\u001b[0;36m1\u001b[0m\u001b[0;34m,\u001b[0m\u001b[0;36m2\u001b[0m\u001b[0;34m,\u001b[0m\u001b[0;36m3\u001b[0m\u001b[0;34m,\u001b[0m \u001b[0;34m[\u001b[0m\u001b[0;36m1\u001b[0m\u001b[0;34m,\u001b[0m\u001b[0;36m2\u001b[0m\u001b[0;34m]\u001b[0m\u001b[0;34m}\u001b[0m\u001b[0;34m\u001b[0m\u001b[0;34m\u001b[0m\u001b[0m\n\u001b[0m\u001b[1;32m      3\u001b[0m \u001b[0mprint\u001b[0m\u001b[0;34m(\u001b[0m\u001b[0ms1\u001b[0m\u001b[0;34m)\u001b[0m\u001b[0;34m\u001b[0m\u001b[0;34m\u001b[0m\u001b[0m\n",
            "\u001b[0;31mTypeError\u001b[0m: unhashable type: 'list'"
          ]
        }
      ]
    },
    {
      "cell_type": "markdown",
      "source": [
        "**Immutable are allowed**"
      ],
      "metadata": {
        "id": "8AgrrPKpoiAb"
      }
    },
    {
      "cell_type": "code",
      "source": [
        "# Immutable are allowed\n",
        "s1 = {1,2,3, (1,2)}\n",
        "print(s1)"
      ],
      "metadata": {
        "colab": {
          "base_uri": "https://localhost:8080/"
        },
        "id": "SCm-gRLIAADn",
        "outputId": "3a54687e-3802-4196-ecc9-82af6ae9c812"
      },
      "execution_count": null,
      "outputs": [
        {
          "output_type": "stream",
          "name": "stdout",
          "text": [
            "{3, 1, 2, (1, 2)}\n"
          ]
        }
      ]
    },
    {
      "cell_type": "code",
      "source": [
        "s1 = {1,2,3, \"Ali\"}\n",
        "print(s1)"
      ],
      "metadata": {
        "id": "dQmZ-GMuooLR"
      },
      "execution_count": null,
      "outputs": []
    },
    {
      "cell_type": "markdown",
      "source": [
        "**Homo**"
      ],
      "metadata": {
        "id": "tJDb7UeQoVyZ"
      }
    },
    {
      "cell_type": "code",
      "source": [
        "# Homo\n",
        "# all items are of same data types\n",
        "s1 = {1,2,3,4,5,67}\n",
        "print(s1)"
      ],
      "metadata": {
        "colab": {
          "base_uri": "https://localhost:8080/"
        },
        "id": "HhIPJsHk-mA4",
        "outputId": "9c4283c9-8e13-4e24-b659-33cc7fa4833f"
      },
      "execution_count": null,
      "outputs": [
        {
          "output_type": "stream",
          "name": "stdout",
          "text": [
            "{1, 2, 3, 4, 5, 67}\n"
          ]
        }
      ]
    },
    {
      "cell_type": "markdown",
      "source": [
        "**hetro**"
      ],
      "metadata": {
        "id": "tDNMLRR-oSxK"
      }
    },
    {
      "cell_type": "code",
      "source": [
        "# hetro\n",
        "s3 = {1,'hello',4.5,(1,2,3)}\n",
        "print(s3)"
      ],
      "metadata": {
        "colab": {
          "base_uri": "https://localhost:8080/"
        },
        "id": "6gtdSwg6-i0U",
        "outputId": "d35245b8-0925-4388-d026-71f8754a7e70"
      },
      "execution_count": null,
      "outputs": [
        {
          "output_type": "stream",
          "name": "stdout",
          "text": [
            "{1, 'hello', (1, 2, 3), 4.5}\n"
          ]
        }
      ]
    },
    {
      "cell_type": "markdown",
      "source": [
        "**duplicates not allowed**"
      ],
      "metadata": {
        "id": "GhWilBQ6oOMJ"
      }
    },
    {
      "cell_type": "code",
      "source": [
        "# duplicates not allowed\n",
        "s = {1,1,2,2,3,3}\n",
        "print(s)\n",
        "\n",
        "# 1 and True are duplicates\n",
        "s1 = {True,1, 5, 2.37, 'jawi'}\n",
        "print(s1)\n",
        "\n",
        "# output are out of order because sets do not consider order,\n",
        "# In fact a hashing algorithm works in beind the deciding of items positions> hashing controll the index positions"
      ],
      "metadata": {
        "colab": {
          "base_uri": "https://localhost:8080/"
        },
        "id": "Fa6mfyuE7-jd",
        "outputId": "4edadbc8-604a-4a6d-fad4-7b88194d73d1"
      },
      "execution_count": null,
      "outputs": [
        {
          "output_type": "stream",
          "name": "stdout",
          "text": [
            "{1, 2, 3}\n",
            "{True, 2.37, 'jawi', 5}\n"
          ]
        }
      ]
    },
    {
      "cell_type": "markdown",
      "source": [
        "**Type Conversion**"
      ],
      "metadata": {
        "id": "LFz8MA19oIxF"
      }
    },
    {
      "cell_type": "code",
      "source": [
        "#\n",
        "# using type conversion\n",
        "# convet list into sets\n",
        "set()\n",
        "s4 = set([1,2,3])\n",
        "print(s4)"
      ],
      "metadata": {
        "colab": {
          "base_uri": "https://localhost:8080/"
        },
        "id": "9Dl8cYB__vnH",
        "outputId": "910eb303-b53d-4e8b-e06a-5937f6345a35"
      },
      "execution_count": null,
      "outputs": [
        {
          "output_type": "stream",
          "name": "stdout",
          "text": [
            "{1, 2, 3}\n"
          ]
        }
      ]
    },
    {
      "cell_type": "markdown",
      "source": [
        "#### **unordered**"
      ],
      "metadata": {
        "id": "UBA1zApkn0nH"
      }
    },
    {
      "cell_type": "code",
      "source": [
        "# # s1 = {1,2,3, [1,2]}\n",
        "# print(s1)\n",
        "# if both sets have same content\n",
        "s1 = {1,2,3}\n",
        "s2 = {3,2,1}\n",
        "\n",
        "print(s1 == s2)"
      ],
      "metadata": {
        "colab": {
          "base_uri": "https://localhost:8080/"
        },
        "id": "dTB-fAdJBgDT",
        "outputId": "194b8ced-7772-4727-f881-efd345dcb461"
      },
      "execution_count": null,
      "outputs": [
        {
          "output_type": "stream",
          "name": "stdout",
          "text": [
            "True\n"
          ]
        }
      ]
    },
    {
      "cell_type": "markdown",
      "source": [
        "## **Assesing Items**"
      ],
      "metadata": {
        "id": "Rs1Rk7ULB_rp"
      }
    },
    {
      "cell_type": "code",
      "source": [
        "# can not assec items due to unordered syntax following\n",
        "s1 = {1,2,3,4}\n",
        "s1[3]"
      ],
      "metadata": {
        "colab": {
          "base_uri": "https://localhost:8080/",
          "height": 159
        },
        "id": "fVMPYTUL_voV",
        "outputId": "7acd9efb-c424-4c1b-a68c-ad442053291f"
      },
      "execution_count": null,
      "outputs": [
        {
          "output_type": "error",
          "ename": "TypeError",
          "evalue": "'set' object is not subscriptable",
          "traceback": [
            "\u001b[0;31m---------------------------------------------------------------------------\u001b[0m",
            "\u001b[0;31mTypeError\u001b[0m                                 Traceback (most recent call last)",
            "\u001b[0;32m<ipython-input-13-c6a3699064ce>\u001b[0m in \u001b[0;36m<cell line: 2>\u001b[0;34m()\u001b[0m\n\u001b[1;32m      1\u001b[0m \u001b[0ms1\u001b[0m \u001b[0;34m=\u001b[0m \u001b[0;34m{\u001b[0m\u001b[0;36m1\u001b[0m\u001b[0;34m,\u001b[0m\u001b[0;36m2\u001b[0m\u001b[0;34m,\u001b[0m\u001b[0;36m3\u001b[0m\u001b[0;34m,\u001b[0m\u001b[0;36m4\u001b[0m\u001b[0;34m}\u001b[0m\u001b[0;34m\u001b[0m\u001b[0;34m\u001b[0m\u001b[0m\n\u001b[0;32m----> 2\u001b[0;31m \u001b[0ms1\u001b[0m\u001b[0;34m[\u001b[0m\u001b[0;36m3\u001b[0m\u001b[0;34m]\u001b[0m\u001b[0;34m\u001b[0m\u001b[0;34m\u001b[0m\u001b[0m\n\u001b[0m",
            "\u001b[0;31mTypeError\u001b[0m: 'set' object is not subscriptable"
          ]
        }
      ]
    },
    {
      "cell_type": "markdown",
      "source": [
        "## **Editing Items**"
      ],
      "metadata": {
        "id": "UTeuyP4BClRr"
      }
    },
    {
      "cell_type": "code",
      "source": [
        "# editing item also not work in sets\n",
        "s1 = {1,2,3,4}\n",
        "s1[0] = 100"
      ],
      "metadata": {
        "id": "bNnoncdFCpZk",
        "colab": {
          "base_uri": "https://localhost:8080/",
          "height": 185
        },
        "outputId": "313e1163-fa08-4dbe-d80b-1255a6aba21b"
      },
      "execution_count": null,
      "outputs": [
        {
          "output_type": "error",
          "ename": "TypeError",
          "evalue": "'set' object does not support item assignment",
          "traceback": [
            "\u001b[0;31m---------------------------------------------------------------------------\u001b[0m",
            "\u001b[0;31mTypeError\u001b[0m                                 Traceback (most recent call last)",
            "\u001b[0;32m/tmp/ipython-input-1673608159.py\u001b[0m in \u001b[0;36m<cell line: 0>\u001b[0;34m()\u001b[0m\n\u001b[1;32m      1\u001b[0m \u001b[0;31m# editing item also not work in sets\u001b[0m\u001b[0;34m\u001b[0m\u001b[0;34m\u001b[0m\u001b[0m\n\u001b[1;32m      2\u001b[0m \u001b[0ms1\u001b[0m \u001b[0;34m=\u001b[0m \u001b[0;34m{\u001b[0m\u001b[0;36m1\u001b[0m\u001b[0;34m,\u001b[0m\u001b[0;36m2\u001b[0m\u001b[0;34m,\u001b[0m\u001b[0;36m3\u001b[0m\u001b[0;34m,\u001b[0m\u001b[0;36m4\u001b[0m\u001b[0;34m}\u001b[0m\u001b[0;34m\u001b[0m\u001b[0;34m\u001b[0m\u001b[0m\n\u001b[0;32m----> 3\u001b[0;31m \u001b[0ms1\u001b[0m\u001b[0;34m[\u001b[0m\u001b[0;36m0\u001b[0m\u001b[0;34m]\u001b[0m \u001b[0;34m=\u001b[0m \u001b[0;36m100\u001b[0m\u001b[0;34m\u001b[0m\u001b[0;34m\u001b[0m\u001b[0m\n\u001b[0m",
            "\u001b[0;31mTypeError\u001b[0m: 'set' object does not support item assignment"
          ]
        }
      ]
    },
    {
      "cell_type": "markdown",
      "source": [
        "## **Adding Items**"
      ],
      "metadata": {
        "id": "nWyCPgEbC7aI"
      }
    },
    {
      "cell_type": "code",
      "source": [
        "# add\n",
        "# Add() can only add  item\n",
        "\n",
        "S = {1,2,3,4}\n",
        "S.add(6)\n",
        "print(S)\n"
      ],
      "metadata": {
        "colab": {
          "base_uri": "https://localhost:8080/"
        },
        "id": "3k7BKUbfC8oB",
        "outputId": "6f87f3db-86c1-4686-88f5-3c284cfc3e3c"
      },
      "execution_count": null,
      "outputs": [
        {
          "output_type": "stream",
          "name": "stdout",
          "text": [
            "{1, 2, 3, 4, 6}\n"
          ]
        }
      ]
    },
    {
      "cell_type": "code",
      "source": [
        "# update\n",
        "# update() can add multiple items\n",
        "S.update([5,6,7])\n",
        "print(S)"
      ],
      "metadata": {
        "id": "Mwemg7-7DXg_",
        "colab": {
          "base_uri": "https://localhost:8080/"
        },
        "outputId": "3ad16376-defa-40ab-e447-a4b62fca7943"
      },
      "execution_count": null,
      "outputs": [
        {
          "output_type": "stream",
          "name": "stdout",
          "text": [
            "{1, 2, 3, 4, 5, 6, 7}\n"
          ]
        }
      ]
    },
    {
      "cell_type": "markdown",
      "source": [
        "## **Deleting Items**"
      ],
      "metadata": {
        "id": "UI5pKfe8C7pg"
      }
    },
    {
      "cell_type": "code",
      "source": [
        "# del\n",
        "# delete entire set\n",
        "s = {1,2,3,4,5}\n",
        "print(s)\n",
        "del s\n",
        "#print(s)"
      ],
      "metadata": {
        "id": "6nC-pse6C9Sa",
        "colab": {
          "base_uri": "https://localhost:8080/"
        },
        "outputId": "bd4f6d95-f837-4f51-d449-0489304fda68"
      },
      "execution_count": null,
      "outputs": [
        {
          "output_type": "stream",
          "name": "stdout",
          "text": [
            "{1, 2, 3, 4, 5}\n"
          ]
        }
      ]
    },
    {
      "cell_type": "markdown",
      "source": [
        "**discord()--> for value deletion**\n",
        "\n",
        "if specific item is not present, then it will not throw any error and will print the rest items of set"
      ],
      "metadata": {
        "id": "sbXS5lYJpqed"
      }
    },
    {
      "cell_type": "code",
      "source": [
        "# discard...> delete spesific item\n",
        "s = {2,3,7,50}\n",
        "s.discard(7)\n",
        "print(s)\n",
        "\n",
        "# if specific item is not present, then it will not throw any error and will print the rest items of set\n",
        "s.discard(60)\n",
        "print(s)"
      ],
      "metadata": {
        "colab": {
          "base_uri": "https://localhost:8080/"
        },
        "id": "BYcDswt-Eiyt",
        "outputId": "a59a81c7-fa30-4630-9925-35d992826635"
      },
      "execution_count": null,
      "outputs": [
        {
          "output_type": "stream",
          "name": "stdout",
          "text": [
            "{2, 3, 50}\n",
            "{2, 3, 50}\n"
          ]
        }
      ]
    },
    {
      "cell_type": "markdown",
      "source": [
        "**remove()--> also delete specific element**"
      ],
      "metadata": {
        "id": "b0sGYaKTqDVa"
      }
    },
    {
      "cell_type": "markdown",
      "source": [
        "if specific item is not present, then it will  throw any error and will print the rest items of set"
      ],
      "metadata": {
        "id": "2E6PGrOlp_Bd"
      }
    },
    {
      "cell_type": "code",
      "source": [
        "# Remove......> also delete spesific item\n",
        "# s = {2,3,4,5,50, 60}\n",
        "# s.remove(50)\n",
        "# print(s)\n",
        "\n",
        "# if specific item is not present, then it will  throw any error and will print the rest items of set\n",
        "\n",
        "s = {2,3,4,5,50, 60}\n",
        "s.remove(70)\n",
        "print(s)"
      ],
      "metadata": {
        "colab": {
          "base_uri": "https://localhost:8080/",
          "height": 203
        },
        "id": "KEp6dS0GFati",
        "outputId": "9bb7081a-e00f-4c9a-d90d-dc91e29c9d06"
      },
      "execution_count": null,
      "outputs": [
        {
          "output_type": "error",
          "ename": "KeyError",
          "evalue": "70",
          "traceback": [
            "\u001b[0;31m---------------------------------------------------------------------------\u001b[0m",
            "\u001b[0;31mKeyError\u001b[0m                                  Traceback (most recent call last)",
            "\u001b[0;32m/tmp/ipython-input-439496757.py\u001b[0m in \u001b[0;36m<cell line: 0>\u001b[0;34m()\u001b[0m\n\u001b[1;32m      7\u001b[0m \u001b[0;34m\u001b[0m\u001b[0m\n\u001b[1;32m      8\u001b[0m \u001b[0ms\u001b[0m \u001b[0;34m=\u001b[0m \u001b[0;34m{\u001b[0m\u001b[0;36m2\u001b[0m\u001b[0;34m,\u001b[0m\u001b[0;36m3\u001b[0m\u001b[0;34m,\u001b[0m\u001b[0;36m4\u001b[0m\u001b[0;34m,\u001b[0m\u001b[0;36m5\u001b[0m\u001b[0;34m,\u001b[0m\u001b[0;36m50\u001b[0m\u001b[0;34m,\u001b[0m \u001b[0;36m60\u001b[0m\u001b[0;34m}\u001b[0m\u001b[0;34m\u001b[0m\u001b[0;34m\u001b[0m\u001b[0m\n\u001b[0;32m----> 9\u001b[0;31m \u001b[0ms\u001b[0m\u001b[0;34m.\u001b[0m\u001b[0mremove\u001b[0m\u001b[0;34m(\u001b[0m\u001b[0;36m70\u001b[0m\u001b[0;34m)\u001b[0m\u001b[0;34m\u001b[0m\u001b[0;34m\u001b[0m\u001b[0m\n\u001b[0m\u001b[1;32m     10\u001b[0m \u001b[0mprint\u001b[0m\u001b[0;34m(\u001b[0m\u001b[0ms\u001b[0m\u001b[0;34m)\u001b[0m\u001b[0;34m\u001b[0m\u001b[0;34m\u001b[0m\u001b[0m\n",
            "\u001b[0;31mKeyError\u001b[0m: 70"
          ]
        }
      ]
    },
    {
      "cell_type": "markdown",
      "source": [
        "**pop()-->randomly delete item**"
      ],
      "metadata": {
        "id": "Iq-6f0P9qMnb"
      }
    },
    {
      "cell_type": "code",
      "source": [
        "# Pop() ......> randomly delete item\n",
        "\n",
        "s = {1,2,3, 9 ,10, 4,8, 5}\n",
        "s.pop([0])\n",
        "print(s)"
      ],
      "metadata": {
        "colab": {
          "base_uri": "https://localhost:8080/",
          "height": 203
        },
        "id": "q0dOkBhyGLJg",
        "outputId": "2df44c14-976c-44da-f323-9fea99d08956"
      },
      "execution_count": null,
      "outputs": [
        {
          "output_type": "error",
          "ename": "TypeError",
          "evalue": "set.pop() takes no arguments (1 given)",
          "traceback": [
            "\u001b[0;31m---------------------------------------------------------------------------\u001b[0m",
            "\u001b[0;31mTypeError\u001b[0m                                 Traceback (most recent call last)",
            "\u001b[0;32m/tmp/ipython-input-1010345708.py\u001b[0m in \u001b[0;36m<cell line: 0>\u001b[0;34m()\u001b[0m\n\u001b[1;32m      2\u001b[0m \u001b[0;34m\u001b[0m\u001b[0m\n\u001b[1;32m      3\u001b[0m \u001b[0ms\u001b[0m \u001b[0;34m=\u001b[0m \u001b[0;34m{\u001b[0m\u001b[0;36m1\u001b[0m\u001b[0;34m,\u001b[0m\u001b[0;36m2\u001b[0m\u001b[0;34m,\u001b[0m\u001b[0;36m3\u001b[0m\u001b[0;34m,\u001b[0m \u001b[0;36m9\u001b[0m \u001b[0;34m,\u001b[0m\u001b[0;36m10\u001b[0m\u001b[0;34m,\u001b[0m \u001b[0;36m4\u001b[0m\u001b[0;34m,\u001b[0m\u001b[0;36m8\u001b[0m\u001b[0;34m,\u001b[0m \u001b[0;36m5\u001b[0m\u001b[0;34m}\u001b[0m\u001b[0;34m\u001b[0m\u001b[0;34m\u001b[0m\u001b[0m\n\u001b[0;32m----> 4\u001b[0;31m \u001b[0ms\u001b[0m\u001b[0;34m.\u001b[0m\u001b[0mpop\u001b[0m\u001b[0;34m(\u001b[0m\u001b[0;34m[\u001b[0m\u001b[0;36m0\u001b[0m\u001b[0;34m]\u001b[0m\u001b[0;34m)\u001b[0m\u001b[0;34m\u001b[0m\u001b[0;34m\u001b[0m\u001b[0m\n\u001b[0m\u001b[1;32m      5\u001b[0m \u001b[0mprint\u001b[0m\u001b[0;34m(\u001b[0m\u001b[0ms\u001b[0m\u001b[0;34m)\u001b[0m\u001b[0;34m\u001b[0m\u001b[0;34m\u001b[0m\u001b[0m\n",
            "\u001b[0;31mTypeError\u001b[0m: set.pop() takes no arguments (1 given)"
          ]
        }
      ]
    },
    {
      "cell_type": "markdown",
      "source": [
        "**clear().......> will empty the entire set**"
      ],
      "metadata": {
        "id": "XB9oZ57Xqgie"
      }
    },
    {
      "cell_type": "code",
      "source": [
        "# clear().......> will empty the entire set ,\n",
        "s = {100,200,300,4000}\n",
        "s.clear()\n",
        "print(s)\n"
      ],
      "metadata": {
        "colab": {
          "base_uri": "https://localhost:8080/"
        },
        "id": "l22IsKoUGLYr",
        "outputId": "eb262f69-885a-40d1-f367-03147f6b3308"
      },
      "execution_count": null,
      "outputs": [
        {
          "output_type": "stream",
          "name": "stdout",
          "text": [
            "set()\n"
          ]
        }
      ]
    },
    {
      "cell_type": "code",
      "source": [
        "#************* sets can be used in comarison of population mean ,by union or another mathod ************"
      ],
      "metadata": {
        "id": "mlQ8h0yQGLjW"
      },
      "execution_count": null,
      "outputs": []
    },
    {
      "cell_type": "markdown",
      "source": [
        "## **Set Operation**"
      ],
      "metadata": {
        "id": "PPTes7ExHuxT"
      }
    },
    {
      "cell_type": "markdown",
      "source": [
        "**Union _ |** --> print unique items of both sets"
      ],
      "metadata": {
        "id": "px07yrzGq5qS"
      }
    },
    {
      "cell_type": "code",
      "source": [
        "# Union(|)\n",
        "# print unique items of both sets\n",
        "s1 = {1,2,3,4,5}\n",
        "s2 = {4,5,6,7,8}\n",
        "s1 | s2\n"
      ],
      "metadata": {
        "id": "8gnONZ0EHvC0",
        "colab": {
          "base_uri": "https://localhost:8080/"
        },
        "outputId": "5b11275f-1963-461d-af00-f58607d34b03"
      },
      "execution_count": null,
      "outputs": [
        {
          "output_type": "execute_result",
          "data": {
            "text/plain": [
              "{1, 2, 3, 4, 5, 6, 7, 8}"
            ]
          },
          "metadata": {},
          "execution_count": 44
        }
      ]
    },
    {
      "cell_type": "markdown",
      "source": [
        "**Intersation** -->\n",
        "print common items of both sets"
      ],
      "metadata": {
        "id": "-6g-MEsSrOQl"
      }
    },
    {
      "cell_type": "code",
      "source": [
        "# Intersation\n",
        "# print common items of both sets\n",
        "s1 = {1,2,3,4,5}\n",
        "s2 = {4,5,6,7,8}\n",
        "s1 & s2"
      ],
      "metadata": {
        "colab": {
          "base_uri": "https://localhost:8080/"
        },
        "id": "lyp9qDR-ihHE",
        "outputId": "07429ca4-54cf-45ff-b25f-0378ca972d3b"
      },
      "execution_count": null,
      "outputs": [
        {
          "output_type": "execute_result",
          "data": {
            "text/plain": [
              "{4, 5}"
            ]
          },
          "metadata": {},
          "execution_count": 45
        }
      ]
    },
    {
      "cell_type": "markdown",
      "source": [
        "**Difference(-)** -->\n",
        "print items of s1 which are not present in s2"
      ],
      "metadata": {
        "id": "88hnNy2grZZB"
      }
    },
    {
      "cell_type": "code",
      "source": [
        "# Difference(-)\n",
        "# print items of s1 which are not present in s2\n",
        "s1 = {1,2,3,4,5}\n",
        "s2 = {4,5,6,7,8}\n",
        "s1 - s2"
      ],
      "metadata": {
        "colab": {
          "base_uri": "https://localhost:8080/"
        },
        "id": "qOJcDZ8HihPz",
        "outputId": "fe92c626-f0cf-4a95-d096-76d591b9b9ca"
      },
      "execution_count": null,
      "outputs": [
        {
          "output_type": "execute_result",
          "data": {
            "text/plain": [
              "{1, 2, 3}"
            ]
          },
          "metadata": {},
          "execution_count": 46
        }
      ]
    },
    {
      "cell_type": "markdown",
      "source": [
        "**Symmetric Difference(^)** -->print all except common"
      ],
      "metadata": {
        "id": "S47DDfOqsQNk"
      }
    },
    {
      "cell_type": "code",
      "source": [
        "# Symmetric Difference(^)\n",
        "# print all except common, in union all items will be print and which are common will be print once thats the difference\n",
        "s1 = {1,2,3,4,5}\n",
        "s2 = {4,5,6,7,8}\n",
        "s1 ^ s2"
      ],
      "metadata": {
        "colab": {
          "base_uri": "https://localhost:8080/"
        },
        "id": "NtKjteX_ihZ2",
        "outputId": "615ba880-3052-4306-bd70-7625558201f3"
      },
      "execution_count": null,
      "outputs": [
        {
          "output_type": "execute_result",
          "data": {
            "text/plain": [
              "{1, 2, 3, 6, 7, 8}"
            ]
          },
          "metadata": {},
          "execution_count": 47
        }
      ]
    },
    {
      "cell_type": "code",
      "source": [
        "s1 = {1,2,3,4,5}\n",
        "s2 = {4,5,6,7,8}\n",
        "s1 | s2"
      ],
      "metadata": {
        "colab": {
          "base_uri": "https://localhost:8080/"
        },
        "id": "S9_9xv06rq96",
        "outputId": "fcc74f51-5fcb-4520-fa24-6ebc697b083e"
      },
      "execution_count": null,
      "outputs": [
        {
          "output_type": "execute_result",
          "data": {
            "text/plain": [
              "{1, 2, 3, 4, 5, 6, 7, 8}"
            ]
          },
          "metadata": {},
          "execution_count": 7
        }
      ]
    },
    {
      "cell_type": "code",
      "source": [
        "# Above 4 operations are basics"
      ],
      "metadata": {
        "id": "dn_MSEKvkLXy"
      },
      "execution_count": null,
      "outputs": []
    },
    {
      "cell_type": "code",
      "source": [
        "# Membership Test\n",
        "s1 = {1,2,3,4,5}\n",
        "2 in s1"
      ],
      "metadata": {
        "id": "KkeP6pFIHvGq",
        "colab": {
          "base_uri": "https://localhost:8080/"
        },
        "outputId": "ca726437-de5c-4b7e-90dc-a019e1c6564b"
      },
      "execution_count": null,
      "outputs": [
        {
          "output_type": "execute_result",
          "data": {
            "text/plain": [
              "True"
            ]
          },
          "metadata": {},
          "execution_count": 49
        }
      ]
    },
    {
      "cell_type": "code",
      "source": [
        "# Iteration/loops\n",
        "s1 = {10,20,30,40,50}\n",
        "for i in s1:\n",
        "  print(i)"
      ],
      "metadata": {
        "id": "AoECWoBmHvKf",
        "colab": {
          "base_uri": "https://localhost:8080/"
        },
        "outputId": "28a96841-c5db-46bf-de60-da110a041b29"
      },
      "execution_count": null,
      "outputs": [
        {
          "output_type": "stream",
          "name": "stdout",
          "text": [
            "50\n",
            "20\n",
            "40\n",
            "10\n",
            "30\n"
          ]
        }
      ]
    },
    {
      "cell_type": "markdown",
      "source": [
        "## **Sets Functions**"
      ],
      "metadata": {
        "id": "W0mPvdTLlCjP"
      }
    },
    {
      "cell_type": "code",
      "source": [
        "# len/sum/min/max/sorted\n",
        "# union()\n",
        "# intersaction()\n",
        "# difference()\n",
        "# symmetric_difference()\n",
        "# update()...>union update\n",
        "# intersation_update()\n",
        "# difference_update()\n",
        "# symmetric_difference_update()\n",
        "# isdisjoint()\n",
        "#issubset()\n",
        "# issuperset()"
      ],
      "metadata": {
        "id": "FtutEfu_xqnw"
      },
      "execution_count": null,
      "outputs": []
    },
    {
      "cell_type": "code",
      "source": [
        "# len/sum/min/max/sorted\n",
        "s = {3,1,4,5,2,7}\n",
        "len(s)\n",
        "sum(s)\n",
        "min(s)\n",
        "max(s)\n",
        "sorted(s,reverse=True)"
      ],
      "metadata": {
        "colab": {
          "base_uri": "https://localhost:8080/"
        },
        "id": "eJy1HDBblICi",
        "outputId": "4e691f99-d598-4830-d294-508029a279f2"
      },
      "execution_count": null,
      "outputs": [
        {
          "output_type": "execute_result",
          "data": {
            "text/plain": [
              "[7, 5, 4, 3, 2, 1]"
            ]
          },
          "metadata": {},
          "execution_count": 52
        }
      ]
    },
    {
      "cell_type": "markdown",
      "source": [
        "**union**"
      ],
      "metadata": {
        "id": "p9KjJUyPusDx"
      }
    },
    {
      "cell_type": "code",
      "source": [
        "# union func |\n",
        "a1 = {1,2,3,4,5}\n",
        "a2 = {4,5,6,7,8}\n",
        "print(a1.union(a2))\n",
        "\n",
        "print(a1)"
      ],
      "metadata": {
        "colab": {
          "base_uri": "https://localhost:8080/"
        },
        "id": "C_qdyWLslIdt",
        "outputId": "d0d8325b-fa63-49ef-8889-48460c76d6c3"
      },
      "execution_count": null,
      "outputs": [
        {
          "output_type": "stream",
          "name": "stdout",
          "text": [
            "{1, 2, 3, 4, 5, 6, 7, 8}\n",
            "{1, 2, 3, 4, 5}\n"
          ]
        }
      ]
    },
    {
      "cell_type": "code",
      "source": [
        "A = {1, 2, 3}\n",
        "B = {3, 4, 5}\n",
        "C = \"Hello\"   # A list, not a set\n",
        "\n",
        "print(A.union(B, C))  # Output: {1, 2, 3, 4, 5, 6, 7}\n"
      ],
      "metadata": {
        "colab": {
          "base_uri": "https://localhost:8080/"
        },
        "id": "mbLMM_DLuktP",
        "outputId": "2bff03e6-d48d-47a1-fe7b-ada9452077c7"
      },
      "execution_count": null,
      "outputs": [
        {
          "output_type": "stream",
          "name": "stdout",
          "text": [
            "{1, 2, 3, 4, 5, 'o', 'H', 'l', 'e'}\n"
          ]
        }
      ]
    },
    {
      "cell_type": "markdown",
      "source": [
        "**update**"
      ],
      "metadata": {
        "id": "-K21s-9Wu8vH"
      }
    },
    {
      "cell_type": "markdown",
      "source": [
        "Adds elements from another set (or iterable) into the current set.\n",
        "\n",
        "👉 It modifies the original set (doesn’t return a new one)."
      ],
      "metadata": {
        "id": "sTVcyvCcwyZ_"
      }
    },
    {
      "cell_type": "code",
      "source": [
        "#union update func.\n",
        "s1 = {1,2,3,4,5}\n",
        "s2 = {4,5,6,7,8}\n",
        "\n",
        "print(s1)\n",
        "\n",
        "s1.update(s2)\n",
        "\n",
        "print(s1)\n",
        "print(s2)\n",
        "# firstlt, union operation will run inside the update func, which is invisible\n",
        "# firstly , we print s1, the result of union operation will put in s1, and s2 will remain same as it is., a permanent change will be in s1\n",
        "# then we print s2 that was earlier"
      ],
      "metadata": {
        "colab": {
          "base_uri": "https://localhost:8080/"
        },
        "id": "GfTll70KmOg1",
        "outputId": "30d92965-c6a4-41d1-c758-01600ca20606"
      },
      "execution_count": null,
      "outputs": [
        {
          "output_type": "stream",
          "name": "stdout",
          "text": [
            "{1, 2, 3, 4, 5}\n",
            "{1, 2, 3, 4, 5, 6, 7, 8}\n",
            "{4, 5, 6, 7, 8}\n"
          ]
        }
      ]
    },
    {
      "cell_type": "markdown",
      "source": [
        "**intersection**"
      ],
      "metadata": {
        "id": "al2opwShxAXY"
      }
    },
    {
      "cell_type": "markdown",
      "source": [
        "Returns a new set with elements common to all given sets."
      ],
      "metadata": {
        "id": "UBjXodsIw_Hu"
      }
    },
    {
      "cell_type": "code",
      "source": [
        "A = {1, 2, 3, 4, 5}\n",
        "B = {3, 4, 5, 6}\n",
        "A&B"
      ],
      "metadata": {
        "colab": {
          "base_uri": "https://localhost:8080/"
        },
        "id": "Thf1bVh69tjH",
        "outputId": "7b2b7837-e2ed-48e5-ab46-8993ffce047d"
      },
      "execution_count": null,
      "outputs": [
        {
          "output_type": "execute_result",
          "data": {
            "text/plain": [
              "{3, 4, 5}"
            ]
          },
          "metadata": {},
          "execution_count": 63
        }
      ]
    },
    {
      "cell_type": "code",
      "source": [
        "A = {1, 2, 3, 4, 5}\n",
        "B = {3, 4, 5, 6}\n",
        "C = {4, 5, 7}\n",
        "\n",
        "result = A.intersection(B, C)\n",
        "print(A)\n",
        "#print(A)\n",
        "print(result)   # Output: {4, 5}\n",
        "print(A)\n"
      ],
      "metadata": {
        "colab": {
          "base_uri": "https://localhost:8080/"
        },
        "id": "Noqo7vuQxOWf",
        "outputId": "97845455-7655-4170-a78a-de5198b08588"
      },
      "execution_count": null,
      "outputs": [
        {
          "output_type": "stream",
          "name": "stdout",
          "text": [
            "{1, 2, 3, 4, 5}\n",
            "{4, 5}\n",
            "{1, 2, 3, 4, 5}\n"
          ]
        }
      ]
    },
    {
      "cell_type": "code",
      "source": [
        "# intersection\n",
        "s1 = {1,2,3,4,5}\n",
        "s2 = {4,5,6,7,8}\n",
        "\n",
        "s1.intersection(s2)"
      ],
      "metadata": {
        "colab": {
          "base_uri": "https://localhost:8080/"
        },
        "id": "eNlchR-jmOh_",
        "outputId": "180899c7-d271-487e-eb59-20ca8fd93f51"
      },
      "execution_count": null,
      "outputs": [
        {
          "output_type": "execute_result",
          "data": {
            "text/plain": [
              "{4, 5}"
            ]
          },
          "metadata": {},
          "execution_count": 15
        }
      ]
    },
    {
      "cell_type": "markdown",
      "source": [
        "**intersection_update() — Common Elements + Assign**"
      ],
      "metadata": {
        "id": "74XJbzQaxphh"
      }
    },
    {
      "cell_type": "markdown",
      "source": [
        "Keeps only common elements in the original set (no new set created).\n",
        "\n",
        "👉 It modifies the original set directly."
      ],
      "metadata": {
        "id": "rGWVPJT9xkT9"
      }
    },
    {
      "cell_type": "code",
      "source": [
        "#intersection_update\n",
        "\n",
        "s1 = {1,2,3,4,5}\n",
        "s2 = {4,5,6,7,8}\n",
        "# the result of intersaction will store in s1 and s2 will be remain same\n",
        "\n",
        "print(s1)\n",
        "print(s2)\n",
        "update = s1.intersection_update(s2)\n",
        "update\n",
        "print(update)"
      ],
      "metadata": {
        "colab": {
          "base_uri": "https://localhost:8080/"
        },
        "id": "lXprtdZlmOlE",
        "outputId": "bbff9ff2-3cc5-4b6b-fc3b-092c548ae8fc"
      },
      "execution_count": null,
      "outputs": [
        {
          "output_type": "stream",
          "name": "stdout",
          "text": [
            "{1, 2, 3, 4, 5}\n",
            "{4, 5, 6, 7, 8}\n",
            "{4, 5}\n"
          ]
        }
      ]
    },
    {
      "cell_type": "code",
      "source": [
        "A = {1, 2, 3, 4, 5}\n",
        "B = {3, 4, 5, 6}\n",
        "C = {4, 5, 7}\n",
        "\n",
        "A.intersection_update(B, C)\n",
        "print(A)   # Output: {4, 5}\n"
      ],
      "metadata": {
        "colab": {
          "base_uri": "https://localhost:8080/"
        },
        "id": "Y_Tz999DxzJb",
        "outputId": "b9970bc6-368a-46cf-a0ab-d8a9b7255f20"
      },
      "execution_count": null,
      "outputs": [
        {
          "output_type": "stream",
          "name": "stdout",
          "text": [
            "{4, 5}\n"
          ]
        }
      ]
    },
    {
      "cell_type": "markdown",
      "source": [
        "**difference() — Elements in A not in B**"
      ],
      "metadata": {
        "id": "dak5l7eBx4tA"
      }
    },
    {
      "cell_type": "markdown",
      "source": [
        "Returns elements that are in the first set but not in others.\n",
        "\n",
        "👉 Creates a new set."
      ],
      "metadata": {
        "id": "GjAwa6j1x-b3"
      }
    },
    {
      "cell_type": "code",
      "source": [
        "# difference\n",
        "## print items of s1 which are not present in s2\n",
        "s1 = {1,2,3,4,5}\n",
        "s2 = {4,5,6,7,8}\n",
        "\n",
        "s2.difference(s1)"
      ],
      "metadata": {
        "colab": {
          "base_uri": "https://localhost:8080/"
        },
        "id": "QCy621HwvQyn",
        "outputId": "acaef891-e789-4edb-c7cb-dc39393e9b0f"
      },
      "execution_count": null,
      "outputs": [
        {
          "output_type": "execute_result",
          "data": {
            "text/plain": [
              "{6, 7, 8}"
            ]
          },
          "metadata": {},
          "execution_count": 72
        }
      ]
    },
    {
      "cell_type": "code",
      "source": [
        "A = {1, 2, 3, 4, 5, 6}\n",
        "B = {3, 4, 7}\n",
        "C = {4, 5, 8}\n",
        "\n",
        "result = A.difference(B, C)\n",
        "print(result)\n",
        "   # Output: {1, 2, 6}\n",
        "print(A)\n"
      ],
      "metadata": {
        "colab": {
          "base_uri": "https://localhost:8080/"
        },
        "id": "m5JDdy6UyDYk",
        "outputId": "97011aa2-c84c-445c-93fb-2fe99e2e8a54"
      },
      "execution_count": null,
      "outputs": [
        {
          "output_type": "stream",
          "name": "stdout",
          "text": [
            "{1, 2, 6}\n",
            "{1, 2, 3, 4, 5, 6}\n"
          ]
        }
      ]
    },
    {
      "cell_type": "markdown",
      "source": [
        "**difference_update() — Difference + Assign**"
      ],
      "metadata": {
        "id": "WWUflGoIyKlL"
      }
    },
    {
      "cell_type": "markdown",
      "source": [
        "Removes all elements found in other sets from the original set.\n",
        "\n",
        "👉 It modifies the original set."
      ],
      "metadata": {
        "id": "5QaDOZqYyPsh"
      }
    },
    {
      "cell_type": "code",
      "source": [
        "#/difference_update\n",
        "s1 = {1,2,3,4,5}\n",
        "s2 = {4,5,6,7,8}\n",
        "\n",
        "var = s1.difference(s2)\n",
        "print(var)\n",
        "print(s1)\n",
        "print(s2)"
      ],
      "metadata": {
        "colab": {
          "base_uri": "https://localhost:8080/"
        },
        "id": "Pkt53E7nvQ8I",
        "outputId": "8d7955f4-1eca-4fb9-c0ee-dfccb8d98b57"
      },
      "execution_count": null,
      "outputs": [
        {
          "output_type": "stream",
          "name": "stdout",
          "text": [
            "{1, 2, 3}\n",
            "{1, 2, 3, 4, 5}\n",
            "{4, 5, 6, 7, 8}\n"
          ]
        }
      ]
    },
    {
      "cell_type": "code",
      "source": [
        "A = {1, 2, 3, 4, 5, 6}\n",
        "B = {3, 4, 7}\n",
        "C = {4, 5, 8}\n",
        "\n",
        "A.difference_update(B, C)\n",
        "print(A)   # Output: {1, 2, 6}\n",
        "#Same as .difference(), but updates A itself.\n"
      ],
      "metadata": {
        "colab": {
          "base_uri": "https://localhost:8080/"
        },
        "id": "bqbcGj1Hydkx",
        "outputId": "dc94b836-7c02-4108-b70c-9750f7e1b2f6"
      },
      "execution_count": null,
      "outputs": [
        {
          "output_type": "stream",
          "name": "stdout",
          "text": [
            "{1, 2, 6}\n"
          ]
        }
      ]
    },
    {
      "cell_type": "markdown",
      "source": [
        "**symmetric_difference() — Non-common Elements**"
      ],
      "metadata": {
        "id": "1PcgnVbsysYq"
      }
    },
    {
      "cell_type": "markdown",
      "source": [
        "Returns elements that are in either set, but not in both.\n",
        "\n",
        "👉 Creates a new set."
      ],
      "metadata": {
        "id": "mvIF25A_yy8F"
      }
    },
    {
      "cell_type": "code",
      "source": [
        "s1 = {1,2,3,4,5}\n",
        "s2 = {4,5,6,7,8}\n",
        "s1.difference(s2)"
      ],
      "metadata": {
        "colab": {
          "base_uri": "https://localhost:8080/"
        },
        "id": "YKV-EJ1vy4dy",
        "outputId": "06e86d6c-302b-4a72-ed1b-a98c9acd1484"
      },
      "execution_count": null,
      "outputs": [
        {
          "output_type": "execute_result",
          "data": {
            "text/plain": [
              "{1, 2, 3}"
            ]
          },
          "metadata": {},
          "execution_count": 78
        }
      ]
    },
    {
      "cell_type": "code",
      "source": [
        "# symmetric_difference\n",
        "s1 = {1,2,3,4,5}\n",
        "s2 = {4,5,6,7,8}\n",
        "\n",
        "s1.symmetric_difference(s2)"
      ],
      "metadata": {
        "colab": {
          "base_uri": "https://localhost:8080/"
        },
        "id": "QrmX9WfMvREv",
        "outputId": "3335a790-05f1-49ea-a358-fb28a6e8843a"
      },
      "execution_count": null,
      "outputs": [
        {
          "output_type": "execute_result",
          "data": {
            "text/plain": [
              "{1, 2, 3, 6, 7, 8}"
            ]
          },
          "metadata": {},
          "execution_count": 23
        }
      ]
    },
    {
      "cell_type": "code",
      "source": [
        "A = {1, 2, 3, 4, 5}\n",
        "B = {4, 5, 6, 7}\n",
        "C = {7, 8}\n",
        "\n",
        "result = A.symmetric_difference(B)\n",
        "print(result)   # Output: {1, 2, 3, 6, 7}\n"
      ],
      "metadata": {
        "id": "1_EGLHmSy5Vc"
      },
      "execution_count": null,
      "outputs": []
    },
    {
      "cell_type": "markdown",
      "source": [
        "**symmetric_difference_update() — Non-common + Assign**\n",
        "\n",
        "Keeps elements that are unique to either set, and updates the original set."
      ],
      "metadata": {
        "id": "MUoC8kkuy_pV"
      }
    },
    {
      "cell_type": "code",
      "source": [
        "# symmetric_difference_update\n",
        "s1 = {1,2,3,4,5}\n",
        "s2 = {4,5,6,7,8}\n",
        "# s1 contain all except common in both\n",
        "s1.symmetric_difference_update(s2)\n",
        "print(s2)\n",
        "print(s1)"
      ],
      "metadata": {
        "colab": {
          "base_uri": "https://localhost:8080/"
        },
        "id": "rjzOMuJEvRjG",
        "outputId": "2150c3ed-682b-455d-a937-8e38e6331411"
      },
      "execution_count": null,
      "outputs": [
        {
          "output_type": "stream",
          "name": "stdout",
          "text": [
            "{4, 5, 6, 7, 8}\n",
            "{1, 2, 3, 6, 7, 8}\n"
          ]
        }
      ]
    },
    {
      "cell_type": "code",
      "source": [
        "# isdisjoint/issubset/issuperset\n",
        "# disjoint sets are those which have no common items\n",
        "s1 = {1,2,3,4}\n",
        "s2 = {7,8,5,6}\n",
        "\n",
        "s1.isdisjoint(s2)"
      ],
      "metadata": {
        "colab": {
          "base_uri": "https://localhost:8080/"
        },
        "id": "QSWIUv49y9r8",
        "outputId": "84e7ba7e-92e9-4ec8-96f9-2e96b84b59e4"
      },
      "execution_count": null,
      "outputs": [
        {
          "output_type": "execute_result",
          "data": {
            "text/plain": [
              "True"
            ]
          },
          "metadata": {},
          "execution_count": 24
        }
      ]
    },
    {
      "cell_type": "code",
      "source": [
        "# issubset()\n",
        "# subset()\n",
        "# a set inside another set. s1 inside s2 set\n",
        "s1 = {1,2,3,4,5}\n",
        "s2 = {3,4,5}\n",
        "# s2 is subset of s2\n",
        "s2.issubset(s1)"
      ],
      "metadata": {
        "colab": {
          "base_uri": "https://localhost:8080/"
        },
        "id": "IyoGOFXazarb",
        "outputId": "73866427-2630-49c3-b51d-786ef083734c"
      },
      "execution_count": null,
      "outputs": [
        {
          "output_type": "execute_result",
          "data": {
            "text/plain": [
              "True"
            ]
          },
          "metadata": {},
          "execution_count": 25
        }
      ]
    },
    {
      "cell_type": "code",
      "source": [
        "# issuperser()\n",
        "s1 = {1,2,3,4,5}\n",
        "s2 = {3,4,5}\n",
        "\n",
        "s1.issuperset(s2)"
      ],
      "metadata": {
        "colab": {
          "base_uri": "https://localhost:8080/"
        },
        "id": "pMmMZt_E0LHf",
        "outputId": "9fc56b61-d0a9-44f7-f570-3eddc154ddbf"
      },
      "execution_count": null,
      "outputs": [
        {
          "output_type": "execute_result",
          "data": {
            "text/plain": [
              "True"
            ]
          },
          "metadata": {},
          "execution_count": 26
        }
      ]
    },
    {
      "cell_type": "code",
      "source": [
        "# Both have different memory address\n",
        "# copy\n",
        "s1 = {1,2,3}\n",
        "s2 = s1.copy()\n",
        "\n",
        "print(s1)\n",
        "print(s2)"
      ],
      "metadata": {
        "id": "lEyRblOAzasj"
      },
      "execution_count": null,
      "outputs": []
    },
    {
      "cell_type": "markdown",
      "source": [
        "## **Frozenset**\n",
        "\n",
        "Frozen set is just an immutable version of a Python set object\n",
        "\n",
        "No item will be added and no can be deleted"
      ],
      "metadata": {
        "id": "1qityB3w1kl1"
      }
    },
    {
      "cell_type": "code",
      "source": [
        "# create frozenset\n",
        "# inside frozen set , can be any iterable like tuple , list, set\n",
        "fs1 = frozenset([1,2,3])\n",
        "print(fs1)"
      ],
      "metadata": {
        "colab": {
          "base_uri": "https://localhost:8080/"
        },
        "id": "4K__Afckzav0",
        "outputId": "f6243fe8-b2a3-43c6-9811-54c1c5371ce1"
      },
      "execution_count": null,
      "outputs": [
        {
          "output_type": "stream",
          "name": "stdout",
          "text": [
            "frozenset({1, 2, 3})\n"
          ]
        }
      ]
    },
    {
      "cell_type": "code",
      "source": [
        "fs1 = frozenset([1,2,3])\n",
        "fs2 = frozenset([3,4,5])\n",
        "\n",
        "fs1 | fs2"
      ],
      "metadata": {
        "colab": {
          "base_uri": "https://localhost:8080/"
        },
        "id": "Aq5drSaM3kv3",
        "outputId": "b5462df4-8745-49b0-b0df-8014c048d779"
      },
      "execution_count": null,
      "outputs": [
        {
          "output_type": "execute_result",
          "data": {
            "text/plain": [
              "frozenset({1, 2, 3, 4, 5})"
            ]
          },
          "metadata": {},
          "execution_count": 29
        }
      ]
    },
    {
      "cell_type": "code",
      "source": [
        "# what works and what does not\n",
        "# works -> all read functions\n",
        "# does't work -> write operations like add and update function will not work which work in sets()"
      ],
      "metadata": {
        "id": "iC85W89u3ito"
      },
      "execution_count": null,
      "outputs": []
    },
    {
      "cell_type": "code",
      "source": [
        "# When to use >> when you make an application where no changes are required. then you will use frozensets() otherwise you use sets\n",
        "# 2D sets\n",
        "fs = frozenset([1,2,frozenset([3,4])])\n",
        "fs"
      ],
      "metadata": {
        "colab": {
          "base_uri": "https://localhost:8080/"
        },
        "id": "l4Op2Ydt3iuu",
        "outputId": "76252751-b0b0-4220-df84-7c4093f0b247"
      },
      "execution_count": null,
      "outputs": [
        {
          "output_type": "execute_result",
          "data": {
            "text/plain": [
              "frozenset({1, 2, frozenset({3, 4})})"
            ]
          },
          "metadata": {},
          "execution_count": 30
        }
      ]
    },
    {
      "cell_type": "code",
      "source": [
        "fs = frozenset([1,2,frozenset((3,4))])\n",
        "fs"
      ],
      "metadata": {
        "colab": {
          "base_uri": "https://localhost:8080/"
        },
        "id": "32Ib2IN65Y_F",
        "outputId": "2a4b8cde-827e-43aa-c8a2-8f55972aaaa0"
      },
      "execution_count": null,
      "outputs": [
        {
          "output_type": "execute_result",
          "data": {
            "text/plain": [
              "frozenset({1, 2, frozenset({3, 4})})"
            ]
          },
          "metadata": {},
          "execution_count": 31
        }
      ]
    },
    {
      "cell_type": "markdown",
      "source": [
        "#### **Why 2D allowed in Frozensets() and not in sets()?????**"
      ],
      "metadata": {
        "id": "OwN4YIig6wb_"
      }
    },
    {
      "cell_type": "code",
      "source": [],
      "metadata": {
        "id": "jinhmFlj7IdV"
      },
      "execution_count": null,
      "outputs": []
    },
    {
      "cell_type": "markdown",
      "source": [
        "### **Set Comprehension**"
      ],
      "metadata": {
        "id": "W9U79quY7JP7"
      }
    },
    {
      "cell_type": "code",
      "source": [
        "{i for i in range(1,11)}"
      ],
      "metadata": {
        "colab": {
          "base_uri": "https://localhost:8080/"
        },
        "id": "aO7O0Kdd7UkH",
        "outputId": "4141c96c-4cce-40fc-9686-9983140657db"
      },
      "execution_count": null,
      "outputs": [
        {
          "output_type": "execute_result",
          "data": {
            "text/plain": [
              "{1, 2, 3, 4, 5, 6, 7, 8, 9, 10}"
            ]
          },
          "metadata": {},
          "execution_count": 32
        }
      ]
    },
    {
      "cell_type": "code",
      "source": [
        "{i for i in range(1,11) if i>5}"
      ],
      "metadata": {
        "colab": {
          "base_uri": "https://localhost:8080/"
        },
        "id": "RIi6HuCE7l-p",
        "outputId": "14bc947e-be5c-4f33-b347-fb5b41a631fc"
      },
      "execution_count": null,
      "outputs": [
        {
          "output_type": "execute_result",
          "data": {
            "text/plain": [
              "{6, 7, 8, 9, 10}"
            ]
          },
          "metadata": {},
          "execution_count": 34
        }
      ]
    },
    {
      "cell_type": "code",
      "source": [
        "# examples\n",
        "\n",
        "{i**2 for i in range(1,11) if i>5}"
      ],
      "metadata": {
        "colab": {
          "base_uri": "https://localhost:8080/"
        },
        "id": "R24o5otG3i5G",
        "outputId": "a2912776-38d8-4ddc-e4e7-4845ddfe6401"
      },
      "execution_count": null,
      "outputs": [
        {
          "output_type": "execute_result",
          "data": {
            "text/plain": [
              "{36, 49, 64, 81, 100}"
            ]
          },
          "metadata": {},
          "execution_count": 33
        }
      ]
    }
  ]
}