{
  "nbformat": 4,
  "nbformat_minor": 0,
  "metadata": {
    "colab": {
      "provenance": [],
      "authorship_tag": "ABX9TyOFZyHOvbJXZfldsfM0JNTX",
      "include_colab_link": true
    },
    "kernelspec": {
      "name": "python3",
      "display_name": "Python 3"
    },
    "language_info": {
      "name": "python"
    }
  },
  "cells": [
    {
      "cell_type": "markdown",
      "metadata": {
        "id": "view-in-github",
        "colab_type": "text"
      },
      "source": [
        "<a href=\"https://colab.research.google.com/github/jaweria01/Python_Volunteer_Course/blob/main/Session14_(Dictionary).ipynb\" target=\"_parent\"><img src=\"https://colab.research.google.com/assets/colab-badge.svg\" alt=\"Open In Colab\"/></a>"
      ]
    },
    {
      "cell_type": "markdown",
      "source": [
        " ## **Dictionaries**\n",
        "Creating dictionaries\n",
        "\n",
        "Accessing values (keys, values, items)\n",
        "\n",
        "Adding, updating, deleting key-value pairs\n",
        "\n",
        "Dictionary operations\n",
        "\n",
        "Dictionary methods\n",
        "\n",
        "Dictionary Functions\n",
        "\n",
        "Nested dictionaries\n"
      ],
      "metadata": {
        "id": "nsZ5ma4ODTia"
      }
    },
    {
      "cell_type": "markdown",
      "source": [
        "### **Dictionaries Concept**\n",
        "Dictionary in Python is a collection of keys values, used to store data values like a map, which, unlike other data types which hold only a single value as an element.\n",
        "\n",
        "In some languages it is known as map or assosiative arrays.\n",
        "\n",
        "dict = { 'name' : 'nitish' , 'age' : 33 , 'gender' : 'male' }\n",
        "\n",
        "**Characterstics:**\n",
        "\n",
        "Mutable\n",
        "\n",
        "Indexing has no meaning\n",
        "\n",
        "keys can't be duplicated\n",
        "\n",
        "keys can't be mutable items\n",
        "(we can not add list, sets and dic. itself in key)\n",
        "(we can add any value iinside \"values\")"
      ],
      "metadata": {
        "id": "AFU3NeYS9IAw"
      }
    },
    {
      "cell_type": "markdown",
      "source": [
        "### **Create Dictionary**"
      ],
      "metadata": {
        "id": "aCD5OHM1-GAN"
      }
    },
    {
      "cell_type": "code",
      "source": [
        "# empty dictionary\n",
        "d = {}\n",
        "d"
      ],
      "metadata": {
        "colab": {
          "base_uri": "https://localhost:8080/"
        },
        "id": "g7mHeahk9XbD",
        "outputId": "5260648f-66ec-48b0-e929-4dc54aa07f91"
      },
      "execution_count": null,
      "outputs": [
        {
          "output_type": "execute_result",
          "data": {
            "text/plain": [
              "{}"
            ]
          },
          "metadata": {},
          "execution_count": 2
        }
      ]
    },
    {
      "cell_type": "code",
      "source": [
        "# 1D dictionary\n",
        "#homo.\n",
        "# when all keys are of same type, homogenious dictionary\n",
        "d1 = { 10 : \"ten\" , 9 : 'fruit' }\n",
        "d1"
      ],
      "metadata": {
        "colab": {
          "base_uri": "https://localhost:8080/"
        },
        "id": "2HYTo4DkjPsI",
        "outputId": "90fa9dbd-b919-41dd-b886-2a0b852250c1"
      },
      "execution_count": null,
      "outputs": [
        {
          "output_type": "execute_result",
          "data": {
            "text/plain": [
              "{10: 'ten', 'gender': 'male'}"
            ]
          },
          "metadata": {},
          "execution_count": 3
        }
      ]
    },
    {
      "cell_type": "code",
      "source": [
        "# mixed key dic.\n",
        "# with mixed keys\n",
        "# string and tuple\n",
        "\n",
        "d2 = {(1,2,3):1,'hello':'world'}\n",
        "d2"
      ],
      "metadata": {
        "colab": {
          "base_uri": "https://localhost:8080/"
        },
        "id": "IWpbI1OvjX9t",
        "outputId": "653c2f55-2681-4cd3-bd8c-69d1b0bed7a2"
      },
      "execution_count": null,
      "outputs": [
        {
          "output_type": "execute_result",
          "data": {
            "text/plain": [
              "{(1, 2, 3): 1, 'hello': 'world'}"
            ]
          },
          "metadata": {},
          "execution_count": 4
        }
      ]
    },
    {
      "cell_type": "code",
      "source": [
        "# 2D dictionary -> JSON\n",
        "s = {\n",
        "    'name':'nitish',\n",
        "     'college':'women',\n",
        "     'sem':4,\n",
        "     'subjects':{\n",
        "         'dsa':50,\n",
        "         'maths':67,\n",
        "         'english':34\n",
        "     }\n",
        "}\n"
      ],
      "metadata": {
        "colab": {
          "base_uri": "https://localhost:8080/"
        },
        "id": "fySuRxB_jPtS",
        "outputId": "3814b2f3-c961-46a3-f490-87a68a516c4c"
      },
      "execution_count": null,
      "outputs": [
        {
          "output_type": "execute_result",
          "data": {
            "text/plain": [
              "{'name': 'nitish',\n",
              " 'college': 'bit',\n",
              " 'sem': 4,\n",
              " 'subjects': {'dsa': 50, 'maths': 67, 'english': 34}}"
            ]
          },
          "metadata": {},
          "execution_count": 6
        }
      ]
    },
    {
      "cell_type": "code",
      "source": [
        "# using sequence and dict function\n",
        "\n",
        "d = dict([(1,2), (3,4),(5,6),(6,7)])\n",
        "d"
      ],
      "metadata": {
        "colab": {
          "base_uri": "https://localhost:8080/"
        },
        "id": "prJ1KMR_m3hn",
        "outputId": "4eda9fa0-0ee5-4daa-bbb9-8e82c21b3aaa"
      },
      "execution_count": null,
      "outputs": [
        {
          "output_type": "execute_result",
          "data": {
            "text/plain": [
              "{1: 2, 3: 4, 5: 6, 6: 7}"
            ]
          },
          "metadata": {},
          "execution_count": 4
        }
      ]
    },
    {
      "cell_type": "code",
      "source": [
        "# using sequence and dict function\n",
        "\n",
        "d4 = dict([('name','nitish'),('age',32),(3,3)])\n",
        "d4"
      ],
      "metadata": {
        "colab": {
          "base_uri": "https://localhost:8080/"
        },
        "id": "MybleOGcjPyH",
        "outputId": "b667ae6c-62f3-4dc2-ffca-c9ffac699f2e"
      },
      "execution_count": null,
      "outputs": [
        {
          "output_type": "execute_result",
          "data": {
            "text/plain": [
              "{'name': 'nitish', 'age': 32, 3: 3}"
            ]
          },
          "metadata": {},
          "execution_count": 7
        }
      ]
    },
    {
      "cell_type": "code",
      "source": [
        "# duplicate keys\n",
        "# d5 = {'name':'nitish','name':'rahul'}\n",
        "# d5"
      ],
      "metadata": {
        "id": "iLtQBkuWjPzH"
      },
      "execution_count": null,
      "outputs": []
    },
    {
      "cell_type": "code",
      "source": [
        "# mutable items as keys\n",
        "# d = {'name':'nitish',[1,2,3]:2}\n",
        "# print(d)\n",
        "\n",
        "\n",
        "d1 = {'name':'nitish',(1,2,3):2}\n",
        "print(d1)"
      ],
      "metadata": {
        "colab": {
          "base_uri": "https://localhost:8080/"
        },
        "id": "z1ngvXTfjP5E",
        "outputId": "d9077b2c-5a6f-4ded-a2ca-e8ba73203adb"
      },
      "execution_count": null,
      "outputs": [
        {
          "output_type": "stream",
          "name": "stdout",
          "text": [
            "{'name': 'nitish', (1, 2, 3): 2}\n"
          ]
        }
      ]
    },
    {
      "cell_type": "markdown",
      "source": [
        "## **Accessing items**"
      ],
      "metadata": {
        "id": "85p4a9--ow9y"
      }
    },
    {
      "cell_type": "code",
      "source": [
        "my_dict = {'name': 'Jack', 'age': 26}\n",
        "# my_dict[0]"
      ],
      "metadata": {
        "id": "X2FXnq-ljP6F"
      },
      "execution_count": null,
      "outputs": []
    },
    {
      "cell_type": "code",
      "source": [
        "# by providing key\n",
        "my_dict = {'name': 'Jack', 'age': 26}\n",
        "my_dict[\"name\"] = \"jaw\"\n",
        "my_dict"
      ],
      "metadata": {
        "colab": {
          "base_uri": "https://localhost:8080/"
        },
        "id": "kBgz9VDspHFc",
        "outputId": "7cdc025b-b862-4472-f023-1c68e2aaab72"
      },
      "execution_count": null,
      "outputs": [
        {
          "output_type": "execute_result",
          "data": {
            "text/plain": [
              "{'name': 'jaw', 'age': 26}"
            ]
          },
          "metadata": {},
          "execution_count": 39
        }
      ]
    },
    {
      "cell_type": "code",
      "source": [
        "# get method\n",
        "my_dict.get('age')"
      ],
      "metadata": {
        "colab": {
          "base_uri": "https://localhost:8080/"
        },
        "id": "U6ZhYoSUpHGk",
        "outputId": "ee30c557-f442-4b08-d80f-920ae64702db"
      },
      "execution_count": null,
      "outputs": [
        {
          "output_type": "execute_result",
          "data": {
            "text/plain": [
              "26"
            ]
          },
          "metadata": {},
          "execution_count": 7
        }
      ]
    },
    {
      "cell_type": "code",
      "source": [
        "# fetching item of 2D dic.\n",
        "# 2D dictionary -> JSON\n",
        "s = {\n",
        "    'name':'nitish',\n",
        "     'college':'bit',\n",
        "     'sem':4,\n",
        "     'subjects':{\n",
        "         'dsa':50,\n",
        "         'maths':67,\n",
        "         'english':34\n",
        "     }\n",
        "}\n",
        "s\n"
      ],
      "metadata": {
        "colab": {
          "base_uri": "https://localhost:8080/"
        },
        "id": "X5U2zUAeuMfI",
        "outputId": "580a38a3-2299-4e1f-e133-7793bcdd07f6"
      },
      "execution_count": null,
      "outputs": [
        {
          "output_type": "execute_result",
          "data": {
            "text/plain": [
              "{'name': 'nitish',\n",
              " 'college': 'bit',\n",
              " 'sem': 4,\n",
              " 'subjects': {'dsa': 50, 'maths': 67, 'english': 34}}"
            ]
          },
          "metadata": {},
          "execution_count": 8
        }
      ]
    },
    {
      "cell_type": "code",
      "source": [
        "s['subjects']['dsa']"
      ],
      "metadata": {
        "colab": {
          "base_uri": "https://localhost:8080/"
        },
        "id": "nGnE4xp8ua66",
        "outputId": "a5f64ca4-9110-4e51-81b5-1a18c26c2ddd"
      },
      "execution_count": null,
      "outputs": [
        {
          "output_type": "execute_result",
          "data": {
            "text/plain": [
              "50"
            ]
          },
          "metadata": {},
          "execution_count": 9
        }
      ]
    },
    {
      "cell_type": "code",
      "source": [
        "# how many square brackets you have to use, depends on numbers of dimensions"
      ],
      "metadata": {
        "id": "b411nMY4uwGo"
      },
      "execution_count": null,
      "outputs": []
    },
    {
      "cell_type": "markdown",
      "source": [
        "## **Adding key-value pair**"
      ],
      "metadata": {
        "id": "BuxjEy_XqAN_"
      }
    },
    {
      "cell_type": "code",
      "source": [
        "\n",
        "d = {'name': 'jaweria', 'age': 24, 'goal': 'data S.'}\n",
        "d['gender'] = 'female'\n",
        "d\n",
        "# d4['weight'] = 72\n",
        "# d4"
      ],
      "metadata": {
        "colab": {
          "base_uri": "https://localhost:8080/"
        },
        "id": "SqLo_8fKpHJ4",
        "outputId": "0e574c1c-a318-4d3f-859f-2bd29de68030"
      },
      "execution_count": null,
      "outputs": [
        {
          "output_type": "execute_result",
          "data": {
            "text/plain": [
              "{'name': 'jaweria', 'age': 24, 'goal': 'data S.', 'gender': 'female'}"
            ]
          },
          "metadata": {},
          "execution_count": 10
        }
      ]
    },
    {
      "cell_type": "code",
      "source": [
        "#\n",
        "s = {\n",
        "    'name':'nitish',\n",
        "     'college':'bit',\n",
        "     'sem':4,\n",
        "     'subjects':{\n",
        "         'dsa':50,\n",
        "         'maths':67,\n",
        "         'english':34\n",
        "     }\n",
        "}\n",
        "s\n"
      ],
      "metadata": {
        "colab": {
          "base_uri": "https://localhost:8080/"
        },
        "id": "1tYbya2bvS8T",
        "outputId": "12b72ec5-e302-41da-c626-53ebd9173ac4"
      },
      "execution_count": null,
      "outputs": [
        {
          "output_type": "execute_result",
          "data": {
            "text/plain": [
              "{'name': 'nitish',\n",
              " 'college': 'bit',\n",
              " 'sem': 4,\n",
              " 'subjects': {'dsa': 50, 'maths': 67, 'english': 34}}"
            ]
          },
          "metadata": {},
          "execution_count": 26
        }
      ]
    },
    {
      "cell_type": "code",
      "source": [
        "s['subjects']['english'] = 100\n",
        "s"
      ],
      "metadata": {
        "colab": {
          "base_uri": "https://localhost:8080/"
        },
        "id": "_6ZNsG2jvh8m",
        "outputId": "1628b217-b60a-48c4-9ff0-9bef48dc978f"
      },
      "execution_count": null,
      "outputs": [
        {
          "output_type": "execute_result",
          "data": {
            "text/plain": [
              "{'name': 'nitish',\n",
              " 'college': 'bit',\n",
              " 'sem': 4,\n",
              " 'subjects': {'dsa': 50, 'maths': 67, 'english': 100}}"
            ]
          },
          "metadata": {},
          "execution_count": 28
        }
      ]
    },
    {
      "cell_type": "markdown",
      "source": [
        "### **Remove key-value pair**"
      ],
      "metadata": {
        "id": "KYwaOLAsqy71"
      }
    },
    {
      "cell_type": "code",
      "source": [
        "\n",
        "# pop\n",
        "# by providing key , corresponding key value pair will be deleted\n",
        "d = {'name': 'jaweria', 'age': 24, 'goal': 'data S.'}\n",
        "print(d)\n",
        "d.pop('name')\n",
        "print(d)"
      ],
      "metadata": {
        "colab": {
          "base_uri": "https://localhost:8080/"
        },
        "id": "rD2JaYctpHZI",
        "outputId": "740bc3e0-db48-43fd-f1e5-dacc7621e984"
      },
      "execution_count": null,
      "outputs": [
        {
          "output_type": "stream",
          "name": "stdout",
          "text": [
            "{'name': 'jaweria', 'age': 24, 'goal': 'data S.'}\n",
            "{'age': 24, 'goal': 'data S.'}\n"
          ]
        }
      ]
    },
    {
      "cell_type": "code",
      "source": [
        "d = {'name': 'jaweria', 'age': 24, 'goal': 'data S.', 24 : 24}\n",
        "d.pop(24)\n",
        "print(d)"
      ],
      "metadata": {
        "colab": {
          "base_uri": "https://localhost:8080/"
        },
        "id": "8sN4VUgAjQHu",
        "outputId": "412d3661-3963-4ff2-a382-e302880d9ce6"
      },
      "execution_count": null,
      "outputs": [
        {
          "output_type": "stream",
          "name": "stdout",
          "text": [
            "{'name': 'jaweria', 'age': 24, 'goal': 'data S.'}\n"
          ]
        }
      ]
    },
    {
      "cell_type": "code",
      "source": [
        "# popitem\n",
        "# will delete last item , and the printing rest of key value pair\n",
        "d = {'name': 'jaweria', 'age': 24, 'goal': 'data S.', \"age\" : 24}\n",
        "d.popitem()\n",
        "\n",
        "print(d)"
      ],
      "metadata": {
        "colab": {
          "base_uri": "https://localhost:8080/"
        },
        "id": "OvxgX-oUrYQY",
        "outputId": "705ba1b6-ec24-4ac9-d0ea-09eda50f8622"
      },
      "execution_count": null,
      "outputs": [
        {
          "output_type": "execute_result",
          "data": {
            "text/plain": [
              "('goal', 'data S.')"
            ]
          },
          "metadata": {},
          "execution_count": 13
        }
      ]
    },
    {
      "cell_type": "code",
      "source": [
        "d"
      ],
      "metadata": {
        "colab": {
          "base_uri": "https://localhost:8080/"
        },
        "id": "W8So1KZhrYRt",
        "outputId": "a0a09f6f-3c1f-4daf-b716-48ef4629b792"
      },
      "execution_count": null,
      "outputs": [
        {
          "output_type": "execute_result",
          "data": {
            "text/plain": [
              "{'name': 'jaweria', 'age': 24, 'goal': 'data S.'}"
            ]
          },
          "metadata": {},
          "execution_count": 19
        }
      ]
    },
    {
      "cell_type": "code",
      "source": [
        "\n",
        "# del\n",
        "# specific key v pair can be deleted\n",
        "d = {'name': 'jaweria', 'age': 24, 'goal': 'data S.', 24 : 24}\n",
        "del d['name']\n",
        "print(d)"
      ],
      "metadata": {
        "colab": {
          "base_uri": "https://localhost:8080/"
        },
        "id": "cX2BxPDIrYVE",
        "outputId": "a9294621-ad32-477f-dbc9-0b316a605dd3"
      },
      "execution_count": null,
      "outputs": [
        {
          "output_type": "stream",
          "name": "stdout",
          "text": [
            "{'age': 24, 'goal': 'data S.', 24: 24}\n"
          ]
        }
      ]
    },
    {
      "cell_type": "code",
      "source": [
        "# pop and del are doing same work"
      ],
      "metadata": {
        "id": "_vGO5NpcrYWW"
      },
      "execution_count": null,
      "outputs": []
    },
    {
      "cell_type": "code",
      "source": [
        "# clear\n",
        "d = {'name': 'jaweria', 'age': 24, 'goal': 'data S.', 24 : 24}\n",
        "d.clear()\n",
        "print(d)"
      ],
      "metadata": {
        "colab": {
          "base_uri": "https://localhost:8080/"
        },
        "id": "ZMOdo8larYZK",
        "outputId": "08bb1860-abc3-4490-8f88-1cc58b891451"
      },
      "execution_count": null,
      "outputs": [
        {
          "output_type": "stream",
          "name": "stdout",
          "text": [
            "{}\n"
          ]
        }
      ]
    },
    {
      "cell_type": "code",
      "source": [
        "# 2D\n",
        "#\n",
        "s = {\n",
        "    'name':'nitish',\n",
        "     'college':'bit',\n",
        "     'sem':4,\n",
        "     'subjects':{\n",
        "         'dsa':50,\n",
        "         'maths':67,\n",
        "         'english':34\n",
        "     }\n",
        "}\n",
        "s"
      ],
      "metadata": {
        "colab": {
          "base_uri": "https://localhost:8080/"
        },
        "id": "eI2E7xN7rYaa",
        "outputId": "bb0f12b3-7d2b-4155-b108-7cc1467bcc5f"
      },
      "execution_count": null,
      "outputs": [
        {
          "output_type": "execute_result",
          "data": {
            "text/plain": [
              "{'name': 'nitish',\n",
              " 'college': 'bit',\n",
              " 'sem': 4,\n",
              " 'subjects': {'dsa': 50, 'maths': 67, 'english': 34}}"
            ]
          },
          "metadata": {},
          "execution_count": 29
        }
      ]
    },
    {
      "cell_type": "code",
      "source": [
        "del s['subjects']['english']\n",
        "s"
      ],
      "metadata": {
        "colab": {
          "base_uri": "https://localhost:8080/"
        },
        "id": "AqSi-tV5rYdL",
        "outputId": "ca03e881-2789-47f5-db3c-27369e27d124"
      },
      "execution_count": null,
      "outputs": [
        {
          "output_type": "execute_result",
          "data": {
            "text/plain": [
              "{'name': 'nitish',\n",
              " 'college': 'bit',\n",
              " 'sem': 4,\n",
              " 'subjects': {'dsa': 50, 'maths': 67}}"
            ]
          },
          "metadata": {},
          "execution_count": 15
        }
      ]
    },
    {
      "cell_type": "markdown",
      "source": [
        "### **Editing key-value pair**"
      ],
      "metadata": {
        "id": "A-HbL4hVwpJm"
      }
    },
    {
      "cell_type": "code",
      "source": [
        "# editing /updating values\n",
        "a = {\n",
        "    'name':'nitish',\n",
        "     'college':'bit',\n",
        "     'sem':4,\n",
        "     'subjects':{\n",
        "         'dsa':50,\n",
        "         'maths':67,\n",
        "         'english':34\n",
        "     }\n",
        "}"
      ],
      "metadata": {
        "id": "67TkgGW6w01n"
      },
      "execution_count": null,
      "outputs": []
    },
    {
      "cell_type": "code",
      "source": [
        "a[\"subject\"]= \"math\""
      ],
      "metadata": {
        "id": "exo6PzBBFyb_"
      },
      "execution_count": null,
      "outputs": []
    },
    {
      "cell_type": "code",
      "source": [
        "a['subjects']['dsa'] = 80\n",
        "\n",
        "a"
      ],
      "metadata": {
        "colab": {
          "base_uri": "https://localhost:8080/"
        },
        "id": "LrC_faCgrYec",
        "outputId": "1826a417-96b7-4fc4-b0e2-d3e08a33e441"
      },
      "execution_count": null,
      "outputs": [
        {
          "output_type": "execute_result",
          "data": {
            "text/plain": [
              "{'name': 'nitish',\n",
              " 'college': 'bit',\n",
              " 'sem': 4,\n",
              " 'subjects': {'dsa': 80, 'maths': 67, 'english': 34}}"
            ]
          },
          "metadata": {},
          "execution_count": 18
        }
      ]
    },
    {
      "cell_type": "markdown",
      "source": [
        "## **Dictionary Operations**\n",
        "\n",
        "Membership\n",
        "\n",
        "Iteration"
      ],
      "metadata": {
        "id": "iymqxDrcxstk"
      }
    },
    {
      "cell_type": "code",
      "source": [
        "a = [1,2,3,4]\n",
        "1  not in a"
      ],
      "metadata": {
        "colab": {
          "base_uri": "https://localhost:8080/"
        },
        "id": "Z5tKdAO4GPTj",
        "outputId": "e9fb2c86-7fad-48cc-dc8e-9b417135089b"
      },
      "execution_count": null,
      "outputs": [
        {
          "output_type": "execute_result",
          "data": {
            "text/plain": [
              "False"
            ]
          },
          "metadata": {},
          "execution_count": 20
        }
      ]
    },
    {
      "cell_type": "code",
      "source": [
        "#\n",
        "a = {\n",
        "    'name':'nitish',\n",
        "     'college':'bit',\n",
        "     'sem':4,\n",
        "     'subjects':{\n",
        "         'dsa':50,\n",
        "         'maths':67,\n",
        "         'english':34\n",
        "     }\n",
        "}\n",
        "print(s)\n",
        "\n",
        "# we focus on keys not on values\n",
        "'name' not in s\n"
      ],
      "metadata": {
        "colab": {
          "base_uri": "https://localhost:8080/"
        },
        "id": "SqU8Af-Gxx-k",
        "outputId": "85beb5ac-1424-4d8c-f5ef-644c67ca4565"
      },
      "execution_count": null,
      "outputs": [
        {
          "output_type": "stream",
          "name": "stdout",
          "text": [
            "{'name': 'nitish', 'college': 'bit', 'sem': 4, 'subjects': {'dsa': 50, 'maths': 67}}\n"
          ]
        },
        {
          "output_type": "execute_result",
          "data": {
            "text/plain": [
              "False"
            ]
          },
          "metadata": {},
          "execution_count": 21
        }
      ]
    },
    {
      "cell_type": "markdown",
      "source": [
        "**Iteration**"
      ],
      "metadata": {
        "id": "svu95Qjoys66"
      }
    },
    {
      "cell_type": "code",
      "source": [
        "d = {'name':'nitish','gender':'male','age':33}\n",
        "\n",
        "for i in d:\n",
        "  print(i)"
      ],
      "metadata": {
        "colab": {
          "base_uri": "https://localhost:8080/"
        },
        "id": "-ElloyJmxx__",
        "outputId": "44b3afe8-6e80-44fe-9a19-59725fb4b097"
      },
      "execution_count": null,
      "outputs": [
        {
          "output_type": "stream",
          "name": "stdout",
          "text": [
            "name\n",
            "gender\n",
            "age\n"
          ]
        }
      ]
    },
    {
      "cell_type": "code",
      "source": [
        "#"
      ],
      "metadata": {
        "id": "nKeO8ypXHBrK"
      },
      "execution_count": null,
      "outputs": []
    },
    {
      "cell_type": "code",
      "source": [
        "d = {'name':'nitish','gender':'male','age':33}\n",
        "\n",
        "for a in d:\n",
        "  print(a, d[a])\n",
        "  # dictionary of i d[i] gives values of keys"
      ],
      "metadata": {
        "colab": {
          "base_uri": "https://localhost:8080/"
        },
        "id": "gJN0UgeQy7nE",
        "outputId": "a3400524-3531-453c-c65f-2f57fae0ed6d"
      },
      "execution_count": null,
      "outputs": [
        {
          "output_type": "stream",
          "name": "stdout",
          "text": [
            "name nitish\n",
            "gender male\n",
            "age 33\n"
          ]
        }
      ]
    },
    {
      "cell_type": "markdown",
      "source": [
        "## **Dictionary Functions**"
      ],
      "metadata": {
        "id": "96COBu1S0eZd"
      }
    },
    {
      "cell_type": "code",
      "source": [
        "# len/sorted\n",
        "d = {'cast': 'mayo', 'origin': 'hindustan', 'migration': 1947}\n",
        "print(d)"
      ],
      "metadata": {
        "colab": {
          "base_uri": "https://localhost:8080/"
        },
        "id": "d9637kcZ0dcY",
        "outputId": "57357131-c877-4b5b-9633-d2a78e32b6b2"
      },
      "execution_count": null,
      "outputs": [
        {
          "output_type": "stream",
          "name": "stdout",
          "text": [
            "{'cast': 'mayo', 'origin': 'hindustan', 'migration': 1947}\n"
          ]
        }
      ]
    },
    {
      "cell_type": "code",
      "source": [
        "len(d)"
      ],
      "metadata": {
        "colab": {
          "base_uri": "https://localhost:8080/"
        },
        "id": "xSjXu2dMLVNR",
        "outputId": "6c5378d3-d5ea-4cfc-b371-9bb7c3df5626"
      },
      "execution_count": null,
      "outputs": [
        {
          "output_type": "execute_result",
          "data": {
            "text/plain": [
              "3"
            ]
          },
          "metadata": {},
          "execution_count": 26
        }
      ]
    },
    {
      "cell_type": "code",
      "source": [
        "# min max sorted accoeding to ASCII values\n",
        "# a,b,c\n",
        "max(d)"
      ],
      "metadata": {
        "colab": {
          "base_uri": "https://localhost:8080/",
          "height": 36
        },
        "id": "nbiR-ZQeLJOL",
        "outputId": "bcdb5127-f499-4999-a735-c78b476e1472"
      },
      "execution_count": null,
      "outputs": [
        {
          "output_type": "execute_result",
          "data": {
            "text/plain": [
              "'origin'"
            ],
            "application/vnd.google.colaboratory.intrinsic+json": {
              "type": "string"
            }
          },
          "metadata": {},
          "execution_count": 27
        }
      ]
    },
    {
      "cell_type": "code",
      "source": [
        "min(d)"
      ],
      "metadata": {
        "id": "jLWjXyX3Ks0H",
        "colab": {
          "base_uri": "https://localhost:8080/",
          "height": 36
        },
        "outputId": "cc0e48e5-00fb-40a4-f6bf-97e76f4a5ce1"
      },
      "execution_count": null,
      "outputs": [
        {
          "output_type": "execute_result",
          "data": {
            "text/plain": [
              "'cast'"
            ],
            "application/vnd.google.colaboratory.intrinsic+json": {
              "type": "string"
            }
          },
          "metadata": {},
          "execution_count": 28
        }
      ]
    },
    {
      "cell_type": "code",
      "source": [
        "l = {'cast': 'mayo', 'origin': 'hindustan', 'migration': 1947}\n",
        "#l.sorted\n",
        "sorted(l)"
      ],
      "metadata": {
        "colab": {
          "base_uri": "https://localhost:8080/"
        },
        "id": "phI0eMWJH4hc",
        "outputId": "4269e2c6-62fb-482e-ec74-1449da4dc170"
      },
      "execution_count": null,
      "outputs": [
        {
          "output_type": "execute_result",
          "data": {
            "text/plain": [
              "['cast', 'migration', 'origin']"
            ]
          },
          "metadata": {},
          "execution_count": 32
        }
      ]
    },
    {
      "cell_type": "code",
      "source": [
        "sorted(d,reverse=True)"
      ],
      "metadata": {
        "id": "2uGkmloiKs1r"
      },
      "execution_count": null,
      "outputs": []
    },
    {
      "cell_type": "code",
      "source": [
        "# items/keys/values\n",
        "# d.items() convert the key value pair into the form of list of tuples\n",
        "# every item is tuple which are inside the list\n",
        "d = {'cast': 'mayo', 'origin': 'hindustan', 'migration': 1947}\n",
        "print(d)\n",
        "\n",
        "print(d.items())"
      ],
      "metadata": {
        "colab": {
          "base_uri": "https://localhost:8080/"
        },
        "id": "hzr5iqHYKs5d",
        "outputId": "99a4a2a9-ab54-4923-e185-9e277f7cf7ee"
      },
      "execution_count": null,
      "outputs": [
        {
          "output_type": "stream",
          "name": "stdout",
          "text": [
            "{'cast': 'mayo', 'origin': 'hindustan', 'migration': 1947}\n",
            "dict_items([('cast', 'mayo'), ('origin', 'hindustan'), ('migration', 1947)])\n"
          ]
        }
      ]
    },
    {
      "cell_type": "code",
      "source": [
        "# d.keys()\n",
        "# will print all the keys\n",
        "d = {'degree': 'BSIT', 'start_Date': 2020, 'end_date': 2024}\n",
        "print(d.keys())"
      ],
      "metadata": {
        "colab": {
          "base_uri": "https://localhost:8080/"
        },
        "id": "z36RKMo_Ks7H",
        "outputId": "8e2228f8-6a1c-4351-e280-0eacbbbe1501"
      },
      "execution_count": null,
      "outputs": [
        {
          "output_type": "stream",
          "name": "stdout",
          "text": [
            "dict_keys(['degree', 'start_Date', 'end_date'])\n"
          ]
        }
      ]
    },
    {
      "cell_type": "code",
      "source": [
        "# d.values()\n",
        "d = {'degree': 'BSIT', 'start_Date': 2020, 'end_date': 2024}\n",
        "print(d.values())"
      ],
      "metadata": {
        "colab": {
          "base_uri": "https://localhost:8080/"
        },
        "id": "MtcLCr3zNZk2",
        "outputId": "6ee0999f-8270-40ce-d69b-a1368a090ad7"
      },
      "execution_count": null,
      "outputs": [
        {
          "output_type": "stream",
          "name": "stdout",
          "text": [
            "dict_values(['BSIT', 2020, 2024])\n"
          ]
        }
      ]
    },
    {
      "cell_type": "code",
      "source": [
        "# update()\n",
        "# can update the given dictionary d1 by second dic.\n",
        "d1 = {1:2,3:4,4:5}\n",
        "d2 = {4:7,6:8}\n",
        "print(d1)\n",
        "d1.update(d2)\n",
        "print(d1)"
      ],
      "metadata": {
        "colab": {
          "base_uri": "https://localhost:8080/"
        },
        "id": "oHdliH29NZtg",
        "outputId": "cd39d0c0-2f92-4d2f-c61d-ac6cb13d37df"
      },
      "execution_count": null,
      "outputs": [
        {
          "output_type": "stream",
          "name": "stdout",
          "text": [
            "{1: 2, 3: 4, 4: 5}\n",
            "{1: 2, 3: 4, 4: 7, 6: 8}\n"
          ]
        }
      ]
    },
    {
      "cell_type": "markdown",
      "source": [
        "## ***Dictionary Comprehension***\n",
        "![image.png](data:image/png;base64,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)"
      ],
      "metadata": {
        "id": "nsUUmaZ1Qqu3"
      }
    },
    {
      "cell_type": "code",
      "source": [
        "# print 1st 10 numbers and their squares\n",
        "# for every i in iterable , which are range()\n",
        "{i:i**2 for i in range(1,11)}"
      ],
      "metadata": {
        "colab": {
          "base_uri": "https://localhost:8080/"
        },
        "id": "kZtPOpLnNZvG",
        "outputId": "be80c51a-a617-4740-a872-9c0633db1e9d"
      },
      "execution_count": null,
      "outputs": [
        {
          "output_type": "execute_result",
          "data": {
            "text/plain": [
              "{1: 1, 2: 4, 3: 9, 4: 16, 5: 25, 6: 36, 7: 49, 8: 64, 9: 81, 10: 100}"
            ]
          },
          "metadata": {},
          "execution_count": 16
        }
      ]
    },
    {
      "cell_type": "code",
      "source": [
        "#  can use existing dictionary\n",
        "# every key value in a tuple\n",
        "distances = {'delhi':1000,'mumbai':2000,'bangalore':3000}\n",
        "print(distances.items())"
      ],
      "metadata": {
        "colab": {
          "base_uri": "https://localhost:8080/"
        },
        "id": "0t96sqkdRqqo",
        "outputId": "2d1be7b4-603a-4dd6-fdfb-6edbbd933828"
      },
      "execution_count": null,
      "outputs": [
        {
          "output_type": "stream",
          "name": "stdout",
          "text": [
            "dict_items([('delhi', 1000), ('mumbai', 2000), ('bangalore', 3000)])\n"
          ]
        }
      ]
    },
    {
      "cell_type": "code",
      "source": [
        "# using existing dic.\n",
        "distances = {'delhi':1000,'mumbai':2000,'bangalore':3000}\n",
        "{key:value*0.62 for (key,value) in distances.items()}"
      ],
      "metadata": {
        "colab": {
          "base_uri": "https://localhost:8080/"
        },
        "id": "VYa9Cr-qRqsM",
        "outputId": "908bdd4d-2099-43c9-ef0d-5821d0e1bbed"
      },
      "execution_count": null,
      "outputs": [
        {
          "output_type": "execute_result",
          "data": {
            "text/plain": [
              "{'delhi': 620.0, 'mumbai': 1240.0, 'bangalore': 1860.0}"
            ]
          },
          "metadata": {},
          "execution_count": 18
        }
      ]
    },
    {
      "cell_type": "code",
      "source": [
        "# using zip . comp.\n",
        "days = [\"Sunday\", \"Monday\",\"Tuesday\",\"Wednesday\",\"Thursday\",\"Friday\",\"Saturday\"]\n",
        "temp_C = [30.5,32.6,31.8,33.4,29.8,30.2,29.9]\n",
        "\n",
        "{i:j for (i,j) in zip(days,temp_C)}"
      ],
      "metadata": {
        "colab": {
          "base_uri": "https://localhost:8080/"
        },
        "id": "wi4eHYsLRquW",
        "outputId": "bb86c136-e410-45c1-d707-6e18b540c8e3"
      },
      "execution_count": null,
      "outputs": [
        {
          "output_type": "execute_result",
          "data": {
            "text/plain": [
              "{'Sunday': 30.5,\n",
              " 'Monday': 32.6,\n",
              " 'Tuesday': 31.8,\n",
              " 'Wednesday': 33.4,\n",
              " 'Thursday': 29.8,\n",
              " 'Friday': 30.2,\n",
              " 'Saturday': 29.9}"
            ]
          },
          "metadata": {},
          "execution_count": 19
        }
      ]
    },
    {
      "cell_type": "code",
      "source": [
        "\n",
        "# using if condition\n",
        "products = {'phone':10,'laptop':0,'charger':32,'tablet':0}\n",
        "\n",
        "{key:value for (key,value) in products.items() if value>0}"
      ],
      "metadata": {
        "colab": {
          "base_uri": "https://localhost:8080/"
        },
        "id": "ylpP_iz3Rqvy",
        "outputId": "354af2dc-3fdd-4de7-e8e0-d816d196d521"
      },
      "execution_count": null,
      "outputs": [
        {
          "output_type": "execute_result",
          "data": {
            "text/plain": [
              "{'phone': 10, 'charger': 32}"
            ]
          },
          "metadata": {},
          "execution_count": 20
        }
      ]
    },
    {
      "cell_type": "code",
      "source": [
        "# Nested dictionary\n",
        "# table of 2,3,4\n",
        "{\n",
        "    2:{1:2,2:4,3:6,4:8},\n",
        "    3:{1:3,2:6,3:9,4:12},\n",
        "    4:{1:4,2:8,3:12,4:16}\n",
        "}"
      ],
      "metadata": {
        "id": "UST-Xr3wRq6D"
      },
      "execution_count": null,
      "outputs": []
    },
    {
      "cell_type": "code",
      "source": [
        "# print tables of number from 2 to 4\n",
        "# outer loop i will run for 3 times, and then j loop for 10 times for every i value , when one loop will end then i value will increment by 3, 4\n",
        "\n",
        "{i:{j:i*j for j in range(1,11)} for i in range(2,5)}"
      ],
      "metadata": {
        "colab": {
          "base_uri": "https://localhost:8080/"
        },
        "id": "OVY_VwVtVIyt",
        "outputId": "02f66261-99aa-46a8-b314-378607651c18"
      },
      "execution_count": null,
      "outputs": [
        {
          "output_type": "execute_result",
          "data": {
            "text/plain": [
              "{2: {1: 2, 2: 4, 3: 6, 4: 8, 5: 10, 6: 12, 7: 14, 8: 16, 9: 18, 10: 20},\n",
              " 3: {1: 3, 2: 6, 3: 9, 4: 12, 5: 15, 6: 18, 7: 21, 8: 24, 9: 27, 10: 30},\n",
              " 4: {1: 4, 2: 8, 3: 12, 4: 16, 5: 20, 6: 24, 7: 28, 8: 32, 9: 36, 10: 40}}"
            ]
          },
          "metadata": {},
          "execution_count": 21
        }
      ]
    },
    {
      "cell_type": "markdown",
      "source": [
        "![image.png](data:image/png;base64,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)"
      ],
      "metadata": {
        "id": "sWrg-ujdXGEu"
      }
    }
  ]
}