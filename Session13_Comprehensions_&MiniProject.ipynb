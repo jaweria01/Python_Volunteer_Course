{
  "nbformat": 4,
  "nbformat_minor": 0,
  "metadata": {
    "colab": {
      "provenance": [],
      "include_colab_link": true
    },
    "kernelspec": {
      "name": "python3",
      "display_name": "Python 3"
    },
    "language_info": {
      "name": "python"
    }
  },
  "cells": [
    {
      "cell_type": "markdown",
      "metadata": {
        "id": "view-in-github",
        "colab_type": "text"
      },
      "source": [
        "<a href=\"https://colab.research.google.com/github/jaweria01/Python_Volunteer_Course/blob/main/Session13_Comprehensions_%26MiniProject.ipynb\" target=\"_parent\"><img src=\"https://colab.research.google.com/assets/colab-badge.svg\" alt=\"Open In Colab\"/></a>"
      ]
    },
    {
      "cell_type": "markdown",
      "source": [
        "## **Comprehensions**\n",
        "List comprehensions\n",
        "\n",
        "Dictionary comprehensions\n",
        "\n",
        "Set comprehensions\n",
        "\n",
        "Conditional comprehensions\n"
      ],
      "metadata": {
        "id": "adEzGubz5yhZ"
      }
    },
    {
      "cell_type": "markdown",
      "source": [
        "## **What is a List Comprehension?**\n",
        "\n",
        "List comprehension is a short and readable way to create new lists from existing ones in one line of code.\n",
        "\n",
        "It replaces loops"
      ],
      "metadata": {
        "id": "9o0akkmU6EFC"
      }
    },
    {
      "cell_type": "code",
      "source": [
        "#Traditional ways\n",
        "numbers = [1, 2, 3, 4, 5]\n",
        "squares = []\n",
        "for n in numbers:\n",
        "    squares.append(n * n)\n",
        "print(squares)\n"
      ],
      "metadata": {
        "id": "kmM4oPUPA4y4",
        "colab": {
          "base_uri": "https://localhost:8080/"
        },
        "outputId": "3f0c7b43-b9b9-43d2-d7aa-3d43f13ced6a"
      },
      "execution_count": null,
      "outputs": [
        {
          "output_type": "stream",
          "name": "stdout",
          "text": [
            "[1, 4, 9, 16, 25]\n"
          ]
        }
      ]
    },
    {
      "cell_type": "code",
      "source": [
        "squares = [n * n for n in [1, 2, 3, 4, 5]]\n",
        "print(squares)\n"
      ],
      "metadata": {
        "id": "xA5Tz9QJA9W0",
        "colab": {
          "base_uri": "https://localhost:8080/"
        },
        "outputId": "2d03f1d7-2c9d-4eac-bb08-3da798c6ec82"
      },
      "execution_count": null,
      "outputs": [
        {
          "output_type": "stream",
          "name": "stdout",
          "text": [
            "[1, 4, 9, 16, 25]\n"
          ]
        }
      ]
    },
    {
      "cell_type": "markdown",
      "source": [
        "#Basic Syntax:\n",
        "\n",
        "`[expression for item in iterable]`\n",
        "\n",
        "\n",
        "✅ expression → what to do with each item\n",
        "✅ item → variable representing each element\n",
        "✅ iterable → list, tuple, range, etc."
      ],
      "metadata": {
        "id": "MjaPPwwGBrFY"
      }
    },
    {
      "cell_type": "code",
      "source": [
        "#Square numbers\n",
        "\n",
        "squares = [x**2 for x in range(5)]\n",
        "# Output: [0, 1, 4, 9, 16]"
      ],
      "metadata": {
        "id": "6fG92wo1CEoe"
      },
      "execution_count": null,
      "outputs": []
    },
    {
      "cell_type": "code",
      "source": [
        "#3Convert strings to uppercase\n",
        "\n",
        "names = [\"ali\", \"sara\", \"fatima\"]\n",
        "upper_names = [name.upper() for name in names]\n",
        "print(upper_names)"
      ],
      "metadata": {
        "id": "49ASRwEpC4JR",
        "colab": {
          "base_uri": "https://localhost:8080/"
        },
        "outputId": "9658d033-0016-46ae-bace-55fc682ffc79"
      },
      "execution_count": null,
      "outputs": [
        {
          "output_type": "stream",
          "name": "stdout",
          "text": [
            "['ALI', 'SARA', 'FATIMA']\n"
          ]
        }
      ]
    },
    {
      "cell_type": "code",
      "source": [
        "#Filter even numbers\n",
        "\n",
        "even_nums = [n for n in range(10) if n % 2 == 0]\n",
        "print(even_nums)"
      ],
      "metadata": {
        "id": "87Wa1WShC8SR",
        "colab": {
          "base_uri": "https://localhost:8080/"
        },
        "outputId": "5ecd5caf-f922-48e5-a5f0-d01c2bcbd91f"
      },
      "execution_count": null,
      "outputs": [
        {
          "output_type": "stream",
          "name": "stdout",
          "text": [
            "[0, 2, 4, 6, 8]\n"
          ]
        }
      ]
    },
    {
      "cell_type": "code",
      "source": [
        "#Add condition with operation\n",
        "\n",
        "squares_of_even = [n**2 for n in range(10) if n % 2 == 0]"
      ],
      "metadata": {
        "id": "H48NZeNwDC6I"
      },
      "execution_count": null,
      "outputs": []
    },
    {
      "cell_type": "code",
      "source": [
        "#Nested loops (2D lists)\n",
        "\n",
        "pairs = [(x, y) for x in [1, 2] for y in [3, 4]]\n",
        "print(pairs)"
      ],
      "metadata": {
        "id": "ZzHFyQKGDGYe",
        "colab": {
          "base_uri": "https://localhost:8080/"
        },
        "outputId": "e25123d5-93d6-4121-e209-d78328bc3c14"
      },
      "execution_count": null,
      "outputs": [
        {
          "output_type": "stream",
          "name": "stdout",
          "text": [
            "[(1, 3), (1, 4), (2, 3), (2, 4)]\n"
          ]
        }
      ]
    },
    {
      "cell_type": "code",
      "source": [
        "#Equivalent Form\n",
        "result = []\n",
        "for item in iterable:\n",
        "    if condition:\n",
        "        result.append(expression)\n",
        "\n",
        "\n",
        "#is the same as 👇\n",
        "\n",
        "result = [expression for item in iterable if condition]"
      ],
      "metadata": {
        "id": "b-J-abAxDQju"
      },
      "execution_count": null,
      "outputs": []
    },
    {
      "cell_type": "markdown",
      "source": [
        "##Why We Use List Comprehensions (and not regular loops every time)\n",
        "\n",
        " 1. Cleaner & more readable code\tList comprehensions turn multiple lines into one clear expression.\n",
        "\n",
        " Instead of:\n",
        "\n",
        "\n",
        "\n",
        "```\n",
        " squares = []\n",
        "  for n in range(10):\n",
        "   squares.append(n**2)\n",
        "```\n",
        "\n",
        "\n",
        "\n",
        "\n",
        "\n",
        "\n",
        "We just write:squares\n",
        "\n",
        " `[n**2 for n in range(10)]`\n",
        "\n",
        "⚡ 2. Faster execution\tThey are optimized internally in Python and run faster than manual loops.\tFor large lists, comprehensions often execute 20–30% faster.\n",
        "\n",
        "\n",
        "✍️ 3. More expressive / declarative\tYou describe what you want, not how to build it step by step.\n",
        "\n",
        "\t[n for n in range(10) if n % 2 == 0]\n",
        "   clearly says “give me even numbers.”\n",
        "\n",
        "\n",
        "🔄 4. Compact filtering & mapping\tYou can easily transform (map) and filter (condition) data in the same line.\n",
        "\n",
        "\t[n**2 for n in range(10) if n%2==0]\n",
        "  \n",
        "   (square only even numbers)\n",
        "\n",
        "\n",
        "🧱 5. Great for quick data creation\tIdeal when you just need to build or modify a list temporarily.\tMaking test data, numbers, or short string lists.\n",
        "\n",
        "\n",
        "🚫 Why Not Always Use Loops?\n",
        "\n",
        "You can still use loops — and sometimes you should.\n",
        "\n",
        "Loops are better when:\n",
        "\n",
        "You need multiple complex steps (not just one expression).\n",
        "\n",
        "You are doing I/O operations (reading files, printing, etc.).\n",
        "\n",
        "You need to update variables or handle exceptions.\n",
        "\n",
        "The comprehension becomes too long or unreadable.\n",
        "\n",
        "Example — ❌ not recommended as comprehension:\n",
        "\n",
        "# Hard to read\n",
        "```\n",
        "[x**2 if x > 5 else x+1 for x in range(20) if x != 10]\n",
        "```\n",
        "\n",
        "✅ Better with loop:\n",
        "```\n",
        "result = []\n",
        "\n",
        "for x in range(20):\n",
        "\n",
        "    if x != 10:\n",
        "  \n",
        "        if x > 5:\n",
        "            result.append(x**2)\n",
        "        else:\n",
        "            result.append(x+1)\n"
      ],
      "metadata": {
        "id": "EITTLieSDmCf"
      }
    },
    {
      "cell_type": "markdown",
      "source": [
        "# Dictionary Comprehensions\n",
        "\n",
        "\n",
        "Used to create a dictionary (key–value pairs) in one line — just like list comprehensions create lists.\n",
        "\n",
        "Syntax:\n",
        "\n",
        "`{key_expression: value_expression for item in iterable}`"
      ],
      "metadata": {
        "id": "rdKg4W45Fg37"
      }
    },
    {
      "cell_type": "markdown",
      "source": [],
      "metadata": {
        "id": "xer0jErjFZak"
      }
    },
    {
      "cell_type": "code",
      "source": [
        "\n",
        "\n",
        "#Squares of numbers\n",
        "squares = {x: x**2 for x in range(5)}\n",
        "print(squares)\n"
      ],
      "metadata": {
        "id": "8ciAgXahFaMc",
        "colab": {
          "base_uri": "https://localhost:8080/"
        },
        "outputId": "67f920ff-2986-4130-d358-0ec30a50e863"
      },
      "execution_count": null,
      "outputs": [
        {
          "output_type": "stream",
          "name": "stdout",
          "text": [
            "{0: 0, 1: 1, 2: 4, 3: 9, 4: 16}\n"
          ]
        }
      ]
    },
    {
      "cell_type": "code",
      "source": [
        "\n",
        "# Convert keys to uppercase\n",
        "fruits = {\"apple\": 2, \"banana\": 3, \"cherry\": 5}\n",
        "upper_fruits = {k.upper(): v for k, v in fruits.items()}\n",
        "print(upper_fruits)\n"
      ],
      "metadata": {
        "id": "ML54sEM-FyVI",
        "colab": {
          "base_uri": "https://localhost:8080/"
        },
        "outputId": "66f91917-41ad-400d-abd8-03a4fef8521d"
      },
      "execution_count": null,
      "outputs": [
        {
          "output_type": "stream",
          "name": "stdout",
          "text": [
            "{'APPLE': 2, 'BANANA': 3, 'CHERRY': 5}\n"
          ]
        }
      ]
    },
    {
      "cell_type": "code",
      "source": [
        "# Filter values\n",
        "prices = {\"apple\": 50, \"banana\": 20, \"mango\": 80}\n",
        "expensive = {k: v for k, v in prices.items() if v > 40}\n",
        "print(expensive)\n"
      ],
      "metadata": {
        "id": "yGBXscP_F3er",
        "colab": {
          "base_uri": "https://localhost:8080/"
        },
        "outputId": "4a408303-cf67-4edc-b244-1846f0a6c15c"
      },
      "execution_count": null,
      "outputs": [
        {
          "output_type": "stream",
          "name": "stdout",
          "text": [
            "{'apple': 50, 'mango': 80}\n"
          ]
        }
      ]
    },
    {
      "cell_type": "markdown",
      "source": [
        "#Set Comprehensions\n",
        "\n",
        "\n",
        "Creates a set (unique elements, unordered) in one line.\n"
      ],
      "metadata": {
        "id": "_WcU3CU0GKCI"
      }
    },
    {
      "cell_type": "code",
      "source": [
        "\n",
        "\n",
        "#expression for item in iterable}\n",
        "\n",
        "# Squares of numbers\n",
        "\n",
        "squares = {x**2 for x in [1, 2, 3, 2, 1]}\n",
        "print(squares)\n",
        "# Notice duplicates are automatically removed.\n",
        "\n"
      ],
      "metadata": {
        "id": "s1y_VqxiGTx2",
        "colab": {
          "base_uri": "https://localhost:8080/"
        },
        "outputId": "3a0b6ec8-3d65-4196-a9f8-3a8f86ebcb07"
      },
      "execution_count": null,
      "outputs": [
        {
          "output_type": "stream",
          "name": "stdout",
          "text": [
            "{1, 4, 9}\n"
          ]
        }
      ]
    },
    {
      "cell_type": "code",
      "source": [
        "#Extract unique letters\n",
        "letters = {ch for ch in \"hello\"}\n",
        "print(letters)\n",
        "# Output: {'h', 'e', 'l', 'o'}\n"
      ],
      "metadata": {
        "id": "P5usqHXdGa0V",
        "colab": {
          "base_uri": "https://localhost:8080/"
        },
        "outputId": "329f4cde-cdd5-4cb7-ceaf-62ccb6294f08"
      },
      "execution_count": null,
      "outputs": [
        {
          "output_type": "stream",
          "name": "stdout",
          "text": [
            "{'e', 'o', 'l', 'h'}\n"
          ]
        }
      ]
    },
    {
      "cell_type": "markdown",
      "source": [
        "# Conditional Comprehensions\n",
        "\n",
        "\n",
        "Used inside list, dict, or set comprehensions to add conditions (like filtering or deciding value)."
      ],
      "metadata": {
        "id": "jnd0m46BKuN9"
      }
    },
    {
      "cell_type": "code",
      "source": [
        "\n",
        "# List Comprehension with if\n",
        "\n",
        "even_nums = [x for x in range(10) if x % 2 == 0]\n"
      ],
      "metadata": {
        "id": "HZf_wT93Gk3Z"
      },
      "execution_count": null,
      "outputs": []
    },
    {
      "cell_type": "code",
      "source": [
        "# Conditional Expression (if...else)\n",
        "\n",
        "result = [\"even\" if x % 2 == 0 else \"odd\" for x in range(5)]\n",
        "print(result)\n",
        "\n",
        "\n",
        "\n",
        "# Here, we’re deciding what to put in the list — not filtering.\n"
      ],
      "metadata": {
        "id": "ffUp1QcpGdEz",
        "colab": {
          "base_uri": "https://localhost:8080/"
        },
        "outputId": "7c013b67-4679-46ad-88a2-004100cce7f8"
      },
      "execution_count": null,
      "outputs": [
        {
          "output_type": "stream",
          "name": "stdout",
          "text": [
            "['even', 'odd', 'even', 'odd', 'even']\n"
          ]
        }
      ]
    },
    {
      "cell_type": "code",
      "source": [
        "\n",
        "# Conditional Dictionary Comprehension\n",
        "status = {x: (\"even\" if x % 2 == 0 else \"odd\") for x in range(5)}\n",
        "print(status)\n",
        "# Output: {0: 'even', 1: 'odd', 2: 'even', 3: 'odd', 4: 'even'}"
      ],
      "metadata": {
        "id": "nxEejQ9lGJpm",
        "colab": {
          "base_uri": "https://localhost:8080/"
        },
        "outputId": "25f3d362-a216-40bf-f296-744eae8af709"
      },
      "execution_count": null,
      "outputs": [
        {
          "output_type": "stream",
          "name": "stdout",
          "text": [
            "{0: 'even', 1: 'odd', 2: 'even', 3: 'odd', 4: 'even'}\n"
          ]
        }
      ]
    },
    {
      "cell_type": "markdown",
      "source": [
        "#Mini Project: Student Gradebook System\n",
        " Goal:\n",
        "\n",
        "Create a small program that:\n",
        "\n",
        "Takes student names and marks\n",
        "\n",
        "Stores them in a dictionary\n",
        "\n",
        "Calculates total, average, grade, and class performance\n",
        "\n",
        "Uses lists, tuples, sets, and conditions\n",
        "\n",
        "is program allow  to enter multiple students, record their marks in 3 subjects, calculate totals, averages, grades, and display class-level analysis (highest, lowest, unique marks, etc.).\n",
        "\n",
        "🧱 Concepts Used\n",
        "\n",
        "✅ Variables\n",
        "\n",
        "✅ Loops (for, while)\n",
        "\n",
        "✅ Conditional statements (if, elif, else)\n",
        "\n",
        "✅ Lists (store marks)\n",
        "\n",
        "✅ Tuples (fixed subject list)\n",
        "\n",
        "✅ Sets (unique marks)\n",
        "\n",
        "✅ Dictionaries (store student data)\n",
        "\n",
        "✅ String formatting"
      ],
      "metadata": {
        "id": "nM4cLY5nFmfB"
      }
    },
    {
      "cell_type": "code",
      "source": [
        "# 🎓 Student Gradebook System\n",
        "\n",
        "print(\"=== Student Gradebook System ===\")\n",
        "\n",
        "subjects = (\"Math\", \"Science\", \"English\")   # tuple for fixed subjects\n",
        "gradebook = {}  # dictionary: student_name -> list of marks\n",
        "\n",
        "num_students = int(input(\"Enter number of students: \"))\n",
        "\n",
        "# Step 1: Input student data\n",
        "for i in range(num_students):\n",
        "    name = input(f\"\\nEnter name of student {i+1}: \").capitalize()\n",
        "    marks = []  # list for marks\n",
        "\n",
        "    for subject in subjects:\n",
        "        mark = int(input(f\"Enter marks in {subject}: \"))\n",
        "        marks.append(mark)\n",
        "\n",
        "    gradebook[name] = marks  # store in dictionary\n",
        "\n",
        "# Step 2: Display summary\n",
        "print(\"\\n=== 🧾 Student Summary ===\")\n",
        "for name, marks in gradebook.items():\n",
        "    total = sum(marks)\n",
        "    avg = total / len(subjects)\n",
        "\n",
        "    # assign grade\n",
        "    if avg >= 85:\n",
        "        grade = \"A\"\n",
        "    elif avg >= 70:\n",
        "        grade = \"B\"\n",
        "    elif avg >= 60:\n",
        "        grade = \"C\"\n",
        "    else:\n",
        "        grade = \"Fail\"\n",
        "\n",
        "    print(f\"\\n{name}\")\n",
        "    print(f\"Marks: {marks}\")\n",
        "    print(f\"Total: {total}, Average: {avg:.2f}, Grade: {grade}\")\n",
        "\n",
        "# Step 3: Class-level summary using sets\n",
        "all_marks = [mark for marks in gradebook.values() for mark in marks]\n",
        "unique_marks = set(all_marks)\n",
        "highest = max(all_marks)\n",
        "lowest = min(all_marks)\n",
        "\n",
        "print(\"\\n=== 📊 Class Summary ===\")\n",
        "print(f\"All Marks: {all_marks}\")\n",
        "print(f\"Unique Marks: {unique_marks}\")\n",
        "print(f\"Highest Mark: {highest}\")\n",
        "print(f\"Lowest Mark: {lowest}\")\n"
      ],
      "metadata": {
        "colab": {
          "base_uri": "https://localhost:8080/"
        },
        "id": "DWSTeYVnIEv8",
        "outputId": "6f0bd894-a17f-4a9c-c6f5-6483bf3bcc8f"
      },
      "execution_count": null,
      "outputs": [
        {
          "output_type": "stream",
          "name": "stdout",
          "text": [
            "=== Student Gradebook System ===\n",
            "Enter number of students: 2\n",
            "\n",
            "Enter name of student 1: ali\n",
            "Enter marks in Math: 33\n",
            "Enter marks in Science: 43\n",
            "Enter marks in English: 56\n",
            "\n",
            "Enter name of student 2: haris\n",
            "Enter marks in Math: 45\n",
            "Enter marks in Science: 67\n",
            "Enter marks in English: 67\n",
            "\n",
            "=== 🧾 Student Summary ===\n",
            "\n",
            "Ali\n",
            "Marks: [33, 43, 56]\n",
            "Total: 132, Average: 44.00, Grade: Fail\n",
            "\n",
            "Haris\n",
            "Marks: [45, 67, 67]\n",
            "Total: 179, Average: 59.67, Grade: Fail\n",
            "\n",
            "=== 📊 Class Summary ===\n",
            "All Marks: [33, 43, 56, 45, 67, 67]\n",
            "Unique Marks: {33, 67, 43, 45, 56}\n",
            "Highest Mark: 67\n",
            "Lowest Mark: 33\n"
          ]
        }
      ]
    },
    {
      "cell_type": "code",
      "source": [
        "thistuple = (\"apple\", \"banana\", \"cherry\")\n",
        "print(thistuple)\n",
        "thistuple = (\"apple\", \"mango\")\n",
        "print(thistuple)"
      ],
      "metadata": {
        "colab": {
          "base_uri": "https://localhost:8080/"
        },
        "id": "penOhBY4RV06",
        "outputId": "9a50faf0-03e3-4952-a886-b605d366ce7d"
      },
      "execution_count": null,
      "outputs": [
        {
          "output_type": "stream",
          "name": "stdout",
          "text": [
            "('apple', 'banana', 'cherry')\n",
            "('apple', 'mango')\n"
          ]
        }
      ]
    },
    {
      "cell_type": "code",
      "source": [
        "thistuple = (\"apple\", \"banana\", \"cherry\")\n",
        "print(len(thistuple))"
      ],
      "metadata": {
        "id": "bZx__HoqSFWs",
        "outputId": "58fc5a31-72ef-4913-d963-f9ca556a3be7",
        "colab": {
          "base_uri": "https://localhost:8080/"
        }
      },
      "execution_count": null,
      "outputs": [
        {
          "output_type": "stream",
          "name": "stdout",
          "text": [
            "3\n"
          ]
        }
      ]
    }
  ]
}