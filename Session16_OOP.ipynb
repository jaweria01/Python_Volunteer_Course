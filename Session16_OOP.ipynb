{
  "nbformat": 4,
  "nbformat_minor": 0,
  "metadata": {
    "colab": {
      "provenance": [],
      "authorship_tag": "ABX9TyOuoIqB9vgPbFJRLOBTa08S",
      "include_colab_link": true
    },
    "kernelspec": {
      "name": "python3",
      "display_name": "Python 3"
    },
    "language_info": {
      "name": "python"
    }
  },
  "cells": [
    {
      "cell_type": "markdown",
      "metadata": {
        "id": "view-in-github",
        "colab_type": "text"
      },
      "source": [
        "<a href=\"https://colab.research.google.com/github/jaweria01/Python_Volunteer_Course/blob/main/Session16_OOP.ipynb\" target=\"_parent\"><img src=\"https://colab.research.google.com/assets/colab-badge.svg\" alt=\"Open In Colab\"/></a>"
      ]
    },
    {
      "cell_type": "markdown",
      "source": [
        "##**OOP**"
      ],
      "metadata": {
        "id": "nI-MrOhkQJR5"
      }
    },
    {
      "cell_type": "markdown",
      "source": [
        "**OOP (Object-Oriented Programming)** is a programming style that organizes code into objects, which represent real-world things.\n",
        "\n",
        "\n",
        "\n",
        "`🧩 Simple Definition:`\n",
        "\n",
        "OOP is a way of writing programs using classes (blueprints) and objects (real examples of those blueprints)."
      ],
      "metadata": {
        "id": "-02hXaGlgSLo"
      }
    },
    {
      "cell_type": "markdown",
      "source": [
        "##**Object & Class**"
      ],
      "metadata": {
        "id": "0QqrPkSJQSy1"
      }
    },
    {
      "cell_type": "markdown",
      "source": [
        "`An object is an instance of a class.`\n",
        "\n",
        "It represents a real-world entity that has attributes (data) and behaviors (functions).\n",
        "\n",
        "`A class is a blueprint or template for creating objects.`\n",
        "\n",
        "**Example:**\n",
        "\n",
        "Think of a Car.\n",
        "\n",
        "**Attributes (data):** color, brand, model\n",
        "\n",
        "**Behaviors (functions):** start(), stop(), accelerate()"
      ],
      "metadata": {
        "id": "GGK-F0rjQbpZ"
      }
    },
    {
      "cell_type": "code",
      "source": [
        "class Car:\n",
        "    def __init__(self, brand, color):\n",
        "        self.brand = brand\n",
        "        self.color = color\n",
        "\n",
        "    def start(self):\n",
        "        print(f\"{self.brand} is starting...\")\n",
        "\n",
        "# Creating objects\n",
        "\n",
        "car1 = Car(\"Toyota\", \"Red\")\n",
        "car2 = Car(\"Honda\", \"Blue\")\n",
        "\n",
        "print(car1.brand)   # Output: Toyota\n",
        "car2.start()        # Output: Honda is starting...\n"
      ],
      "metadata": {
        "colab": {
          "base_uri": "https://localhost:8080/"
        },
        "id": "9kj1E5xaQzb7",
        "outputId": "bf13ed98-646e-45af-f3e5-5491a1aa9ce9"
      },
      "execution_count": null,
      "outputs": [
        {
          "output_type": "stream",
          "name": "stdout",
          "text": [
            "Toyota\n",
            "Honda is starting...\n"
          ]
        }
      ]
    },
    {
      "cell_type": "code",
      "source": [
        "class Student:\n",
        "    def __init__(self, name, age):\n",
        "        self.name = name\n",
        "        self.age = age\n",
        "\n",
        "    def study(self):\n",
        "        print(f\"{self.name} is studying.\")\n",
        "\n",
        "# Creating objects\n",
        "s1 = Student(\"Ali\", 20)\n",
        "s2 = Student(\"Ayesha\", 22)\n",
        "# accessing attribute\n",
        "#print(s1.name)   #\n",
        "#print(s2.age)\n",
        "\n",
        "\n",
        "s2.study()  # Output: Ali is studying.\n",
        "#object_name.attribute_name\n",
        "print(s2.age)\n",
        "\n"
      ],
      "metadata": {
        "colab": {
          "base_uri": "https://localhost:8080/"
        },
        "id": "fgKJmABCSC3F",
        "outputId": "10db18ef-ffe3-41be-c7ae-c6ea42cd0c1c"
      },
      "execution_count": null,
      "outputs": [
        {
          "output_type": "stream",
          "name": "stdout",
          "text": [
            "Ayesha is studying.\n",
            "22\n"
          ]
        }
      ]
    },
    {
      "cell_type": "markdown",
      "source": [
        "### **Object ceation**"
      ],
      "metadata": {
        "id": "l7LU8QU5e4rV"
      }
    },
    {
      "cell_type": "markdown",
      "source": [
        "Each object gets its own copy of data.\n",
        "\n",
        "car1 and car2 are different cars, even though both come from the same blueprint (class)."
      ],
      "metadata": {
        "id": "zIkdMY9re99_"
      }
    },
    {
      "cell_type": "markdown",
      "source": [
        "When you create (instantiate) an object from a class,\n",
        "\n",
        "👉 Python copies the structure of the class (attributes + methods)\n",
        "and attaches actual data to those attributes for that specific object."
      ],
      "metadata": {
        "id": "yVcVgKJvfCKp"
      }
    },
    {
      "cell_type": "code",
      "source": [
        "s1 = Student(\"Ali\", 20)\n",
        "s2 = Student(\"Ayesha\", 22)"
      ],
      "metadata": {
        "id": "LdMGv6wlfJFn"
      },
      "execution_count": null,
      "outputs": []
    },
    {
      "cell_type": "markdown",
      "source": [
        "###**Attributes**\n",
        "\n",
        "Attributes = variables that store data (the properties of an object)"
      ],
      "metadata": {
        "id": "QFUQTKEHfV4L"
      }
    },
    {
      "cell_type": "code",
      "source": [
        "#object_name.attribute_name"
      ],
      "metadata": {
        "id": "uvpqOgT8faTp"
      },
      "execution_count": null,
      "outputs": []
    },
    {
      "cell_type": "markdown",
      "source": [
        "`self.name = name`\n",
        "\n",
        "`self.age = age`"
      ],
      "metadata": {
        "id": "ocmOQNYrffnr"
      }
    },
    {
      "cell_type": "markdown",
      "source": [
        "These lines store data inside the object.\n",
        "\n",
        "The word self means “this object’s own”."
      ],
      "metadata": {
        "id": "_ViE9vjpfjAI"
      }
    },
    {
      "cell_type": "code",
      "source": [
        "# accessing attribute\n",
        "#print(s1.name)   #\n",
        "#print(s2.age)"
      ],
      "metadata": {
        "id": "w6gnEeNVfqMf"
      },
      "execution_count": null,
      "outputs": []
    },
    {
      "cell_type": "markdown",
      "source": [
        "### **Functions**"
      ],
      "metadata": {
        "id": "imgiN7uGaFEG"
      }
    },
    {
      "cell_type": "markdown",
      "source": [
        "A function is a block of code that performs a specific task.\n",
        "\n",
        "It can exist independently, outside any class."
      ],
      "metadata": {
        "id": "d--77wixaIyX"
      }
    },
    {
      "cell_type": "code",
      "source": [
        "def student():\n",
        "    print(\"Hello, im jaweria!\")\n",
        "\n",
        "student()   # Output: Hello, welcome to Python!\n"
      ],
      "metadata": {
        "colab": {
          "base_uri": "https://localhost:8080/"
        },
        "id": "UqfJVq0CbPo6",
        "outputId": "9073df10-7d7a-4597-e006-0656f178017c"
      },
      "execution_count": null,
      "outputs": [
        {
          "output_type": "stream",
          "name": "stdout",
          "text": [
            "Hello, im jaweria!\n"
          ]
        }
      ]
    },
    {
      "cell_type": "markdown",
      "source": [
        "### **Methods**"
      ],
      "metadata": {
        "id": "ncSZ6T2BbgUs"
      }
    },
    {
      "cell_type": "markdown",
      "source": [
        "A method is a function defined inside a class that operates on the data (attributes) of that class.\n",
        "\n",
        "It always takes self as the first parameter (which represents the current object)."
      ],
      "metadata": {
        "id": "9_o8BrYJc0yd"
      }
    },
    {
      "cell_type": "code",
      "source": [
        "class Student:\n",
        "    def __init__(self, name, age):\n",
        "        self.name = name\n",
        "        self.age = age\n",
        "\n",
        "    def study(self):\n",
        "        print(f\"{self.name} is studying.\")\n"
      ],
      "metadata": {
        "id": "NPzFC8J1bfGk"
      },
      "execution_count": null,
      "outputs": []
    },
    {
      "cell_type": "markdown",
      "source": [
        "study() is a method because it’s inside a class.\n",
        "\n",
        "It uses self.name, which means it is using the data that belongs to the specific object (s1, s2, etc.)."
      ],
      "metadata": {
        "id": "bCMmtmUJb0KQ"
      }
    },
    {
      "cell_type": "code",
      "source": [
        "s1.study()   # Output: Ali is studying.\n",
        "s2.study()   # Output: Ayesha is studying.\n"
      ],
      "metadata": {
        "id": "za87aIqacRNF"
      },
      "execution_count": null,
      "outputs": []
    },
    {
      "cell_type": "code",
      "source": [
        "class Student:\n",
        "    def __init__(self, name, age):\n",
        "        self.name = name\n",
        "        self.age = age\n",
        "\n",
        "    def study(self):\n",
        "        print(f\"{self.name} is studying and his age is {self.age}\")\n",
        "\n",
        "\n",
        "#s1 = Student(\"Ali\", 20)\n",
        "s2 = Student(\"Ayesha\", 22)\n",
        "print(s1.age)\n",
        "print(s2.age)\n",
        "\n",
        "\n",
        "#s1.study()   # Output: Ali is studying.\n",
        "s2.study()   # Output: Ayesha is studying.\n"
      ],
      "metadata": {
        "colab": {
          "base_uri": "https://localhost:8080/"
        },
        "id": "BjYQi04ccaGD",
        "outputId": "62398d90-546d-4faf-d725-fe687ca3d694"
      },
      "execution_count": null,
      "outputs": [
        {
          "output_type": "stream",
          "name": "stdout",
          "text": [
            "20\n",
            "22\n",
            "Ayesha is studying and his age is 22\n"
          ]
        }
      ]
    },
    {
      "cell_type": "markdown",
      "source": [
        "![image.png](data:image/png;base64,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)"
      ],
      "metadata": {
        "id": "AtMkAxLPiMF-"
      }
    },
    {
      "cell_type": "markdown",
      "source": [
        "## **__init()**"
      ],
      "metadata": {
        "id": "dcueS_QhhqB7"
      }
    },
    {
      "cell_type": "markdown",
      "source": [
        "__init__() is a special method in Python classes that automatically runs whenever a new object is created.\n",
        "\n",
        "It’s like a setup function that gives the object its initial values (data)."
      ],
      "metadata": {
        "id": "gTS3zEFuhtgk"
      }
    },
    {
      "cell_type": "markdown",
      "source": [
        " `def __init__(self, name, age):`"
      ],
      "metadata": {
        "id": "LJvlZemzh0H7"
      }
    },
    {
      "cell_type": "markdown",
      "source": [
        "Runs automatically each time you create a car.\n",
        "\n",
        "It sets up the initial data (attributes) for that specific car."
      ],
      "metadata": {
        "id": "WraC7nn-h3dP"
      }
    },
    {
      "cell_type": "markdown",
      "source": [
        "### **self Keyword**"
      ],
      "metadata": {
        "id": "TiaTxRiUdRHh"
      }
    },
    {
      "cell_type": "markdown",
      "source": [
        "self refers to the current object calling the method.\n",
        "It allows you to access the object’s attributes and methods."
      ],
      "metadata": {
        "id": "rOBf-gZydWMI"
      }
    },
    {
      "cell_type": "code",
      "source": [
        "class Person:\n",
        "    def __init__(self, name):\n",
        "        self.name = name\n",
        "\n",
        "    def introduce(self):\n",
        "        print(f\"Hi, my name is {self.name}.\")\n",
        "\n",
        "p1 = Person(\"Jaweria\")\n",
        "p1.introduce()   # Output: Hi, my name is Jaweria.\n",
        "#self = “this particular object”.\n",
        "p2 = Person(\"Naila\")# here self change because object is now p2\n",
        "p2.introduce()\n",
        "\n",
        "#s2 = Student(\"Ayesha\", 22)"
      ],
      "metadata": {
        "colab": {
          "base_uri": "https://localhost:8080/"
        },
        "id": "0tI0qJf8dpw-",
        "outputId": "17fe0358-6c5f-4e1f-eadf-c905339937e3"
      },
      "execution_count": null,
      "outputs": [
        {
          "output_type": "stream",
          "name": "stdout",
          "text": [
            "Hi, my name is Jaweria.\n",
            "Hi, my name is Naila.\n"
          ]
        }
      ]
    },
    {
      "cell_type": "markdown",
      "source": [
        "### **Multiple Objects**\n",
        "You can create many objects from the same class — each with its own data."
      ],
      "metadata": {
        "id": "g4zzZDGkdzrr"
      }
    },
    {
      "cell_type": "code",
      "source": [
        "class Laptop:\n",
        "    def __init__(self, brand, price):\n",
        "        self.brand = brand\n",
        "        self.price = price\n",
        "\n",
        "    def details(self):\n",
        "        print(f\"{self.brand} laptop costs {self.price} PKR.\")\n",
        "\n",
        "# Multiple objects\n",
        "l1 = Laptop(\"HP\", 80000)\n",
        "l2 = Laptop(\"Dell\", 90000)\n",
        "l3 = Laptop(\"Lenovo\", 75000)\n",
        "\n",
        "print(l1.brand)\n",
        "l2.details()\n",
        "l3.details()\n"
      ],
      "metadata": {
        "colab": {
          "base_uri": "https://localhost:8080/"
        },
        "id": "gk34-9HJeBbj",
        "outputId": "f7314b2b-67bf-4619-b876-6de6b9bea981"
      },
      "execution_count": null,
      "outputs": [
        {
          "output_type": "stream",
          "name": "stdout",
          "text": [
            "HP\n",
            "Dell laptop costs 90000 PKR.\n",
            "Lenovo laptop costs 75000 PKR.\n"
          ]
        }
      ]
    },
    {
      "cell_type": "code",
      "source": [],
      "metadata": {
        "id": "W2EBXTKdd7nM"
      },
      "execution_count": null,
      "outputs": []
    }
  ]
}