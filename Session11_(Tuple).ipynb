{
  "nbformat": 4,
  "nbformat_minor": 0,
  "metadata": {
    "colab": {
      "provenance": [],
      "authorship_tag": "ABX9TyPgtLLThAn8jYI9/bz6uLnr",
      "include_colab_link": true
    },
    "kernelspec": {
      "name": "python3",
      "display_name": "Python 3"
    },
    "language_info": {
      "name": "python"
    }
  },
  "cells": [
    {
      "cell_type": "markdown",
      "metadata": {
        "id": "view-in-github",
        "colab_type": "text"
      },
      "source": [
        "<a href=\"https://colab.research.google.com/github/jaweria01/Python_Volunteer_Course/blob/main/Session11_(Tuple).ipynb\" target=\"_parent\"><img src=\"https://colab.research.google.com/assets/colab-badge.svg\" alt=\"Open In Colab\"/></a>"
      ]
    },
    {
      "cell_type": "markdown",
      "source": [
        "### **Plan of attack**\n",
        "\n",
        "What is tuple?\n",
        "\n",
        "Characteristics\n",
        "\n",
        "Creating a Tuple\n",
        "\n",
        "Accessing items\n",
        "\n",
        "Editing items\n",
        "\n",
        "Adding items\n",
        "\n",
        "Deleting items\n",
        "\n",
        "Operations on Tuples\n",
        "\n",
        "Tuple Functions"
      ],
      "metadata": {
        "id": "MTjJ1I1XP2D_"
      }
    },
    {
      "cell_type": "markdown",
      "source": [
        "# **Tuples**\n",
        "A tuple in Python is similar to a list. The difference between the two is that we cannot change the elements of a tuple once it is assigned whereas we can change the elements of a list.\n",
        "\n",
        "In short, a tuple is an immutable list. A tuple can not be changed in any way once it is created.\n",
        "\n",
        "***Characterstics***\n",
        "\n",
        "Ordered\n",
        "\n",
        "Unchangeble\n",
        "\n",
        "Allows duplicate"
      ],
      "metadata": {
        "id": "7oSfq3TIPqhA"
      }
    },
    {
      "cell_type": "markdown",
      "source": [
        "**1.Ordered:**"
      ],
      "metadata": {
        "id": "Yo6JxZ82pTJl"
      }
    },
    {
      "cell_type": "code",
      "source": [
        "t1 = ('1', '2', '3')\n",
        "print(t[0])  # first element\n",
        "print(t[1])  # second element\n",
        "print(t[2])  # third element\n",
        "\n"
      ],
      "metadata": {
        "colab": {
          "base_uri": "https://localhost:8080/"
        },
        "id": "QWuPCitOpTv-",
        "outputId": "19e07581-6e40-4f9d-9cba-805b5d0c35a1"
      },
      "execution_count": null,
      "outputs": [
        {
          "output_type": "stream",
          "name": "stdout",
          "text": [
            "1\n",
            "2\n",
            "3\n"
          ]
        }
      ]
    },
    {
      "cell_type": "code",
      "source": [
        "t2 = ('3', '2', '1')\n",
        "print(t2[0])  # first element\n",
        "print(t2[1])  # second element\n",
        "print(t2[2])  # third element\n",
        "\n",
        "t2"
      ],
      "metadata": {
        "colab": {
          "base_uri": "https://localhost:8080/"
        },
        "id": "o5eYGai-pg3s",
        "outputId": "c27e74a6-bab3-4a9b-c986-24d36ac81750"
      },
      "execution_count": null,
      "outputs": [
        {
          "output_type": "stream",
          "name": "stdout",
          "text": [
            "3\n",
            "2\n",
            "1\n"
          ]
        },
        {
          "output_type": "execute_result",
          "data": {
            "text/plain": [
              "('3', '2', '1')"
            ]
          },
          "metadata": {},
          "execution_count": 7
        }
      ]
    },
    {
      "cell_type": "markdown",
      "source": [
        "#### **Unchangeable**"
      ],
      "metadata": {
        "id": "RFKakZL9wmmn"
      }
    },
    {
      "cell_type": "code",
      "source": [
        "t = (10, 20, 30)\n",
        "# Trying to change a value:\n",
        "# t[1] = 99   ❌ This gives an error\n"
      ],
      "metadata": {
        "id": "BNCPr3dAws8R"
      },
      "execution_count": null,
      "outputs": []
    },
    {
      "cell_type": "markdown",
      "source": [
        "### **Duplicate**"
      ],
      "metadata": {
        "id": "UwlBBbRbwbRi"
      }
    },
    {
      "cell_type": "code",
      "source": [
        "t = ('cat', 'dog', 'cat', 'bird')\n",
        "print(t)\n"
      ],
      "metadata": {
        "id": "9r3dpE5TpSHu"
      },
      "execution_count": null,
      "outputs": []
    },
    {
      "cell_type": "markdown",
      "source": [
        "## 🧩 **Tuple vs List in Python**\n",
        "### 🟩 1️⃣ **List – Mutable (Changeable)**\n",
        "\n",
        "A list allows you to modify, add, or remove elements after creation."
      ],
      "metadata": {
        "id": "wFaUmMeIbRRf"
      }
    },
    {
      "cell_type": "code",
      "source": [
        "# Example: List\n",
        "fruits = [\"apple\", \"banana\", \"cherry\"]\n",
        "print(fruits)         # ['apple', 'banana', 'cherry']\n",
        "\n",
        "# You can change elements\n",
        "fruits[1] = \"mango\"\n",
        "print(fruits)         # ['apple', 'mango', 'cherry']\n",
        "\n",
        "# You can add elements\n",
        "fruits.append(\"orange\")\n",
        "print(fruits)         # ['apple', 'mango', 'cherry', 'orange']\n",
        "\n",
        "# You can remove elements\n",
        "fruits.remove(\"apple\")\n",
        "print(fruits)         # ['mango', 'cherry', 'orange']\n"
      ],
      "metadata": {
        "id": "TgALEDAKbvXB",
        "colab": {
          "base_uri": "https://localhost:8080/"
        },
        "outputId": "ee71bd2c-ac0f-47a0-8cad-704368289106"
      },
      "execution_count": null,
      "outputs": [
        {
          "output_type": "stream",
          "name": "stdout",
          "text": [
            "['apple', 'banana', 'cherry']\n",
            "['apple', 'mango', 'cherry']\n",
            "['apple', 'mango', 'cherry', 'orange']\n",
            "['mango', 'cherry', 'orange']\n"
          ]
        }
      ]
    },
    {
      "cell_type": "markdown",
      "source": [
        "Lists are mutable → meaning you can edit them anytime."
      ],
      "metadata": {
        "id": "f9z6ovTRcdg2"
      }
    },
    {
      "cell_type": "markdown",
      "source": [
        "### 🟪 2️⃣**Tuple – Immutable (Unchangeable)**\n",
        "\n",
        "A tuple looks like a list but uses parentheses () instead of square brackets [].\n",
        "Once created, you cannot modify a tuple — not even one element."
      ],
      "metadata": {
        "id": "tTJ95J0Lb71n"
      }
    },
    {
      "cell_type": "code",
      "source": [
        "# Example: Tuple\n",
        "fruits = (\"apple\", \"banana\", \"cherry\")\n",
        "print(fruits)          # ('apple', 'banana', 'cherry')\n",
        "\n",
        "# Trying to change a value\n",
        "fruits[1] = \"mango\"    # ❌ Error: TypeError: 'tuple' object does not support item assignment\n"
      ],
      "metadata": {
        "id": "iMeuKolzcHah",
        "colab": {
          "base_uri": "https://localhost:8080/",
          "height": 203
        },
        "outputId": "1e9f56c2-897b-4d84-cd3b-b4ff5d8b6348"
      },
      "execution_count": null,
      "outputs": [
        {
          "output_type": "stream",
          "name": "stdout",
          "text": [
            "('apple', 'banana', 'cherry')\n"
          ]
        },
        {
          "output_type": "error",
          "ename": "TypeError",
          "evalue": "'tuple' object does not support item assignment",
          "traceback": [
            "\u001b[0;31m---------------------------------------------------------------------------\u001b[0m",
            "\u001b[0;31mTypeError\u001b[0m                                 Traceback (most recent call last)",
            "\u001b[0;32m/tmp/ipython-input-2031733018.py\u001b[0m in \u001b[0;36m<cell line: 0>\u001b[0;34m()\u001b[0m\n\u001b[1;32m      4\u001b[0m \u001b[0;34m\u001b[0m\u001b[0m\n\u001b[1;32m      5\u001b[0m \u001b[0;31m# Trying to change a value\u001b[0m\u001b[0;34m\u001b[0m\u001b[0;34m\u001b[0m\u001b[0m\n\u001b[0;32m----> 6\u001b[0;31m \u001b[0mfruits\u001b[0m\u001b[0;34m[\u001b[0m\u001b[0;36m1\u001b[0m\u001b[0;34m]\u001b[0m \u001b[0;34m=\u001b[0m \u001b[0;34m\"mango\"\u001b[0m    \u001b[0;31m# ❌ Error: TypeError: 'tuple' object does not support item assignment\u001b[0m\u001b[0;34m\u001b[0m\u001b[0;34m\u001b[0m\u001b[0m\n\u001b[0m",
            "\u001b[0;31mTypeError\u001b[0m: 'tuple' object does not support item assignment"
          ]
        }
      ]
    },
    {
      "cell_type": "markdown",
      "source": [
        "Tuples are immutable → you cannot add, remove, or update elements"
      ],
      "metadata": {
        "id": "ACKxG6j3cTEs"
      }
    },
    {
      "cell_type": "markdown",
      "source": [],
      "metadata": {
        "id": "uq3d_BdWPqq6"
      }
    },
    {
      "cell_type": "markdown",
      "source": [
        "### **Creating a Tuple**"
      ],
      "metadata": {
        "id": "iLg8vkXddRQZ"
      }
    },
    {
      "cell_type": "code",
      "source": [
        "# empty\n",
        "t1 = ()\n",
        "print(t1)\n",
        "# create a tuple with a single item \", \" a comma is necessary for single item tuple\n",
        "t2 = ('hello',)\n",
        "print(t2)\n",
        "print(type(t2))\n",
        "# homo\n",
        "t3 = (1,2,3,4)\n",
        "print(t3)\n",
        "# hetro\n",
        "t4 = (1,2.5,True,[1,2,3])\n",
        "print(t4)\n",
        "# tuple with in a tuple just like 2 D list\n",
        "t5 = (1,2,3,(4,5))\n",
        "print(t5)\n",
        "# using type conversion\n",
        "t6 = tuple('hello')\n",
        "print(t6)"
      ],
      "metadata": {
        "id": "Q73vGleoPmk1",
        "colab": {
          "base_uri": "https://localhost:8080/"
        },
        "outputId": "d1106b40-accc-4533-bac9-52fe34b3c669"
      },
      "execution_count": null,
      "outputs": [
        {
          "output_type": "stream",
          "name": "stdout",
          "text": [
            "()\n",
            "('hello',)\n",
            "<class 'tuple'>\n",
            "(1, 2, 3, 4)\n",
            "(1, 2.5, True, [1, 2, 3])\n",
            "(1, 2, 3, (4, 5))\n",
            "('h', 'e', 'l', 'l', 'o')\n"
          ]
        }
      ]
    },
    {
      "cell_type": "markdown",
      "source": [
        "### **Accessing Items**\n",
        "Indexing\n",
        "\n",
        "Slicing"
      ],
      "metadata": {
        "id": "TFvf_XInRB9k"
      }
    },
    {
      "cell_type": "markdown",
      "source": [
        "### **Indexing**"
      ],
      "metadata": {
        "id": "xVZj8PLmgEcZ"
      }
    },
    {
      "cell_type": "code",
      "source": [
        "a = (1,2,3,4)\n",
        "print(a)\n",
        "# +ve indexing\n",
        "print(a[0])\n",
        "# -ve indexing\n",
        "print(a[-1])"
      ],
      "metadata": {
        "colab": {
          "base_uri": "https://localhost:8080/"
        },
        "id": "Y0IW00HTRCuh",
        "outputId": "30701403-ba04-4067-defd-5d2ea6ff40b1"
      },
      "execution_count": null,
      "outputs": [
        {
          "output_type": "stream",
          "name": "stdout",
          "text": [
            "(1, 2, 3, 4)\n",
            "1\n",
            "4\n"
          ]
        }
      ]
    },
    {
      "cell_type": "markdown",
      "source": [
        "### **Slicing**"
      ],
      "metadata": {
        "id": "fq1rnFl-gNwx"
      }
    },
    {
      "cell_type": "code",
      "source": [
        "# Slicing\n",
        "# +ve slicing\n",
        "b = (1,2,3,4,5)\n",
        "b[0:3:2]"
      ],
      "metadata": {
        "colab": {
          "base_uri": "https://localhost:8080/"
        },
        "id": "ENEg3I3ORDBG",
        "outputId": "fd61a5e2-911a-49e3-fb51-4ee101b91a9c"
      },
      "execution_count": null,
      "outputs": [
        {
          "output_type": "execute_result",
          "data": {
            "text/plain": [
              "(1, 3)"
            ]
          },
          "metadata": {},
          "execution_count": 8
        }
      ]
    },
    {
      "cell_type": "code",
      "source": [
        "# In +ve slicing , left always small except , when we want to -ve step or reverse the numbers\n",
        "b = (1,2,3,4,5)\n",
        "b[3:0:1]"
      ],
      "metadata": {
        "colab": {
          "base_uri": "https://localhost:8080/"
        },
        "id": "KUoHqzSPm44R",
        "outputId": "77d43178-8d58-4481-fdbf-c7283ee0adc6"
      },
      "execution_count": null,
      "outputs": [
        {
          "output_type": "execute_result",
          "data": {
            "text/plain": [
              "()"
            ]
          },
          "metadata": {},
          "execution_count": 39
        }
      ]
    },
    {
      "cell_type": "code",
      "source": [
        "b = (1,2,3,4,5)\n",
        "b[0:3:1]"
      ],
      "metadata": {
        "colab": {
          "base_uri": "https://localhost:8080/"
        },
        "id": "1FsKpeYOols9",
        "outputId": "f1d72e0d-ccae-40fa-ed0d-7d2ae1df198f"
      },
      "execution_count": null,
      "outputs": [
        {
          "output_type": "execute_result",
          "data": {
            "text/plain": [
              "(1, 2, 3)"
            ]
          },
          "metadata": {},
          "execution_count": 45
        }
      ]
    },
    {
      "cell_type": "code",
      "source": [
        "b = (1,2,3,4,5)\n",
        "b[3:0:-1]"
      ],
      "metadata": {
        "colab": {
          "base_uri": "https://localhost:8080/"
        },
        "id": "bFl7rCZpn2Ou",
        "outputId": "4eecdbe3-28c2-448e-dce8-3d7501761445"
      },
      "execution_count": null,
      "outputs": [
        {
          "output_type": "execute_result",
          "data": {
            "text/plain": [
              "(4, 3, 2)"
            ]
          },
          "metadata": {},
          "execution_count": 41
        }
      ]
    },
    {
      "cell_type": "code",
      "source": [
        "# ************In +ve slicing we can not put -ve step when left is small ************************\n",
        "b = (1,2,3,4,5)\n",
        "b[0:3:-2]"
      ],
      "metadata": {
        "colab": {
          "base_uri": "https://localhost:8080/"
        },
        "id": "aoYhQ7NcmD2U",
        "outputId": "df2375fc-ab8e-425b-e7a9-a49731e491a1"
      },
      "execution_count": null,
      "outputs": [
        {
          "output_type": "execute_result",
          "data": {
            "text/plain": [
              "()"
            ]
          },
          "metadata": {},
          "execution_count": 44
        }
      ]
    },
    {
      "cell_type": "code",
      "source": [
        "b = (1,2,3,4,5)\n",
        "b[0:3:-1]"
      ],
      "metadata": {
        "colab": {
          "base_uri": "https://localhost:8080/"
        },
        "id": "2xYYAo-5oI-C",
        "outputId": "90f9d231-051f-454f-f8e4-9130be259c2c"
      },
      "execution_count": null,
      "outputs": [
        {
          "output_type": "execute_result",
          "data": {
            "text/plain": [
              "()"
            ]
          },
          "metadata": {},
          "execution_count": 43
        }
      ]
    },
    {
      "cell_type": "code",
      "source": [
        "b = (1,2,3,4,5)\n",
        "b[3:0:-1]"
      ],
      "metadata": {
        "colab": {
          "base_uri": "https://localhost:8080/"
        },
        "id": "B0lrfFVLmadR",
        "outputId": "b29a1659-2c1d-4d99-9769-3a7f287f03dd"
      },
      "execution_count": null,
      "outputs": [
        {
          "output_type": "execute_result",
          "data": {
            "text/plain": [
              "(4, 3, 2)"
            ]
          },
          "metadata": {},
          "execution_count": 37
        }
      ]
    },
    {
      "cell_type": "code",
      "source": [
        "b = (1,2,3,4,5)\n",
        "b[3:0:1]"
      ],
      "metadata": {
        "colab": {
          "base_uri": "https://localhost:8080/"
        },
        "id": "xj3eWV-Pmp9k",
        "outputId": "a31f2a76-094b-4fb8-a117-8638e3949ac7"
      },
      "execution_count": null,
      "outputs": [
        {
          "output_type": "execute_result",
          "data": {
            "text/plain": [
              "()"
            ]
          },
          "metadata": {},
          "execution_count": 40
        }
      ]
    },
    {
      "cell_type": "code",
      "source": [
        "b = (1,2,3,4,5)\n",
        "b[:2]"
      ],
      "metadata": {
        "colab": {
          "base_uri": "https://localhost:8080/"
        },
        "id": "TVhps6dFRDKD",
        "outputId": "21a1cf47-5868-4128-954a-18ba672085d2"
      },
      "execution_count": null,
      "outputs": [
        {
          "output_type": "execute_result",
          "data": {
            "text/plain": [
              "(1, 2)"
            ]
          },
          "metadata": {},
          "execution_count": 34
        }
      ]
    },
    {
      "cell_type": "code",
      "source": [
        "b = (1,2,3,4,5)\n",
        "b[2]"
      ],
      "metadata": {
        "colab": {
          "base_uri": "https://localhost:8080/"
        },
        "id": "abFrL3waTI0K",
        "outputId": "994cc0a8-3733-4ff6-9d7d-bdd50e8e6926"
      },
      "execution_count": null,
      "outputs": [
        {
          "output_type": "execute_result",
          "data": {
            "text/plain": [
              "3"
            ]
          },
          "metadata": {},
          "execution_count": 7
        }
      ]
    },
    {
      "cell_type": "code",
      "source": [
        "b = (1,2,3,4,5)\n",
        "b[0:5:1]"
      ],
      "metadata": {
        "colab": {
          "base_uri": "https://localhost:8080/"
        },
        "id": "7zVRgZXFTI8U",
        "outputId": "8f926318-b7be-445d-d36a-62505316a37e"
      },
      "execution_count": null,
      "outputs": [
        {
          "output_type": "execute_result",
          "data": {
            "text/plain": [
              "(1, 2, 3, 4, 5)"
            ]
          },
          "metadata": {},
          "execution_count": 11
        }
      ]
    },
    {
      "cell_type": "code",
      "source": [
        "# I want to print 2 and 4 by +ve slicing\n",
        "\n",
        "b = (1,2,3,4,5)\n",
        "b[1:5:2]"
      ],
      "metadata": {
        "colab": {
          "base_uri": "https://localhost:8080/"
        },
        "id": "SiRV1ZwkTI9c",
        "outputId": "580302ee-0744-4ce7-98d9-53fee05db63e"
      },
      "execution_count": null,
      "outputs": [
        {
          "output_type": "execute_result",
          "data": {
            "text/plain": [
              "(2, 4)"
            ]
          },
          "metadata": {},
          "execution_count": 9
        }
      ]
    },
    {
      "cell_type": "code",
      "source": [
        "# -ve slicing\n",
        "# I want to print 2 and 4 by -ve slicing\n",
        "b = (1,2,3,4,5)\n",
        "b[4:1:1]"
      ],
      "metadata": {
        "colab": {
          "base_uri": "https://localhost:8080/"
        },
        "id": "okE5aX3mTJAu",
        "outputId": "607d6a43-445b-429d-cdd1-399e0a5d4986"
      },
      "execution_count": null,
      "outputs": [
        {
          "output_type": "execute_result",
          "data": {
            "text/plain": [
              "()"
            ]
          },
          "metadata": {},
          "execution_count": 19
        }
      ]
    },
    {
      "cell_type": "code",
      "source": [
        "b = (1,2,3,4,5)\n",
        "b[-3:-1]"
      ],
      "metadata": {
        "id": "ZBgDpwwHlgx3"
      },
      "execution_count": null,
      "outputs": []
    },
    {
      "cell_type": "code",
      "source": [
        "# To reverse\n",
        "b = (1,2,3,4,5)\n",
        "b[::-1]"
      ],
      "metadata": {
        "colab": {
          "base_uri": "https://localhost:8080/"
        },
        "id": "b3WONxiqTJB0",
        "outputId": "aa1d431d-8697-4768-98e2-e6658db4563a"
      },
      "execution_count": null,
      "outputs": [
        {
          "output_type": "execute_result",
          "data": {
            "text/plain": [
              "(5, 4, 3, 2, 1)"
            ]
          },
          "metadata": {},
          "execution_count": 15
        }
      ]
    },
    {
      "cell_type": "code",
      "source": [
        "# at left always should be greater, if you want reverse in -ve\n",
        "b = (1,2,3,4,5)\n",
        "b[-1:-4:-1]"
      ],
      "metadata": {
        "colab": {
          "base_uri": "https://localhost:8080/"
        },
        "id": "Vi41eiVyhbPt",
        "outputId": "fc2558f7-c7ec-4565-d3cd-58713f873484"
      },
      "execution_count": null,
      "outputs": [
        {
          "output_type": "execute_result",
          "data": {
            "text/plain": [
              "(5, 4, 3)"
            ]
          },
          "metadata": {},
          "execution_count": 25
        }
      ]
    },
    {
      "cell_type": "code",
      "source": [
        "b = (1,2,3,4,5)\n",
        "b[-3::-1]"
      ],
      "metadata": {
        "colab": {
          "base_uri": "https://localhost:8080/"
        },
        "id": "3HDPIRhsiM_i",
        "outputId": "44cce21b-a324-45b5-b664-8fac30f141ee"
      },
      "execution_count": null,
      "outputs": [
        {
          "output_type": "execute_result",
          "data": {
            "text/plain": [
              "(3, 2, 1)"
            ]
          },
          "metadata": {},
          "execution_count": 26
        }
      ]
    },
    {
      "cell_type": "code",
      "source": [
        "# *************** in -ve Indexing left should be greater always *****************\n",
        "b = (1,2,3,4,5)\n",
        "b[-5:-3:-1]"
      ],
      "metadata": {
        "colab": {
          "base_uri": "https://localhost:8080/"
        },
        "id": "0MjdyCwzkpCW",
        "outputId": "bc87c17a-86a4-492f-e965-0a69b01a11a0"
      },
      "execution_count": null,
      "outputs": [
        {
          "output_type": "execute_result",
          "data": {
            "text/plain": [
              "()"
            ]
          },
          "metadata": {},
          "execution_count": 31
        }
      ]
    },
    {
      "cell_type": "code",
      "source": [
        "b = (1,2,3,4,5)\n",
        "b[-3:-5:-1]"
      ],
      "metadata": {
        "colab": {
          "base_uri": "https://localhost:8080/"
        },
        "id": "Yo_UYHR4ijg4",
        "outputId": "60a291ef-8c40-4b38-d21d-9968e3973230"
      },
      "execution_count": null,
      "outputs": [
        {
          "output_type": "execute_result",
          "data": {
            "text/plain": [
              "(3, 2)"
            ]
          },
          "metadata": {},
          "execution_count": 28
        }
      ]
    },
    {
      "cell_type": "code",
      "source": [
        "b = (1,2,3,4,5)\n",
        "b[-3:-5:1]"
      ],
      "metadata": {
        "colab": {
          "base_uri": "https://localhost:8080/"
        },
        "id": "JdI0ZxMoiy3p",
        "outputId": "64413e85-0411-4ae2-8a90-48f6c95a797d"
      },
      "execution_count": null,
      "outputs": [
        {
          "output_type": "execute_result",
          "data": {
            "text/plain": [
              "()"
            ]
          },
          "metadata": {},
          "execution_count": 29
        }
      ]
    },
    {
      "cell_type": "code",
      "source": [
        "# ****** we just put +ve step in negative indexing , when left is less ******\n",
        "b = (1,2,3,4,5)\n",
        "b[-5:-3:1]"
      ],
      "metadata": {
        "colab": {
          "base_uri": "https://localhost:8080/"
        },
        "id": "4U27hYEKjM2V",
        "outputId": "24187867-b344-4e6c-ea3e-2a17f91a4786"
      },
      "execution_count": null,
      "outputs": [
        {
          "output_type": "execute_result",
          "data": {
            "text/plain": [
              "(1, 2)"
            ]
          },
          "metadata": {},
          "execution_count": 30
        }
      ]
    },
    {
      "cell_type": "code",
      "source": [
        "# Extracting item from 2D tuple\n",
        "t = (1,2,3,4,(5,6))\n",
        "t[-1][0]"
      ],
      "metadata": {
        "colab": {
          "base_uri": "https://localhost:8080/"
        },
        "id": "gYz22pFKVhwm",
        "outputId": "09cba8a3-b096-40c1-9b26-408720ce1692"
      },
      "execution_count": null,
      "outputs": [
        {
          "output_type": "execute_result",
          "data": {
            "text/plain": [
              "5"
            ]
          },
          "metadata": {},
          "execution_count": 18
        }
      ]
    },
    {
      "cell_type": "markdown",
      "source": [
        "## **Editing items**"
      ],
      "metadata": {
        "id": "TCBjdo4IVFSI"
      }
    },
    {
      "cell_type": "markdown",
      "source": [
        "## **Adding items**"
      ],
      "metadata": {
        "id": "DRPpZvx4WPdM"
      }
    },
    {
      "cell_type": "code",
      "source": [
        "#want to add 100 at 0 index\n",
        "ttt = (1,2,3,4)\n",
        "ttt[0] = 100\n",
        "print(ttt)\n",
        "\n",
        "# immutable just like strings"
      ],
      "metadata": {
        "colab": {
          "base_uri": "https://localhost:8080/",
          "height": 222
        },
        "id": "YyWjWYhAnIdX",
        "outputId": "be0ed16f-3500-40b2-deda-d109adc33625"
      },
      "execution_count": null,
      "outputs": [
        {
          "output_type": "error",
          "ename": "TypeError",
          "evalue": "'tuple' object does not support item assignment",
          "traceback": [
            "\u001b[0;31m---------------------------------------------------------------------------\u001b[0m",
            "\u001b[0;31mTypeError\u001b[0m                                 Traceback (most recent call last)",
            "\u001b[0;32m/tmp/ipython-input-3583341332.py\u001b[0m in \u001b[0;36m<cell line: 0>\u001b[0;34m()\u001b[0m\n\u001b[1;32m      1\u001b[0m \u001b[0;31m#want to add 100 at 0 index\u001b[0m\u001b[0;34m\u001b[0m\u001b[0;34m\u001b[0m\u001b[0m\n\u001b[1;32m      2\u001b[0m \u001b[0mttt\u001b[0m \u001b[0;34m=\u001b[0m \u001b[0;34m(\u001b[0m\u001b[0;36m1\u001b[0m\u001b[0;34m,\u001b[0m\u001b[0;36m2\u001b[0m\u001b[0;34m,\u001b[0m\u001b[0;36m3\u001b[0m\u001b[0;34m,\u001b[0m\u001b[0;36m4\u001b[0m\u001b[0;34m)\u001b[0m\u001b[0;34m\u001b[0m\u001b[0;34m\u001b[0m\u001b[0m\n\u001b[0;32m----> 3\u001b[0;31m \u001b[0mttt\u001b[0m\u001b[0;34m[\u001b[0m\u001b[0;36m0\u001b[0m\u001b[0;34m]\u001b[0m \u001b[0;34m=\u001b[0m \u001b[0;36m100\u001b[0m\u001b[0;34m\u001b[0m\u001b[0;34m\u001b[0m\u001b[0m\n\u001b[0m\u001b[1;32m      4\u001b[0m \u001b[0mprint\u001b[0m\u001b[0;34m(\u001b[0m\u001b[0mttt\u001b[0m\u001b[0;34m)\u001b[0m\u001b[0;34m\u001b[0m\u001b[0;34m\u001b[0m\u001b[0m\n\u001b[1;32m      5\u001b[0m \u001b[0;34m\u001b[0m\u001b[0m\n",
            "\u001b[0;31mTypeError\u001b[0m: 'tuple' object does not support item assignment"
          ]
        }
      ]
    },
    {
      "cell_type": "code",
      "source": [
        "print(t3)\n",
        "# not possible\n",
        "t ="
      ],
      "metadata": {
        "id": "nHu66peZVFoL"
      },
      "execution_count": null,
      "outputs": []
    },
    {
      "cell_type": "markdown",
      "source": [
        "## **Deleting Items**"
      ],
      "metadata": {
        "id": "2b8uoDqYW9tv"
      }
    },
    {
      "cell_type": "code",
      "source": [
        "t = (1,2,3)\n",
        "print(t)\n",
        "#del t\n",
        "#print(t3)\n",
        "t.remove(1)\n",
        "print(t)"
      ],
      "metadata": {
        "colab": {
          "base_uri": "https://localhost:8080/",
          "height": 222
        },
        "id": "gf2PV44bVFs6",
        "outputId": "39bca20b-8ca9-4012-a3a5-dd5581a2c039"
      },
      "execution_count": null,
      "outputs": [
        {
          "output_type": "stream",
          "name": "stdout",
          "text": [
            "(1, 2, 3)\n"
          ]
        },
        {
          "output_type": "error",
          "ename": "AttributeError",
          "evalue": "'tuple' object has no attribute 'remove'",
          "traceback": [
            "\u001b[0;31m---------------------------------------------------------------------------\u001b[0m",
            "\u001b[0;31mAttributeError\u001b[0m                            Traceback (most recent call last)",
            "\u001b[0;32m/tmp/ipython-input-2402556699.py\u001b[0m in \u001b[0;36m<cell line: 0>\u001b[0;34m()\u001b[0m\n\u001b[1;32m      3\u001b[0m \u001b[0;31m#del t\u001b[0m\u001b[0;34m\u001b[0m\u001b[0;34m\u001b[0m\u001b[0m\n\u001b[1;32m      4\u001b[0m \u001b[0;31m#print(t3)\u001b[0m\u001b[0;34m\u001b[0m\u001b[0;34m\u001b[0m\u001b[0m\n\u001b[0;32m----> 5\u001b[0;31m \u001b[0mt\u001b[0m\u001b[0;34m.\u001b[0m\u001b[0mremove\u001b[0m\u001b[0;34m(\u001b[0m\u001b[0;36m1\u001b[0m\u001b[0;34m)\u001b[0m\u001b[0;34m\u001b[0m\u001b[0;34m\u001b[0m\u001b[0m\n\u001b[0m\u001b[1;32m      6\u001b[0m \u001b[0mprint\u001b[0m\u001b[0;34m(\u001b[0m\u001b[0mt\u001b[0m\u001b[0;34m)\u001b[0m\u001b[0;34m\u001b[0m\u001b[0;34m\u001b[0m\u001b[0m\n",
            "\u001b[0;31mAttributeError\u001b[0m: 'tuple' object has no attribute 'remove'"
          ]
        }
      ]
    },
    {
      "cell_type": "code",
      "source": [
        "fruits = ('apple', 'banana', 'cherry', 'banana')\n",
        "fruits.remove('banana')\n",
        "print(fruits)\n"
      ],
      "metadata": {
        "colab": {
          "base_uri": "https://localhost:8080/",
          "height": 185
        },
        "id": "t6uRf40LnN64",
        "outputId": "ea73d484-e6bb-412f-c05c-e95ce777ed99"
      },
      "execution_count": null,
      "outputs": [
        {
          "output_type": "error",
          "ename": "AttributeError",
          "evalue": "'tuple' object has no attribute 'remove'",
          "traceback": [
            "\u001b[0;31m---------------------------------------------------------------------------\u001b[0m",
            "\u001b[0;31mAttributeError\u001b[0m                            Traceback (most recent call last)",
            "\u001b[0;32m/tmp/ipython-input-1270349834.py\u001b[0m in \u001b[0;36m<cell line: 0>\u001b[0;34m()\u001b[0m\n\u001b[1;32m      1\u001b[0m \u001b[0mfruits\u001b[0m \u001b[0;34m=\u001b[0m \u001b[0;34m(\u001b[0m\u001b[0;34m'apple'\u001b[0m\u001b[0;34m,\u001b[0m \u001b[0;34m'banana'\u001b[0m\u001b[0;34m,\u001b[0m \u001b[0;34m'cherry'\u001b[0m\u001b[0;34m,\u001b[0m \u001b[0;34m'banana'\u001b[0m\u001b[0;34m)\u001b[0m\u001b[0;34m\u001b[0m\u001b[0;34m\u001b[0m\u001b[0m\n\u001b[0;32m----> 2\u001b[0;31m \u001b[0mfruits\u001b[0m\u001b[0;34m.\u001b[0m\u001b[0mremove\u001b[0m\u001b[0;34m(\u001b[0m\u001b[0;34m'banana'\u001b[0m\u001b[0;34m)\u001b[0m\u001b[0;34m\u001b[0m\u001b[0;34m\u001b[0m\u001b[0m\n\u001b[0m\u001b[1;32m      3\u001b[0m \u001b[0mprint\u001b[0m\u001b[0;34m(\u001b[0m\u001b[0mfruits\u001b[0m\u001b[0;34m)\u001b[0m\u001b[0;34m\u001b[0m\u001b[0;34m\u001b[0m\u001b[0m\n",
            "\u001b[0;31mAttributeError\u001b[0m: 'tuple' object has no attribute 'remove'"
          ]
        }
      ]
    },
    {
      "cell_type": "code",
      "source": [
        "fruits = ('apple', 'banana', 'cherry', 'banana')\n",
        "fruits.remove('banana')\n",
        "print(fruits)"
      ],
      "metadata": {
        "colab": {
          "base_uri": "https://localhost:8080/",
          "height": 185
        },
        "id": "wSyuT2SWnSAf",
        "outputId": "4da0fb08-57f6-427d-9ba1-8de3402336a8"
      },
      "execution_count": null,
      "outputs": [
        {
          "output_type": "error",
          "ename": "AttributeError",
          "evalue": "'tuple' object has no attribute 'remove'",
          "traceback": [
            "\u001b[0;31m---------------------------------------------------------------------------\u001b[0m",
            "\u001b[0;31mAttributeError\u001b[0m                            Traceback (most recent call last)",
            "\u001b[0;32m/tmp/ipython-input-3779676642.py\u001b[0m in \u001b[0;36m<cell line: 0>\u001b[0;34m()\u001b[0m\n\u001b[1;32m      1\u001b[0m \u001b[0mfruits\u001b[0m \u001b[0;34m=\u001b[0m \u001b[0;34m(\u001b[0m\u001b[0;34m'apple'\u001b[0m\u001b[0;34m,\u001b[0m \u001b[0;34m'banana'\u001b[0m\u001b[0;34m,\u001b[0m \u001b[0;34m'cherry'\u001b[0m\u001b[0;34m,\u001b[0m \u001b[0;34m'banana'\u001b[0m\u001b[0;34m)\u001b[0m\u001b[0;34m\u001b[0m\u001b[0;34m\u001b[0m\u001b[0m\n\u001b[0;32m----> 2\u001b[0;31m \u001b[0mfruits\u001b[0m\u001b[0;34m.\u001b[0m\u001b[0mremove\u001b[0m\u001b[0;34m(\u001b[0m\u001b[0;34m'banana'\u001b[0m\u001b[0;34m)\u001b[0m\u001b[0;34m\u001b[0m\u001b[0;34m\u001b[0m\u001b[0m\n\u001b[0m\u001b[1;32m      3\u001b[0m \u001b[0mprint\u001b[0m\u001b[0;34m(\u001b[0m\u001b[0mfruits\u001b[0m\u001b[0;34m)\u001b[0m\u001b[0;34m\u001b[0m\u001b[0;34m\u001b[0m\u001b[0m\n",
            "\u001b[0;31mAttributeError\u001b[0m: 'tuple' object has no attribute 'remove'"
          ]
        }
      ]
    },
    {
      "cell_type": "markdown",
      "source": [
        "## **Operations on Tuples**"
      ],
      "metadata": {
        "id": "8UQ7v-JQpb81"
      }
    },
    {
      "cell_type": "code",
      "source": [
        "# Operator\n",
        "# Membership\n",
        "# Loops /iteration"
      ],
      "metadata": {
        "id": "IA-TYCMCVFuH"
      },
      "execution_count": null,
      "outputs": []
    },
    {
      "cell_type": "code",
      "source": [
        "# Operator\n",
        "t1 = (1,2,3,4)\n",
        "t2 = (5,6,7,8)\n",
        "t1 + t2"
      ],
      "metadata": {
        "colab": {
          "base_uri": "https://localhost:8080/"
        },
        "id": "uhgCU0NfVFzO",
        "outputId": "cd528258-76e8-47a7-8bd3-eb09f16dee34"
      },
      "execution_count": null,
      "outputs": [
        {
          "output_type": "execute_result",
          "data": {
            "text/plain": [
              "(1, 2, 3, 4, 5, 6, 7, 8)"
            ]
          },
          "metadata": {},
          "execution_count": 27
        }
      ]
    },
    {
      "cell_type": "code",
      "source": [
        "# *\n",
        "t1 = (1,2,3,4)\n",
        "t2 = (5,6,7,8)\n",
        "\n",
        "t1 * 2\n"
      ],
      "metadata": {
        "colab": {
          "base_uri": "https://localhost:8080/"
        },
        "id": "tjzfNWkiVF0R",
        "outputId": "7a1e4de6-dae6-4bc1-fab4-683bbd9cbae9"
      },
      "execution_count": null,
      "outputs": [
        {
          "output_type": "execute_result",
          "data": {
            "text/plain": [
              "(1, 2, 3, 4, 1, 2, 3, 4)"
            ]
          },
          "metadata": {},
          "execution_count": 48
        }
      ]
    },
    {
      "cell_type": "code",
      "source": [
        "# Membership\n",
        "t = (1,2,3)\n",
        "print(1 in t)\n",
        "4 in t"
      ],
      "metadata": {
        "colab": {
          "base_uri": "https://localhost:8080/"
        },
        "id": "3eHkdffFqSI-",
        "outputId": "384c1ef4-b0b1-4639-ae6b-fd2807d9d9ef"
      },
      "execution_count": null,
      "outputs": [
        {
          "output_type": "stream",
          "name": "stdout",
          "text": [
            "True\n"
          ]
        },
        {
          "output_type": "execute_result",
          "data": {
            "text/plain": [
              "False"
            ]
          },
          "metadata": {},
          "execution_count": 29
        }
      ]
    },
    {
      "cell_type": "code",
      "source": [
        "# Loop\n",
        "t = (1,2,3,4,5,5,6,6,8,9)\n",
        "for i in t:\n",
        "  print(i)"
      ],
      "metadata": {
        "colab": {
          "base_uri": "https://localhost:8080/"
        },
        "id": "feRVrZTmqSRe",
        "outputId": "be5100e3-3edb-44b5-cac2-0a55fbe3a288"
      },
      "execution_count": null,
      "outputs": [
        {
          "output_type": "stream",
          "name": "stdout",
          "text": [
            "1\n",
            "2\n",
            "3\n",
            "4\n",
            "5\n",
            "5\n",
            "6\n",
            "6\n",
            "8\n",
            "9\n"
          ]
        }
      ]
    },
    {
      "cell_type": "markdown",
      "source": [
        "## **Tuple Functions**"
      ],
      "metadata": {
        "id": "h_N03E1qrNQZ"
      }
    },
    {
      "cell_type": "code",
      "source": [
        "# # len/sum/min/max/sorted\n",
        "# len(t)\n",
        "# sum(t)\n",
        "# min(t)\n",
        "# max(t)\n",
        "# sorted\n",
        "# count"
      ],
      "metadata": {
        "id": "Tv5guBvbqSeS"
      },
      "execution_count": null,
      "outputs": []
    },
    {
      "cell_type": "code",
      "source": [
        "t = (1,2,3,4)\n",
        "len(t)"
      ],
      "metadata": {
        "colab": {
          "base_uri": "https://localhost:8080/"
        },
        "id": "QpYuTjceriCm",
        "outputId": "874f37ea-974d-41b6-9c5a-f64346aaf01e"
      },
      "execution_count": null,
      "outputs": [
        {
          "output_type": "execute_result",
          "data": {
            "text/plain": [
              "4"
            ]
          },
          "metadata": {},
          "execution_count": 52
        }
      ]
    },
    {
      "cell_type": "code",
      "source": [
        "t = (1,2,3,4)\n",
        "sum(t)\n",
        "\n"
      ],
      "metadata": {
        "colab": {
          "base_uri": "https://localhost:8080/"
        },
        "id": "foaBprMfsC4F",
        "outputId": "ca8519a5-b094-49fb-8e3d-677713d8a0da"
      },
      "execution_count": null,
      "outputs": [
        {
          "output_type": "execute_result",
          "data": {
            "text/plain": [
              "10"
            ]
          },
          "metadata": {},
          "execution_count": 31
        }
      ]
    },
    {
      "cell_type": "code",
      "source": [
        "t = (1,2,3)\n",
        "min(t)\n",
        "\n"
      ],
      "metadata": {
        "colab": {
          "base_uri": "https://localhost:8080/"
        },
        "id": "X82ZRUVrsHsX",
        "outputId": "929f30da-d67d-47e4-8446-e65b35b74eee"
      },
      "execution_count": null,
      "outputs": [
        {
          "output_type": "execute_result",
          "data": {
            "text/plain": [
              "1"
            ]
          },
          "metadata": {},
          "execution_count": 54
        }
      ]
    },
    {
      "cell_type": "code",
      "source": [
        "t = (1,2,3)\n",
        "max(t)"
      ],
      "metadata": {
        "colab": {
          "base_uri": "https://localhost:8080/"
        },
        "id": "-X61RsmbsJiX",
        "outputId": "c6211f55-5cc0-4beb-a273-9355611a7b58"
      },
      "execution_count": null,
      "outputs": [
        {
          "output_type": "execute_result",
          "data": {
            "text/plain": [
              "3"
            ]
          },
          "metadata": {},
          "execution_count": 32
        }
      ]
    },
    {
      "cell_type": "code",
      "source": [
        "# Result always in list\n",
        "t = (15,11,12,13,10)\n",
        "sorted(t,reverse=True)\n",
        "sorted(t)"
      ],
      "metadata": {
        "colab": {
          "base_uri": "https://localhost:8080/"
        },
        "id": "qppwglKksefE",
        "outputId": "a36f6121-ffc3-4213-8dfd-0e5c594eae11"
      },
      "execution_count": null,
      "outputs": [
        {
          "output_type": "execute_result",
          "data": {
            "text/plain": [
              "[10, 11, 12, 13, 15]"
            ]
          },
          "metadata": {},
          "execution_count": 37
        }
      ]
    },
    {
      "cell_type": "code",
      "source": [
        "# count\n",
        "\n",
        "t = (1,2,3,4,5)\n",
        "\n",
        "t.count(50)"
      ],
      "metadata": {
        "colab": {
          "base_uri": "https://localhost:8080/"
        },
        "id": "okfmMFY6twwv",
        "outputId": "1501b28e-71e5-4225-a537-7c70a5188a4e"
      },
      "execution_count": null,
      "outputs": [
        {
          "output_type": "execute_result",
          "data": {
            "text/plain": [
              "0"
            ]
          },
          "metadata": {},
          "execution_count": 38
        }
      ]
    },
    {
      "cell_type": "code",
      "source": [
        "t = (1,2,2,4,5)\n",
        "\n",
        "t.count(2)"
      ],
      "metadata": {
        "colab": {
          "base_uri": "https://localhost:8080/"
        },
        "id": "anbTAsCVtw3r",
        "outputId": "f10eca2d-e9e6-4714-b753-5ab2a1fa10bf"
      },
      "execution_count": null,
      "outputs": [
        {
          "output_type": "execute_result",
          "data": {
            "text/plain": [
              "2"
            ]
          },
          "metadata": {},
          "execution_count": 40
        }
      ]
    },
    {
      "cell_type": "code",
      "source": [
        "# index\n",
        "t = (1,2,3,4,5)\n",
        "#t.index(50)\n",
        "t.index(8)"
      ],
      "metadata": {
        "colab": {
          "base_uri": "https://localhost:8080/",
          "height": 185
        },
        "id": "WSASEGobuAgN",
        "outputId": "69fd099b-daa1-4713-e1c2-82781a7b60f5"
      },
      "execution_count": null,
      "outputs": [
        {
          "output_type": "error",
          "ename": "ValueError",
          "evalue": "tuple.index(x): x not in tuple",
          "traceback": [
            "\u001b[0;31m---------------------------------------------------------------------------\u001b[0m",
            "\u001b[0;31mValueError\u001b[0m                                Traceback (most recent call last)",
            "\u001b[0;32m/tmp/ipython-input-2251800317.py\u001b[0m in \u001b[0;36m<cell line: 0>\u001b[0;34m()\u001b[0m\n\u001b[1;32m      2\u001b[0m \u001b[0mt\u001b[0m \u001b[0;34m=\u001b[0m \u001b[0;34m(\u001b[0m\u001b[0;36m1\u001b[0m\u001b[0;34m,\u001b[0m\u001b[0;36m2\u001b[0m\u001b[0;34m,\u001b[0m\u001b[0;36m3\u001b[0m\u001b[0;34m,\u001b[0m\u001b[0;36m4\u001b[0m\u001b[0;34m,\u001b[0m\u001b[0;36m5\u001b[0m\u001b[0;34m)\u001b[0m\u001b[0;34m\u001b[0m\u001b[0;34m\u001b[0m\u001b[0m\n\u001b[1;32m      3\u001b[0m \u001b[0;31m#t.index(50)\u001b[0m\u001b[0;34m\u001b[0m\u001b[0;34m\u001b[0m\u001b[0m\n\u001b[0;32m----> 4\u001b[0;31m \u001b[0mt\u001b[0m\u001b[0;34m.\u001b[0m\u001b[0mindex\u001b[0m\u001b[0;34m(\u001b[0m\u001b[0;36m8\u001b[0m\u001b[0;34m)\u001b[0m\u001b[0;34m\u001b[0m\u001b[0;34m\u001b[0m\u001b[0m\n\u001b[0m",
            "\u001b[0;31mValueError\u001b[0m: tuple.index(x): x not in tuple"
          ]
        }
      ]
    },
    {
      "cell_type": "markdown",
      "source": [
        "## **Difference between Lists and Tuples**\n",
        "\n",
        "Syntax\n",
        "\n",
        "Mutability\n",
        "\n",
        "Speed\n",
        "\n",
        "Memory\n",
        "\n",
        "Built in functionality\n",
        "\n",
        "Error prone\n",
        "\n",
        "Usability"
      ],
      "metadata": {
        "id": "dje2AYKwv_jT"
      }
    },
    {
      "cell_type": "code",
      "source": [
        "# syntax of both are different from each other: (tuple) [list]\n",
        "# List are mutable but tuple are not\n",
        "# Speed of tuple are more. they are faster\n",
        "# Tuples take less space in memory\n",
        "# List has more functions as compared to tuple\n",
        "# Lists are more error prone due to mutability\n",
        "# In applications where user did nt do any changes then you will use tuple, whereas where user will do more changes then you will use list like to do list\n"
      ],
      "metadata": {
        "id": "jhZ-TjnquAps"
      },
      "execution_count": null,
      "outputs": []
    },
    {
      "cell_type": "markdown",
      "source": [
        "### **tuples are faster**"
      ],
      "metadata": {
        "id": "DLxi_qp_g132"
      }
    },
    {
      "cell_type": "code",
      "source": [
        "# tuples are faster\n",
        "import time\n",
        "\n",
        "L = list(range(100000000))\n",
        "T = tuple(range(100000000))\n",
        "\n",
        "start = time.time()\n",
        "for i in L:\n",
        "  i*5\n",
        "print('List time',time.time()-start)\n",
        "start = time.time()\n",
        "for i in T:\n",
        "  i*5\n",
        "print('Tuple time',time.time()-start)"
      ],
      "metadata": {
        "colab": {
          "base_uri": "https://localhost:8080/"
        },
        "id": "RBLErKLgxjq9",
        "outputId": "340aa8a4-6f26-4f85-99e0-e64952b9e4d4"
      },
      "execution_count": null,
      "outputs": [
        {
          "output_type": "stream",
          "name": "stdout",
          "text": [
            "List time 11.479144811630249\n",
            "Tuple time 9.540014743804932\n"
          ]
        }
      ]
    },
    {
      "cell_type": "markdown",
      "source": [
        "### **tuple take less memory**"
      ],
      "metadata": {
        "id": "HXqzpgKehKUS"
      }
    },
    {
      "cell_type": "code",
      "source": [
        "# tuple take less memory\n",
        "import sys\n",
        "\n",
        "L = list(range(1000))\n",
        "T = tuple(range(1000))\n",
        "\n",
        "print('List size',sys.getsizeof(L))\n",
        "print('Tuple size',sys.getsizeof(T))"
      ],
      "metadata": {
        "colab": {
          "base_uri": "https://localhost:8080/"
        },
        "id": "Tp1-R7UUuAxx",
        "outputId": "61f8c723-992e-47e9-b759-afebbc442701"
      },
      "execution_count": null,
      "outputs": [
        {
          "output_type": "stream",
          "name": "stdout",
          "text": [
            "List size 8056\n",
            "Tuple size 8040\n"
          ]
        }
      ]
    },
    {
      "cell_type": "markdown",
      "source": [
        "### **List have more chances of error due to mutability**"
      ],
      "metadata": {
        "id": "GjQsRdGGhVQ7"
      }
    },
    {
      "cell_type": "markdown",
      "source": [
        "#### List have more chances of error due to mutability"
      ],
      "metadata": {
        "id": "VgBWIaZphdPJ"
      }
    },
    {
      "cell_type": "code",
      "source": [
        "# List have more chances of error due to mutability\n",
        "a = [1,2,3]\n",
        "b = a\n",
        "\n",
        "a.append(4)\n",
        "print(a)\n",
        "print(b)"
      ],
      "metadata": {
        "colab": {
          "base_uri": "https://localhost:8080/"
        },
        "id": "V5kHpHXJxyk1",
        "outputId": "236a2490-4724-42e9-a8db-5b414364d190"
      },
      "execution_count": null,
      "outputs": [
        {
          "output_type": "stream",
          "name": "stdout",
          "text": [
            "[1, 2, 3, 4]\n",
            "[1, 2, 3, 4]\n"
          ]
        }
      ]
    },
    {
      "cell_type": "markdown",
      "source": [
        "#### **tuples are not error prone due to immutable**"
      ],
      "metadata": {
        "id": "GkYbSLBEhjXV"
      }
    },
    {
      "cell_type": "code",
      "source": [
        "\n",
        "# tuple have no method of apppend\n",
        "a = (1,2,3)\n",
        "b = a\n",
        "\n",
        "a = a + (4,)\n",
        "print(a)\n",
        "print(b)"
      ],
      "metadata": {
        "colab": {
          "base_uri": "https://localhost:8080/"
        },
        "id": "1ngw7MVTx9IR",
        "outputId": "4c73ae70-8916-4929-cf6a-14aa06f7cc44"
      },
      "execution_count": null,
      "outputs": [
        {
          "output_type": "stream",
          "name": "stdout",
          "text": [
            "(1, 2, 3, 4)\n",
            "(1, 2, 3)\n"
          ]
        }
      ]
    },
    {
      "cell_type": "markdown",
      "source": [
        "## **Tuple Unpacking**"
      ],
      "metadata": {
        "id": "wR8eJdNv1jIU"
      }
    },
    {
      "cell_type": "code",
      "source": [
        "# tuple unpacking\n",
        "a,b,c = (1,2,3)\n",
        "print(a,b,c)"
      ],
      "metadata": {
        "id": "GN8jwZ0Qx9QC"
      },
      "execution_count": null,
      "outputs": []
    },
    {
      "cell_type": "code",
      "source": [
        "# a,b = (1,2,3)\n",
        "# print(a,b)"
      ],
      "metadata": {
        "id": "UofE1X0_1tWX"
      },
      "execution_count": null,
      "outputs": []
    },
    {
      "cell_type": "code",
      "source": [
        "# Values swapping\n",
        "# no need of third variable\n",
        "a = 1\n",
        "b = 2\n",
        "a,b = b,a\n",
        "\n",
        "print(a,b)"
      ],
      "metadata": {
        "id": "gXR9U1572Aeb"
      },
      "execution_count": null,
      "outputs": []
    },
    {
      "cell_type": "code",
      "source": [
        "# Tupple unpacking\n",
        "a,b,*others = (1,2,3,4)\n",
        "print(a,b)\n",
        "print(others)"
      ],
      "metadata": {
        "colab": {
          "base_uri": "https://localhost:8080/"
        },
        "id": "UVOvMTLP2AgN",
        "outputId": "83904f14-acbd-473c-db7c-d48bf0a1a92c"
      },
      "execution_count": null,
      "outputs": [
        {
          "output_type": "stream",
          "name": "stdout",
          "text": [
            "1 2\n",
            "[3, 4]\n"
          ]
        }
      ]
    },
    {
      "cell_type": "markdown",
      "source": [
        "## **Zip Tupple**"
      ],
      "metadata": {
        "id": "BxwmeGZt23Ad"
      }
    },
    {
      "cell_type": "code",
      "source": [
        "Zip :\n",
        "# Zip function operate on two iterables item by item"
      ],
      "metadata": {
        "id": "Blt5he6-22Om"
      },
      "execution_count": null,
      "outputs": []
    },
    {
      "cell_type": "code",
      "source": [
        "a = (1,2,3,4)\n",
        "b = (5,6,7,8)\n",
        "# make a zip object\n",
        "zip(a,b)"
      ],
      "metadata": {
        "colab": {
          "base_uri": "https://localhost:8080/"
        },
        "id": "1e1qoA063VOv",
        "outputId": "d2049b6f-38b9-436a-9898-80e3fbbf2935"
      },
      "execution_count": null,
      "outputs": [
        {
          "output_type": "execute_result",
          "data": {
            "text/plain": [
              "<zip at 0x78f04a167180>"
            ]
          },
          "metadata": {},
          "execution_count": 68
        }
      ]
    },
    {
      "cell_type": "code",
      "source": [
        "# To see the zip object , convert it into list or tuple\n",
        "# zipping tuples\n",
        "a = (1,2,3,4)\n",
        "b = (5,6,7,8)\n",
        "# tuple of tuples? 2D tuple\n",
        "tuple(zip(a,b))"
      ],
      "metadata": {
        "colab": {
          "base_uri": "https://localhost:8080/"
        },
        "id": "9TDoizSX2Ai0",
        "outputId": "f2c8b6cd-8730-4ce7-9d3a-c1a42c7f8abc"
      },
      "execution_count": null,
      "outputs": [
        {
          "output_type": "execute_result",
          "data": {
            "text/plain": [
              "((1, 5), (2, 6), (3, 7), (4, 8))"
            ]
          },
          "metadata": {},
          "execution_count": 69
        }
      ]
    },
    {
      "cell_type": "code",
      "source": [
        "# list tuples\n",
        "a = (1,2,3,4)\n",
        "b = (5,6,7,8)\n",
        "# you will get  list of tuple\n",
        "list(zip(a,b))"
      ],
      "metadata": {
        "colab": {
          "base_uri": "https://localhost:8080/"
        },
        "id": "7IsoD-EO3nuG",
        "outputId": "fd2b6513-0459-4f17-e2d8-2cb091c6fcb1"
      },
      "execution_count": null,
      "outputs": [
        {
          "output_type": "execute_result",
          "data": {
            "text/plain": [
              "[(1, 5), (2, 6), (3, 7), (4, 8)]"
            ]
          },
          "metadata": {},
          "execution_count": 70
        }
      ]
    },
    {
      "cell_type": "markdown",
      "source": [
        "## ***Tuple Comprehension***"
      ],
      "metadata": {
        "id": "hUf6mN0B4vMX"
      }
    },
    {
      "cell_type": "code",
      "source": [
        "# just like in list\n",
        "\n",
        "(i for i in range(0,10))"
      ],
      "metadata": {
        "colab": {
          "base_uri": "https://localhost:8080/"
        },
        "id": "2N_57E7K420d",
        "outputId": "0695ace9-68e2-48ca-c54a-b3d38bd18fee"
      },
      "execution_count": null,
      "outputs": [
        {
          "output_type": "execute_result",
          "data": {
            "text/plain": [
              "<generator object <genexpr> at 0x78ee68c05af0>"
            ]
          },
          "metadata": {},
          "execution_count": 72
        }
      ]
    },
    {
      "cell_type": "code",
      "source": [
        "#\n",
        "t = (1,2,3,4,56,9)\n",
        "tc = (i for i in t)\n",
        "print(tc)\n",
        "\n"
      ],
      "metadata": {
        "colab": {
          "base_uri": "https://localhost:8080/"
        },
        "id": "d0R8ZDWO5FVX",
        "outputId": "74e6b5c1-04b2-4b3f-a7a2-5c635cec59ae"
      },
      "execution_count": null,
      "outputs": [
        {
          "output_type": "stream",
          "name": "stdout",
          "text": [
            "<generator object <genexpr> at 0x78ee68c06110>\n"
          ]
        }
      ]
    },
    {
      "cell_type": "code",
      "source": [
        "# **************** all read operations can be tuples ************************\n",
        "# ************** all write operations can be possible in list **********************"
      ],
      "metadata": {
        "id": "qocJKk_8xyt1"
      },
      "execution_count": null,
      "outputs": []
    },
    {
      "cell_type": "code",
      "source": [],
      "metadata": {
        "id": "cp9ARi0e7mQv"
      },
      "execution_count": null,
      "outputs": []
    },
    {
      "cell_type": "code",
      "source": [],
      "metadata": {
        "id": "wNLtLmyh7mVW"
      },
      "execution_count": null,
      "outputs": []
    },
    {
      "cell_type": "code",
      "source": [],
      "metadata": {
        "id": "heZSUHs-7mW_"
      },
      "execution_count": null,
      "outputs": []
    },
    {
      "cell_type": "code",
      "source": [],
      "metadata": {
        "id": "PzD7w-op7mZq"
      },
      "execution_count": null,
      "outputs": []
    }
  ]
}