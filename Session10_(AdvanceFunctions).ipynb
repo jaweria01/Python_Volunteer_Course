{
  "nbformat": 4,
  "nbformat_minor": 0,
  "metadata": {
    "colab": {
      "provenance": [],
      "include_colab_link": true
    },
    "kernelspec": {
      "name": "python3",
      "display_name": "Python 3"
    },
    "language_info": {
      "name": "python"
    }
  },
  "cells": [
    {
      "cell_type": "markdown",
      "metadata": {
        "id": "view-in-github",
        "colab_type": "text"
      },
      "source": [
        "<a href=\"https://colab.research.google.com/github/jaweria01/Python_Volunteer_Course/blob/main/Session10_(AdvanceFunctions).ipynb\" target=\"_parent\"><img src=\"https://colab.research.google.com/assets/colab-badge.svg\" alt=\"Open In Colab\"/></a>"
      ]
    },
    {
      "cell_type": "markdown",
      "source": [
        "Functions (Advanced)\n",
        "\n",
        "Variable scope (local vs global)\n",
        "\n",
        "\n",
        "Nested functions\n",
        "\n",
        "\n",
        "Lambda functions\n",
        "\n",
        "Recursion basics\n"
      ],
      "metadata": {
        "id": "i7dGjF5vlm1G"
      }
    },
    {
      "cell_type": "markdown",
      "source": [
        "🔹 1. Variable Scope (Local vs Global)\n",
        "\n",
        "🧩 Theory\n",
        "\n",
        "Scope → The region where a variable can be accessed.\n",
        "\n",
        "Local variable: Declared inside a function → exists only inside that function.\n",
        "\n",
        "Global variable: Declared outside all functions → accessible everywhere."
      ],
      "metadata": {
        "id": "3WEPlx9KrwD4"
      }
    },
    {
      "cell_type": "code",
      "source": [
        "def call():\n",
        "  x=5\n",
        "  print(\"insideone:\",x)\n",
        "call()\n"
      ],
      "metadata": {
        "colab": {
          "base_uri": "https://localhost:8080/"
        },
        "id": "9J-wN9Avr0CY",
        "outputId": "bf9e47d6-571f-4729-e520-63a8c2261de1"
      },
      "execution_count": null,
      "outputs": [
        {
          "output_type": "stream",
          "name": "stdout",
          "text": [
            "insideone: 5\n"
          ]
        }
      ]
    },
    {
      "cell_type": "markdown",
      "source": [
        "**✅ Example 2 – Global variable**"
      ],
      "metadata": {
        "id": "y5dN-A1ctqUz"
      }
    },
    {
      "cell_type": "code",
      "source": [
        "x = 10 #global variable\n",
        "def show():\n",
        "  print(\"inside one:\",x)\n",
        "\n",
        "show()\n",
        "print(\"outside one:\",x)"
      ],
      "metadata": {
        "colab": {
          "base_uri": "https://localhost:8080/"
        },
        "id": "bEKWnuhJtyMM",
        "outputId": "29d74aed-0fa0-4d9a-87b5-0b860f67c529"
      },
      "execution_count": null,
      "outputs": [
        {
          "output_type": "stream",
          "name": "stdout",
          "text": [
            "inside one: 10\n",
            "outside one: 10\n"
          ]
        }
      ]
    },
    {
      "cell_type": "markdown",
      "source": [
        "**✅ Example 3 – Modifying global variable inside function**"
      ],
      "metadata": {
        "id": "TefRm_lyuNOv"
      }
    },
    {
      "cell_type": "code",
      "source": [
        "x = 5\n",
        "def update():\n",
        "  global x\n",
        "  x = x + 15\n",
        "  print(\"outside:\",x)\n",
        "\n",
        "update()\n",
        "print(\"inside:\",x)"
      ],
      "metadata": {
        "colab": {
          "base_uri": "https://localhost:8080/"
        },
        "id": "SgK9QeDGuZWV",
        "outputId": "2d2f0480-621b-48de-e847-fbdece047f39"
      },
      "execution_count": null,
      "outputs": [
        {
          "output_type": "stream",
          "name": "stdout",
          "text": [
            "outside: 20\n",
            "inside: 20\n"
          ]
        }
      ]
    },
    {
      "cell_type": "markdown",
      "source": [
        "**✅ Example 4 – Local variable shadows global**"
      ],
      "metadata": {
        "id": "2qweVdk8xAqu"
      }
    },
    {
      "cell_type": "code",
      "source": [
        "x = 5\n",
        "def show():\n",
        "  x=4\n",
        "  print(\"inside:\",x)\n",
        "show()\n",
        "print(\"outside:\",x)"
      ],
      "metadata": {
        "colab": {
          "base_uri": "https://localhost:8080/"
        },
        "id": "ljTkP8sOxE5G",
        "outputId": "dc327a5b-d3e9-4ce4-ca4c-3a467ead9dff"
      },
      "execution_count": null,
      "outputs": [
        {
          "output_type": "stream",
          "name": "stdout",
          "text": [
            "inside: 4\n",
            "outside: 5\n"
          ]
        }
      ]
    },
    {
      "cell_type": "markdown",
      "source": [
        "**🔹 2. Nested Functions**\n",
        "\n",
        "🧩 Theory\n",
        "\n",
        "A nested function (inner function) is a function defined inside another function.\n",
        "\n",
        "Uses:\n",
        "\n",
        "To organize code logically.\n",
        "\n",
        "To encapsulate helper logic.\n",
        "\n",
        "Inner function can access outer function’s variables (called closure)."
      ],
      "metadata": {
        "id": "K4W2W2TxxnOj"
      }
    },
    {
      "cell_type": "markdown",
      "source": [
        "**✅ Example 1 – Basic nested function**"
      ],
      "metadata": {
        "id": "7p8ivKZWxz1M"
      }
    },
    {
      "cell_type": "code",
      "source": [
        "def outer():\n",
        "  print(\"outer\")\n",
        "\n",
        "  def inner():\n",
        "   print(\"inner\")\n",
        "  inner()\n",
        "  print(\"inner end\")\n",
        "outer()\n"
      ],
      "metadata": {
        "colab": {
          "base_uri": "https://localhost:8080/"
        },
        "id": "l917moL2x1jP",
        "outputId": "5d69ded2-e934-4859-d1f8-669698a94486"
      },
      "execution_count": null,
      "outputs": [
        {
          "output_type": "stream",
          "name": "stdout",
          "text": [
            "outer\n",
            "inner\n",
            "inner end\n"
          ]
        }
      ]
    },
    {
      "cell_type": "markdown",
      "source": [
        "**✅ Example 2 – Access outer variable**"
      ],
      "metadata": {
        "id": "udsvXrPIyg1S"
      }
    },
    {
      "cell_type": "code",
      "source": [
        "def out():\n",
        "  message=\"hello\"\n",
        "\n",
        "  def inner():\n",
        "    print(message)\n",
        "  inner()\n",
        "out()"
      ],
      "metadata": {
        "colab": {
          "base_uri": "https://localhost:8080/"
        },
        "id": "u9YH7-eEyiq2",
        "outputId": "b67567b3-4aba-49f4-a067-e82b127de29a"
      },
      "execution_count": null,
      "outputs": [
        {
          "output_type": "stream",
          "name": "stdout",
          "text": [
            "hello\n"
          ]
        }
      ]
    },
    {
      "cell_type": "markdown",
      "source": [
        "**✅ Example 3 – Returning inner function**"
      ],
      "metadata": {
        "id": "42PSrC31zOMU"
      }
    },
    {
      "cell_type": "code",
      "source": [
        "def greet(name):\n",
        "  def message():\n",
        "    return \"hello \"+name\n",
        "  return message\n",
        "say=greet(\"madeha\")\n",
        "raw=greet(\"uzma\")\n",
        "print(say())\n",
        "print(raw())"
      ],
      "metadata": {
        "colab": {
          "base_uri": "https://localhost:8080/"
        },
        "id": "EGvEBT3vzVDO",
        "outputId": "b641bb8f-b9d7-4a56-a553-72fcfe274eea"
      },
      "execution_count": null,
      "outputs": [
        {
          "output_type": "stream",
          "name": "stdout",
          "text": [
            "hello madeha\n",
            "hello uzma\n"
          ]
        }
      ]
    },
    {
      "cell_type": "markdown",
      "source": [
        "**🔹 3. Lambda Functions (Anonymous Functions)**\n",
        "\n",
        "🧩 Theory\n",
        "\n",
        "A lambda is a small anonymous function — used for short, one-line tasks.\n",
        "\n",
        "Syntax:\n",
        "\n",
        "lambda arguments: expression\n"
      ],
      "metadata": {
        "id": "s0ELdMNn0COb"
      }
    },
    {
      "cell_type": "code",
      "source": [],
      "metadata": {
        "id": "HUJS1sO60SpM"
      },
      "execution_count": null,
      "outputs": []
    },
    {
      "cell_type": "markdown",
      "source": [
        "**✅ Example 1 – Basic lambda**"
      ],
      "metadata": {
        "id": "cLqPKiG_0TFU"
      }
    },
    {
      "cell_type": "code",
      "source": [
        "add=lambda a, b:a+b\n",
        "print(add(2,4))"
      ],
      "metadata": {
        "colab": {
          "base_uri": "https://localhost:8080/"
        },
        "id": "nwiRoJNv0Vft",
        "outputId": "adf5b5c3-eaa5-44fa-b34c-d321a8e00f1c"
      },
      "execution_count": null,
      "outputs": [
        {
          "output_type": "stream",
          "name": "stdout",
          "text": [
            "6\n"
          ]
        }
      ]
    },
    {
      "cell_type": "markdown",
      "source": [
        "**✅ Example 2 – Square using lambda**"
      ],
      "metadata": {
        "id": "NB9uD-Zt0n5C"
      }
    },
    {
      "cell_type": "code",
      "source": [
        "square=lambda a,b:a**b\n",
        "print(square(2,4))"
      ],
      "metadata": {
        "colab": {
          "base_uri": "https://localhost:8080/"
        },
        "id": "NX90oD7F0pZO",
        "outputId": "34c05088-a926-4981-df21-90dc20f3c590"
      },
      "execution_count": null,
      "outputs": [
        {
          "output_type": "stream",
          "name": "stdout",
          "text": [
            "16\n"
          ]
        }
      ]
    },
    {
      "cell_type": "markdown",
      "source": [
        "**✅ Example 3 – With built-in functions (map, filter, sorted)**\n",
        "\n",
        "Using map"
      ],
      "metadata": {
        "id": "vhPeyDVo03fk"
      }
    },
    {
      "cell_type": "code",
      "source": [
        "num=[1,2,3,4,5]\n",
        "square=list(map(lambda x:x**2, num))\n",
        "print(square)"
      ],
      "metadata": {
        "colab": {
          "base_uri": "https://localhost:8080/"
        },
        "id": "_gREWEtr05Q7",
        "outputId": "bba1bb60-4fb2-4de0-f5b4-8c40dc3ce142"
      },
      "execution_count": null,
      "outputs": [
        {
          "output_type": "stream",
          "name": "stdout",
          "text": [
            "[1, 4, 9, 16, 25]\n"
          ]
        }
      ]
    },
    {
      "cell_type": "markdown",
      "source": [
        "**Using filter**\n",
        "\n",
        "**Using sorted**"
      ],
      "metadata": {
        "id": "FtkcVA4i1uEQ"
      }
    },
    {
      "cell_type": "code",
      "source": [
        "num=[1,2,3,4,5]\n",
        "even=list(filter(lambda x:x%2==0, num))\n",
        "print(even)\n",
        "\n",
        "students=[(\"madeha\",17),(\"jaweria\",22)]\n",
        "sorted_students=sorted(students, key=lambda x:x[0])\n",
        "print(sorted_students)"
      ],
      "metadata": {
        "colab": {
          "base_uri": "https://localhost:8080/"
        },
        "id": "Bck9Nn1y1z7n",
        "outputId": "3a5ce8f5-c728-46fd-882f-6f6f125b0fcc"
      },
      "execution_count": null,
      "outputs": [
        {
          "output_type": "stream",
          "name": "stdout",
          "text": [
            "[2, 4]\n",
            "[('jaweria', 22), ('madeha', 17)]\n"
          ]
        }
      ]
    },
    {
      "cell_type": "markdown",
      "source": [
        "# WEEK-3 DAY-01\n"
      ],
      "metadata": {
        "id": "_8Lx7vz60A5P"
      }
    },
    {
      "cell_type": "markdown",
      "source": [
        "🔹 4. Recursion Basics\n",
        "\n",
        "🧩 Theory\n",
        "\n",
        "A recursive function is one that calls itself.\n",
        "\n",
        "Rules:\n",
        "\n",
        "Must have a base case → stops recursion.\n",
        "\n",
        "Must move toward base case each call.\n",
        "\n",
        "Can replace some loops with recursion."
      ],
      "metadata": {
        "id": "CI0Oiu-43VJD"
      }
    },
    {
      "cell_type": "code",
      "source": [
        "def countdown(n):\n",
        "  if n == 0:\n",
        "    print(n)\n",
        "  else:\n",
        "    print(n)\n",
        "    countdown(n-1)\n",
        "countdown(5)\n"
      ],
      "metadata": {
        "colab": {
          "base_uri": "https://localhost:8080/"
        },
        "id": "2NYYGUzj3XWK",
        "outputId": "3e2c2d67-e654-4880-d8f5-be3ae2ee2a01"
      },
      "execution_count": null,
      "outputs": [
        {
          "output_type": "stream",
          "name": "stdout",
          "text": [
            "5\n",
            "4\n",
            "3\n",
            "2\n",
            "1\n",
            "0\n"
          ]
        }
      ]
    },
    {
      "cell_type": "markdown",
      "source": [
        "**FACTORIAL**"
      ],
      "metadata": {
        "id": "el6mgOSw3mrh"
      }
    },
    {
      "cell_type": "code",
      "source": [
        "def factorial(n):\n",
        "  if n == 0 or n ==1:\n",
        "    return 1\n",
        "  else:\n",
        "    return n * factorial(n-1)\n",
        "factorial(5)\n"
      ],
      "metadata": {
        "colab": {
          "base_uri": "https://localhost:8080/"
        },
        "id": "ghX8sYmG3sFv",
        "outputId": "3f688134-bc9d-4905-9245-da87ce9ab9b7"
      },
      "execution_count": null,
      "outputs": [
        {
          "output_type": "execute_result",
          "data": {
            "text/plain": [
              "120"
            ]
          },
          "metadata": {},
          "execution_count": 5
        }
      ]
    },
    {
      "cell_type": "code",
      "source": [
        "factorial(5)\n",
        "= 5 * factorial(4)\n",
        "= 5 * 4 * factorial(3)\n",
        "= 5 * 4 * 3 * factorial(2)\n",
        "= 5 * 4 * 3 * 2 * factorial(1)\n",
        "= 5 * 4 * 3 * 2 * 1 = 120\n"
      ],
      "metadata": {
        "id": "UJ0WIcjs31xG"
      },
      "execution_count": null,
      "outputs": []
    },
    {
      "cell_type": "markdown",
      "source": [
        "**Sum of natural numbers**"
      ],
      "metadata": {
        "id": "uFRObqF43ul2"
      }
    },
    {
      "cell_type": "code",
      "source": [
        "def sum_natural(n):\n",
        "  if n == 0:\n",
        "    return 0\n",
        "  else:\n",
        "    return n + sum_natural(n-1)\n",
        "sum_natural(4)\n"
      ],
      "metadata": {
        "colab": {
          "base_uri": "https://localhost:8080/"
        },
        "id": "5PiMZ1PS30qH",
        "outputId": "ef3d9358-1601-4752-d257-3e11d474860a"
      },
      "execution_count": null,
      "outputs": [
        {
          "output_type": "execute_result",
          "data": {
            "text/plain": [
              "10"
            ]
          },
          "metadata": {},
          "execution_count": 6
        }
      ]
    },
    {
      "cell_type": "markdown",
      "source": [
        "**Fibonacci sequence**"
      ],
      "metadata": {
        "id": "rB88C9-g4JxA"
      }
    },
    {
      "cell_type": "code",
      "source": [
        "def fib(n):\n",
        "  if n == 0:\n",
        "    return 0\n",
        "  elif n == 1:\n",
        "    return 1\n",
        "  else:\n",
        "    return fib(n-1) + fib(n-2)\n",
        "\n",
        "for i in range(5):\n",
        "  print(fib(i))\n",
        "fib(5)\n",
        "\n"
      ],
      "metadata": {
        "id": "kMjPdj2U4Onf",
        "outputId": "42e6db66-7f71-4acb-cfd4-20740193cf9d",
        "colab": {
          "base_uri": "https://localhost:8080/"
        }
      },
      "execution_count": null,
      "outputs": [
        {
          "output_type": "stream",
          "name": "stdout",
          "text": [
            "0\n",
            "1\n",
            "1\n",
            "2\n",
            "3\n"
          ]
        },
        {
          "output_type": "execute_result",
          "data": {
            "text/plain": [
              "5"
            ]
          },
          "metadata": {},
          "execution_count": 19
        }
      ]
    }
  ]
}