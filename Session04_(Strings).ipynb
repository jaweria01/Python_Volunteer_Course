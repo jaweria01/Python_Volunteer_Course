{
  "nbformat": 4,
  "nbformat_minor": 0,
  "metadata": {
    "colab": {
      "provenance": [],
      "include_colab_link": true
    },
    "kernelspec": {
      "name": "python3",
      "display_name": "Python 3"
    },
    "language_info": {
      "name": "python"
    }
  },
  "cells": [
    {
      "cell_type": "markdown",
      "metadata": {
        "id": "view-in-github",
        "colab_type": "text"
      },
      "source": [
        "<a href=\"https://colab.research.google.com/github/jaweria01/Python_Volunteer_Course/blob/main/Session4_(Strings).ipynb\" target=\"_parent\"><img src=\"https://colab.research.google.com/assets/colab-badge.svg\" alt=\"Open In Colab\"/></a>"
      ]
    },
    {
      "cell_type": "markdown",
      "source": [
        "# OPERATORS"
      ],
      "metadata": {
        "id": "frEeXXLQuku7"
      }
    },
    {
      "cell_type": "markdown",
      "source": [
        "**Literals**\n",
        "\n",
        "Literals are constant values directly used in code.\n",
        "\n",
        "Numeric literals → 10, 3.14, 0b101 (binary)\n",
        "\n",
        "String literals → 'hello', \"world\"\n",
        "\n",
        "Boolean literals → True, False\n",
        "\n",
        "Special literal → None"
      ],
      "metadata": {
        "id": "_GFhI42xuttz"
      }
    },
    {
      "cell_type": "code",
      "source": [
        "a = 10,\n",
        "print(type(a))"
      ],
      "metadata": {
        "colab": {
          "base_uri": "https://localhost:8080/"
        },
        "id": "twCsxZXE7EQF",
        "outputId": "d96aefd2-012b-4fe4-f47b-f4d3d370fcc9"
      },
      "execution_count": null,
      "outputs": [
        {
          "output_type": "stream",
          "name": "stdout",
          "text": [
            "<class 'tuple'>\n"
          ]
        }
      ]
    },
    {
      "cell_type": "code",
      "source": [
        "# Examples of literals\n",
        "a = 10        # integer literal\n",
        "b = 3.14      # float literal\n",
        "c = \"Python\"  # string literal\n",
        "d = True      # boolean literal\n",
        "e = None      # special literal\n",
        "print(a)\n"
      ],
      "metadata": {
        "id": "mYIKMJkbusoi",
        "colab": {
          "base_uri": "https://localhost:8080/"
        },
        "outputId": "6303cfde-1497-4aa9-9476-284945dc5459"
      },
      "execution_count": null,
      "outputs": [
        {
          "output_type": "stream",
          "name": "stdout",
          "text": [
            "10\n"
          ]
        }
      ]
    },
    {
      "cell_type": "markdown",
      "source": [
        "**Arithmetic** Operators\n",
        "\n",
        "Used for basic math.\n",
        "\n",
        "Operator\tMeaning\tExample (a=10, b=3)\n",
        "\n",
        "\n",
        "+\tAddition\ta + b → 13\n",
        "\n",
        "-\tSubtraction\ta - b → 7\n",
        "\n",
        "*\tMultiplication\ta * b → 30\n",
        "\n",
        "  /\tDivision (float)\ta / b → 3.33\n",
        "\n",
        "  //\tFloor division\ta // b → 3\n",
        "\n",
        "  %\tModulus (remainder)\ta % b → 1\n",
        "\n",
        "  **\tExponentiation\ta ** b → 1000 #square root # power\n",
        "\n"
      ],
      "metadata": {
        "id": "5nUIy2MrxKAX"
      }
    },
    {
      "cell_type": "code",
      "source": [
        "a=3\n",
        "b=9\n",
        "#print(a+b)\n",
        "#print(a-b)\n",
        "#print(a*b)\n",
        "print(a/b)\n",
        "print(a//b)\n",
        "#print(a%b)\n",
        "#print(a**b)\n"
      ],
      "metadata": {
        "id": "Mgqor0kmxgQ7",
        "colab": {
          "base_uri": "https://localhost:8080/"
        },
        "outputId": "cf779c6b-55b3-4c07-a372-a4edcb755cab"
      },
      "execution_count": null,
      "outputs": [
        {
          "output_type": "stream",
          "name": "stdout",
          "text": [
            "0.3333333333333333\n",
            "0\n"
          ]
        }
      ]
    },
    {
      "cell_type": "markdown",
      "source": [
        "**Assignment Operators**\n",
        "\n",
        "Operator\tExample\n",
        "=, \tx = 5\tAssign 5\n",
        "\n",
        "+=,\n",
        "\n",
        "-=,\n",
        "\n",
        "*=,\n",
        "\n",
        "/=,\n",
        "\n",
        "//=,\n",
        "\n",
        "%=,\n",
        "\n",
        "**=\n",
        "\n",
        "\n",
        "\n",
        "\n"
      ],
      "metadata": {
        "id": "o8NNmD4RyvSV"
      }
    },
    {
      "cell_type": "code",
      "source": [
        "a = 10\n",
        "#a += 4\n",
        "#a -= 3\n",
        "#a = a+4\n",
        "#a *= 3\n",
        "#a /= 3\n",
        "#a //= 3\n",
        "#a %= 3\n",
        "a **= 3\n",
        "print(a)\n",
        "\n"
      ],
      "metadata": {
        "colab": {
          "base_uri": "https://localhost:8080/"
        },
        "id": "oz63jfyK1_Fb",
        "outputId": "2411ebcd-3bfb-4a6c-b952-fdea17f2863f"
      },
      "execution_count": null,
      "outputs": [
        {
          "output_type": "stream",
          "name": "stdout",
          "text": [
            "1000\n"
          ]
        }
      ]
    },
    {
      "cell_type": "markdown",
      "source": [
        "**COMPARISION OPERATORS**"
      ],
      "metadata": {
        "id": "4-bYsZ4L1rfD"
      }
    },
    {
      "cell_type": "code",
      "source": [
        "# ==  isequal\n",
        "# != not equal\n",
        "# > greater than\n",
        "# < less than\n",
        "# >= greater than or equal\n",
        "# <= less than or equal\n",
        "a = 13\n",
        "b = 14\n",
        "print(a==b)\n",
        "print(a!=b)\n",
        "print(a>b)\n",
        "print(a<b)\n",
        "print(a>=b)\n",
        "#print(type(a>=b))\n",
        "print(a<=b)\n"
      ],
      "metadata": {
        "id": "4Audex20y8a6",
        "colab": {
          "base_uri": "https://localhost:8080/"
        },
        "outputId": "1ba40843-23df-4ba4-c920-16c3fc8f8900"
      },
      "execution_count": null,
      "outputs": [
        {
          "output_type": "stream",
          "name": "stdout",
          "text": [
            "False\n",
            "True\n",
            "False\n",
            "True\n",
            "False\n",
            "True\n"
          ]
        }
      ]
    },
    {
      "cell_type": "markdown",
      "source": [
        "**LOGICAL OPERATORS**\n",
        "\n",
        "and, if both true\n",
        "\n",
        "or, if one true\n",
        "\n",
        "not, inverse(convert true into false and false into true)\n"
      ],
      "metadata": {
        "id": "v7sB-WNX1l-l"
      }
    },
    {
      "cell_type": "code",
      "source": [
        "a=12\n",
        "b=14\n",
        "print(not(a>b))"
      ],
      "metadata": {
        "id": "MFpHO8qw3Juc",
        "colab": {
          "base_uri": "https://localhost:8080/"
        },
        "outputId": "8836adb4-4df5-4830-aef6-40d7cecedeaf"
      },
      "execution_count": null,
      "outputs": [
        {
          "output_type": "stream",
          "name": "stdout",
          "text": [
            "True\n"
          ]
        }
      ]
    },
    {
      "cell_type": "markdown",
      "source": [
        "**Operator Precedence**\n",
        "\n",
        "Determines the order of execution.\n",
        "Higher precedence ops are executed first.\n",
        "\n",
        "Order (high → low):\n",
        "\n",
        "() → Parentheses\n",
        "\n",
        "** → Exponentiation\n",
        "\n",
        "*, /, //, % → Multiplication, division\n",
        "\n",
        "+, - → Addition, subtraction\n",
        "\n",
        "<, >, <=, >= → Comparisons\n",
        "\n",
        "==, != → Equality\n",
        "\n",
        "and\n",
        "\n",
        "or\n",
        "\n",
        "= → Assignment"
      ],
      "metadata": {
        "id": "8y5yGDrB3mbU"
      }
    },
    {
      "cell_type": "code",
      "source": [
        "#a = 10 +2 *3\n",
        "a=9*2+3\n",
        "print(a)\n",
        "#a = 4\n",
        "#b = 5\n",
        "#print(a**b)\n",
        "#print(a*b)\n",
        "#print(a/b)\n",
        "#print(a//b)\n",
        "#print(a%b)\n",
        "#print(a+b)\n",
        "#print(a-b)\n"
      ],
      "metadata": {
        "id": "p52tICQh3xcz",
        "colab": {
          "base_uri": "https://localhost:8080/"
        },
        "outputId": "fb155ad2-e3b1-40b6-f9b0-cee1e12c13fa"
      },
      "execution_count": null,
      "outputs": [
        {
          "output_type": "stream",
          "name": "stdout",
          "text": [
            "21\n"
          ]
        }
      ]
    },
    {
      "cell_type": "code",
      "source": [],
      "metadata": {
        "id": "Sh3cXNLX59Un"
      },
      "execution_count": null,
      "outputs": []
    },
    {
      "cell_type": "markdown",
      "source": [
        "# STRINGS"
      ],
      "metadata": {
        "id": "uJ1f7WEe4zNC"
      }
    },
    {
      "cell_type": "markdown",
      "source": [
        "**1. Creating & Accessing Strings**\n",
        "\n",
        "Strings can be created with single ('), double (\") or triple quotes (''' or \"\"\").\n",
        "\n",
        "Accessing by index"
      ],
      "metadata": {
        "id": "hNMgNjnv46NC"
      }
    },
    {
      "cell_type": "code",
      "source": [],
      "metadata": {
        "id": "sfaMT8SG5rz6"
      },
      "execution_count": null,
      "outputs": []
    },
    {
      "cell_type": "markdown",
      "source": [
        "**2. Adding / Editing / Deleting Strings**\n",
        "\n",
        "Strings are immutable → cannot change characters directly.\n",
        "\n",
        "But you can create new strings."
      ],
      "metadata": {
        "id": "n5gRGDBp54ar"
      }
    },
    {
      "cell_type": "code",
      "source": [
        "# Adding (Concatenation)\n",
        "# Editing → need to create new string\n",
        "# Deleting\n"
      ],
      "metadata": {
        "id": "MArq_7oY5-tz"
      },
      "execution_count": null,
      "outputs": []
    },
    {
      "cell_type": "markdown",
      "source": [
        "**3. Indexing**"
      ],
      "metadata": {
        "id": "qTYUr9HF6sIz"
      }
    },
    {
      "cell_type": "code",
      "source": [],
      "metadata": {
        "id": "avgpdKC_6wNl"
      },
      "execution_count": null,
      "outputs": []
    },
    {
      "cell_type": "markdown",
      "source": [
        "**4. Slicing**"
      ],
      "metadata": {
        "id": "6RgN5l2_62ni"
      }
    },
    {
      "cell_type": "code",
      "source": [],
      "metadata": {
        "id": "W7tqPMHS64Aj"
      },
      "execution_count": null,
      "outputs": []
    },
    {
      "cell_type": "markdown",
      "source": [
        "**5. String Operators**\n",
        "\n",
        "Operator\tExample\tResult\n",
        "\n",
        "+\t\"Hi\" + \"There\"\t\"HiThere\"\n",
        "\n",
        "*\t\"Hi\" * 3\t\"HiHiHi\"\n",
        "\n",
        "in\t\"a\" in \"cat\"\tTrue\n",
        "\n",
        "not in\t\"z\" not in \"cat\"\tTrue\n"
      ],
      "metadata": {
        "id": "NU2biPvG6_c6"
      }
    },
    {
      "cell_type": "code",
      "source": [
        "\n"
      ],
      "metadata": {
        "id": "rRp5naBC7DRL"
      },
      "execution_count": null,
      "outputs": []
    },
    {
      "cell_type": "markdown",
      "source": [
        "**6. String Methods**\n",
        "\n",
        "Some commonly used string methods:\n",
        "\n",
        ".upper()  \n",
        "\n",
        ".lower()\n",
        "\n",
        ".title()\n",
        "\n",
        ".strip()     # removes spaces from ends\n",
        "\n",
        ".replace(\"\", \"\")\n",
        "\n",
        ".split()\n",
        "\n",
        "\".\".join([\"\",\"\",\"\"])\n",
        "\n",
        ".find(\"\")  (index where substring found)\n",
        "\n",
        ".count(\"\")\n"
      ],
      "metadata": {
        "id": "D2V1Z7G_7iqT"
      }
    },
    {
      "cell_type": "code",
      "source": [],
      "metadata": {
        "id": "65wsskIb7nUq"
      },
      "execution_count": null,
      "outputs": []
    },
    {
      "cell_type": "markdown",
      "source": [
        "**7. String Functions (Built-ins)**\n",
        "\n",
        "len()      # Length\n",
        "\n",
        "max()    # Character with max ASCII → 'r'\n",
        "\n",
        "min()      # Character with min ASCII → 'H'\n",
        "\n",
        "sorted()  # Returns sorted list of characters\n",
        "\n",
        "str(123)    # Convert number to string → '123'\n",
        "\n",
        "**ASCII-TABLE**\n",
        "\n",
        "*65-90_A-Z*\n",
        "\n",
        "*97-122_a-z*\n",
        "\n"
      ],
      "metadata": {
        "id": "N-u8yuUw8tyL"
      }
    },
    {
      "cell_type": "code",
      "source": [],
      "metadata": {
        "id": "LOIJvM749US1"
      },
      "execution_count": null,
      "outputs": []
    },
    {
      "cell_type": "markdown",
      "source": [
        "**8. String Formatting**\n",
        "\n",
        "(a) f-Strings (Python 3.6+)\n",
        "\n",
        "(b) format() method # .format()\n",
        "\n",
        "(c) Percent % formatting #(\" %a,  %.2f\" % (,))\n"
      ],
      "metadata": {
        "id": "oCl57cqY9Uf3"
      }
    },
    {
      "cell_type": "code",
      "source": [
        "\n"
      ],
      "metadata": {
        "id": "sVBFLyCE9mJs"
      },
      "execution_count": null,
      "outputs": []
    }
  ]
}
