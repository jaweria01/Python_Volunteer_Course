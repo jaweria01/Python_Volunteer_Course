{
  "nbformat": 4,
  "nbformat_minor": 0,
  "metadata": {
    "colab": {
      "provenance": [],
      "authorship_tag": "ABX9TyNEMaiH/RJPk9LNY9uuBhhO",
      "include_colab_link": true
    },
    "kernelspec": {
      "name": "python3",
      "display_name": "Python 3"
    },
    "language_info": {
      "name": "python"
    }
  },
  "cells": [
    {
      "cell_type": "markdown",
      "metadata": {
        "id": "view-in-github",
        "colab_type": "text"
      },
      "source": [
        "<a href=\"https://colab.research.google.com/github/jaweria01/Python_Volunteer_Course/blob/main/Session7_(ControlFlow%2BDecisionControl).ipynb\" target=\"_parent\"><img src=\"https://colab.research.google.com/assets/colab-badge.svg\" alt=\"Open In Colab\"/></a>"
      ]
    },
    {
      "cell_type": "code",
      "execution_count": null,
      "metadata": {
        "id": "nSOwkdJANj9o"
      },
      "outputs": [],
      "source": []
    },
    {
      "cell_type": "markdown",
      "source": [
        "**1.** Understand control flow in Python.\n",
        "\n",
        "**2.** Types of flow control\n",
        "\n",
        "**3.** Decision control: if, elif, else\n",
        "\n",
        "**4.** Nested if statements\n",
        "\n",
        "**5.** Shorthand if expressions\n"
      ],
      "metadata": {
        "id": "vfh0a8nsTrMX"
      }
    },
    {
      "cell_type": "markdown",
      "source": [
        "## **1. Control Flow**\n",
        "\n",
        "Control Flow means controlling the order in which instructions in a program are executed.\n",
        "\n",
        "Python normally runs code top to bottom, but control flow statements can change this sequence.\n",
        "\n",
        "## **2. Types of flow control:**\n",
        "\n",
        "**1.** Decision Control (if/elif/else) → makes choices.\n",
        "\n",
        "**2.** Looping Control (for, while) → repeats actions.\n",
        "\n",
        "**3.** Jump Control (break, continue, pass) → jumps in/out of loops."
      ],
      "metadata": {
        "id": "--LoWea8NlUV"
      }
    },
    {
      "cell_type": "code",
      "source": [],
      "metadata": {
        "id": "yXeTX0w_OSfF"
      },
      "execution_count": null,
      "outputs": []
    },
    {
      "cell_type": "markdown",
      "source": [
        "## **3. Decision Control**"
      ],
      "metadata": {
        "id": "wriZsv5mVK3L"
      }
    },
    {
      "cell_type": "markdown",
      "source": [
        "### **One condition/possibility**"
      ],
      "metadata": {
        "id": "Z7jvPTpbWWAd"
      }
    },
    {
      "cell_type": "code",
      "source": [
        "a = 10\n",
        "if a == 10:\n",
        "    print(\"a is 10\")"
      ],
      "metadata": {
        "colab": {
          "base_uri": "https://localhost:8080/"
        },
        "id": "w4NctWnstVW-",
        "outputId": "35a1f372-88d2-4aa9-b5f6-10604e540a53"
      },
      "execution_count": 2,
      "outputs": [
        {
          "output_type": "stream",
          "name": "stdout",
          "text": [
            "a is 10\n"
          ]
        }
      ]
    },
    {
      "cell_type": "markdown",
      "source": [
        "### **Two Possibilities**\n",
        "\n",
        "**if-else**\n",
        "\n",
        "Use if-else when there are exactly 2 possible outcomes.\n"
      ],
      "metadata": {
        "id": "f42_ICZxOuvi"
      }
    },
    {
      "cell_type": "code",
      "source": [
        "# Example: Login form → correct password vs wrong password.\n",
        "\n",
        "\n",
        "password = input(\"Enter password: \")\n",
        "password1 = \"abcd\"\n",
        "\n",
        "if password == password1:\n",
        "    print(\"True ✅\")\n",
        "else:\n",
        "    print(\"False ❌\")\n"
      ],
      "metadata": {
        "colab": {
          "base_uri": "https://localhost:8080/"
        },
        "id": "nASw-OxuPuMQ",
        "outputId": "69b609ab-a97a-47c5-e9d6-dde2db91f53b"
      },
      "execution_count": 10,
      "outputs": [
        {
          "output_type": "stream",
          "name": "stdout",
          "text": [
            "Enter password: 123\n",
            "False ❌\n"
          ]
        }
      ]
    },
    {
      "cell_type": "markdown",
      "source": [
        "### **Multiple-Possibilities**\n",
        "\n",
        "Use elif when you have 3 or more choices.\n",
        "\n",
        "- First condition → handled by if\n",
        "\n",
        "- Middle conditions → handled by elif\n",
        "\n",
        "- Final/last condition → handled by else"
      ],
      "metadata": {
        "id": "YoftgnvPPxrm"
      }
    },
    {
      "cell_type": "markdown",
      "source": [
        "**if:** checks the first condition.\n",
        "\n",
        "**elif:** checks middle conditions if the first one is false.\n",
        "\n",
        "**else:** runs if no condition matches."
      ],
      "metadata": {
        "id": "Rq4fZ0VGPTJX"
      }
    },
    {
      "cell_type": "code",
      "source": [
        "marks = 10\n",
        "\n",
        "if marks >= 90:\n",
        "    print(\"Grade: A\")\n",
        "elif marks >= 75:\n",
        "    print(\"Grade: B\")\n",
        "elif marks >= 50:\n",
        "    print(\"Grade: C\")\n",
        "else:\n",
        "    print(\"Grade: Fail\")\n"
      ],
      "metadata": {
        "colab": {
          "base_uri": "https://localhost:8080/"
        },
        "id": "spXYci1cQtYo",
        "outputId": "cd9a8104-6506-42de-f246-64b376d2257e"
      },
      "execution_count": 13,
      "outputs": [
        {
          "output_type": "stream",
          "name": "stdout",
          "text": [
            "Grade: Fail\n"
          ]
        }
      ]
    },
    {
      "cell_type": "markdown",
      "source": [
        "## **4. Nested if Statements**\n",
        "\n",
        "Use an ***if inside another if*** to check specific cases."
      ],
      "metadata": {
        "id": "0MrTHymWRtYu"
      }
    },
    {
      "cell_type": "code",
      "source": [
        "a = \"1234\"\n",
        "type(a)\n",
        "a1 = int(a)\n",
        "type(a1)"
      ],
      "metadata": {
        "colab": {
          "base_uri": "https://localhost:8080/"
        },
        "id": "mRPLcqyAwOzA",
        "outputId": "6d5dbff9-8c6e-4e3f-c93d-5c292896b13d"
      },
      "execution_count": 16,
      "outputs": [
        {
          "output_type": "execute_result",
          "data": {
            "text/plain": [
              "int"
            ]
          },
          "metadata": {},
          "execution_count": 16
        }
      ]
    },
    {
      "cell_type": "code",
      "source": [
        "# num = 12\n",
        "num = int(input(\"Enter a number: \"))\n",
        "\n",
        "if num > 0:\n",
        "    print(\"Positive number\")\n",
        "    if num % 2 == 0:\n",
        "        print(\"Even number\")\n",
        "    else:\n",
        "        print(\"Odd number\")\n"
      ],
      "metadata": {
        "colab": {
          "base_uri": "https://localhost:8080/"
        },
        "id": "0aTYsdftR-qp",
        "outputId": "25e406e3-27e4-46f5-a885-323d53a98534"
      },
      "execution_count": 27,
      "outputs": [
        {
          "output_type": "stream",
          "name": "stdout",
          "text": [
            "Enter a number: 10\n",
            "Positive number\n",
            "Even number\n"
          ]
        }
      ]
    },
    {
      "cell_type": "markdown",
      "source": [
        "## **5. Shorthand If Expressions**\n",
        "\n",
        "Useful when writing small, single-line conditions."
      ],
      "metadata": {
        "id": "rIsctgE-SKy6"
      }
    },
    {
      "cell_type": "code",
      "source": [
        "x = int(input(\"Enter a number: \"))\n",
        "\n",
        "if x > 5:\n",
        "   print(\"x is greater than 5\")"
      ],
      "metadata": {
        "colab": {
          "base_uri": "https://localhost:8080/"
        },
        "id": "g6gqRi6zw6up",
        "outputId": "5104d07c-7d90-4684-9b99-c2408d8109d5"
      },
      "execution_count": 22,
      "outputs": [
        {
          "output_type": "stream",
          "name": "stdout",
          "text": [
            "Enter a number: 10\n",
            "x is greater than 5\n"
          ]
        }
      ]
    },
    {
      "cell_type": "code",
      "source": [
        "# Simple shorthand:\n",
        "x = 10\n",
        "if x > 5: print(\"x is greater than 5\")\n"
      ],
      "metadata": {
        "id": "bxN3-0PXSTap"
      },
      "execution_count": null,
      "outputs": []
    },
    {
      "cell_type": "code",
      "source": [
        "# Ternary operator (inline if-else):\n",
        "a = 5\n",
        "b = 10\n",
        "\n",
        "print(\"a is greater\") if a > b else print(\"b is greater\")\n"
      ],
      "metadata": {
        "id": "0NkQrO7jSrui"
      },
      "execution_count": null,
      "outputs": []
    },
    {
      "cell_type": "code",
      "source": [
        "a = input(\"Enter a number: \")\n",
        "b = input(\"Enter a number: \")\n",
        "\n",
        "print(\"a is greater\") if a > b else print(\"b is greater\")"
      ],
      "metadata": {
        "colab": {
          "base_uri": "https://localhost:8080/"
        },
        "id": "ndQ5j5txxs02",
        "outputId": "54817098-4015-4f27-89e6-42ce12b6915a"
      },
      "execution_count": 26,
      "outputs": [
        {
          "output_type": "stream",
          "name": "stdout",
          "text": [
            "Enter a number: 12\n",
            "Enter a number: 12\n",
            "b is greater\n"
          ]
        }
      ]
    },
    {
      "cell_type": "markdown",
      "source": [
        "#### **Example with variable assignment**"
      ],
      "metadata": {
        "id": "JxX8Ex7FWHFD"
      }
    },
    {
      "cell_type": "code",
      "source": [],
      "metadata": {
        "id": "DZax59I9TIYa"
      },
      "execution_count": null,
      "outputs": []
    },
    {
      "cell_type": "markdown",
      "source": [
        "**🏋️ Practice Exercises**\n",
        "\n",
        "Students should try these:\n",
        "\n",
        "**1.** Write a program to check whether a number is positive, negative, or zero.\n",
        "\n",
        "**2.** Check if a number is divisible by both 3 and 5.\n",
        "\n",
        "**3.** Ask the user for age and classify them as:\n",
        "\n",
        "```\n",
        "Child (< 13)\n",
        "Teenager (13–19)\n",
        "Adult (20–59)\n",
        "Senior (60+)\n",
        "\n",
        "```\n",
        "**4.** Write a one-liner to print whether a number is even or odd."
      ],
      "metadata": {
        "id": "LrNtH7krTJ1o"
      }
    }
  ]
}