{
  "nbformat": 4,
  "nbformat_minor": 0,
  "metadata": {
    "colab": {
      "provenance": [],
      "include_colab_link": true
    },
    "kernelspec": {
      "name": "python3",
      "display_name": "Python 3"
    },
    "language_info": {
      "name": "python"
    }
  },
  "cells": [
    {
      "cell_type": "markdown",
      "metadata": {
        "id": "view-in-github",
        "colab_type": "text"
      },
      "source": [
        "<a href=\"https://colab.research.google.com/github/jaweria01/Python_Volunteer_Course/blob/main/Session9_(ListPatterns_BY_Loops_%2B_Functions_Basics).ipynb\" target=\"_parent\"><img src=\"https://colab.research.google.com/assets/colab-badge.svg\" alt=\"Open In Colab\"/></a>"
      ]
    },
    {
      "cell_type": "markdown",
      "source": [
        "#Today's Topic\n",
        "\n",
        "✅ Iterators + Iterable\n",
        "\n",
        "✅ Combining Loops + Conditions\n",
        "\n",
        "✅ Printing Number Patterns\n",
        "\n",
        "✅ Printing Star Patterns\n",
        "\n",
        "✅ Functions\n",
        "\n",
        "\n"
      ],
      "metadata": {
        "id": "GQpozXz_yoGd"
      }
    },
    {
      "cell_type": "markdown",
      "source": [
        "**Iterable**\n",
        "\n",
        "Think of an iterable as a container that holds many items — like a list, tuple, string, or dictionary.\n",
        "\n",
        "➡️ You can loop through it using a for loop.\n",
        "➡️ Examples: list, tuple, set, dict, string."
      ],
      "metadata": {
        "id": "xmbH_sYQ0AsJ"
      }
    },
    {
      "cell_type": "markdown",
      "source": [
        "Iterator\n",
        "\n",
        "An iterator is like a machine that takes items one by one from the iterable.\n",
        "\n",
        "➡️ It remembers where it left off.\n",
        "➡️ It gives the next item using the next() function."
      ],
      "metadata": {
        "id": "vhY4ZRVu0Fm9"
      }
    },
    {
      "cell_type": "code",
      "source": [
        "numbers = [1, 2, 3]\n",
        "it = iter(numbers)   # make an iterator from the iterable\n",
        "\n",
        "print(next(it))  # 1\n",
        "print(next(it))  # 2\n",
        "print(next(it))"
      ],
      "metadata": {
        "id": "9o2o1F1Q0J3E"
      },
      "execution_count": null,
      "outputs": []
    },
    {
      "cell_type": "code",
      "source": [
        "[ Iterable (List, Tuple, String, etc.) ]\n",
        "         ↓  (we call iter())\n",
        "      ┌────────────────┐\n",
        "      │   Iterator     │   ← keeps track of where it is\n",
        "      └────────────────┘\n",
        "               ↓\n",
        "       next() gives one item at a time\n",
        "               ↓\n",
        "        ┌──────────────┐\n",
        "        │ Current item │ → stored in variable (like n)\n",
        "        └──────────────┘\n"
      ],
      "metadata": {
        "id": "cFRDeE-AzleT"
      },
      "execution_count": null,
      "outputs": []
    },
    {
      "cell_type": "markdown",
      "source": [
        "#Combining Loops + Conditions\n",
        "\n",
        " What it means:\n",
        "\n",
        "When we use loops (for, while) together with conditions (if, else) to control what gets printed or done inside the loop.\n",
        "\n",
        " Example idea:\n",
        "\n",
        "Loop repeats something —\n",
        "Condition checks what to do in each repetition."
      ],
      "metadata": {
        "id": "kLG4fijG07Bp"
      }
    },
    {
      "cell_type": "code",
      "source": [
        "for i in range(1, 11):   # loop from 1 to 10\n",
        "    if i % 2 == 0:       # condition: number is even\n",
        "        print(i)\n"
      ],
      "metadata": {
        "colab": {
          "base_uri": "https://localhost:8080/"
        },
        "id": "JxweII3s1I-Y",
        "outputId": "c25e8290-d0c1-4c18-f803-5457f4bb8bd4"
      },
      "execution_count": null,
      "outputs": [
        {
          "output_type": "stream",
          "name": "stdout",
          "text": [
            "2\n",
            "4\n",
            "6\n",
            "8\n",
            "10\n"
          ]
        }
      ]
    },
    {
      "cell_type": "code",
      "source": [
        "for i in range(1, 6):\n",
        "    if i == 3:\n",
        "        print(i, \"is my favorite number!\")\n",
        "    else:\n",
        "        print(i)"
      ],
      "metadata": {
        "colab": {
          "base_uri": "https://localhost:8080/"
        },
        "id": "Gzv-pt2i2pKF",
        "outputId": "34dab311-e08a-4623-b704-d59a72ba81e2"
      },
      "execution_count": null,
      "outputs": [
        {
          "output_type": "stream",
          "name": "stdout",
          "text": [
            "1\n",
            "2\n",
            "3 is my favorite number!\n",
            "4\n",
            "5\n"
          ]
        }
      ]
    },
    {
      "cell_type": "markdown",
      "source": [
        "#Printing Number Patterns\n",
        "\n",
        "We use nested loops (a loop inside another loop)\n",
        "to print numbers in rows and columns like patterns."
      ],
      "metadata": {
        "id": "NVf2n7M12wLh"
      }
    },
    {
      "cell_type": "code",
      "source": [
        "for i in range(3):        # outer loop → rows\n",
        "    for j in range(1, 4): # inner loop → columns\n",
        "        print(j, end=\" \") # print in same line\n",
        "    print()               # move to next line\n"
      ],
      "metadata": {
        "colab": {
          "base_uri": "https://localhost:8080/"
        },
        "id": "oUuJw61h3lFq",
        "outputId": "32cf9e5d-79be-41f7-c0c4-f7563a2d2d8d"
      },
      "execution_count": null,
      "outputs": [
        {
          "output_type": "stream",
          "name": "stdout",
          "text": [
            "1 2 3 \n",
            "1 2 3 \n",
            "1 2 3 \n"
          ]
        }
      ]
    },
    {
      "cell_type": "code",
      "execution_count": null,
      "metadata": {
        "id": "SxBiLqTouOAm",
        "colab": {
          "base_uri": "https://localhost:8080/"
        },
        "outputId": "3542eed4-0dd1-4b54-9082-ff3c1b16d5c1"
      },
      "outputs": [
        {
          "output_type": "stream",
          "name": "stdout",
          "text": [
            "1 \n",
            "1 2 \n",
            "1 2 3 \n",
            "1 2 3 4 \n"
          ]
        }
      ],
      "source": [
        "for i in range(1, 5):\n",
        "    for j in range(1, i + 1):\n",
        "        print(j, end=\" \")\n",
        "    print()"
      ]
    },
    {
      "cell_type": "code",
      "source": [
        "#\n",
        "for i in range(5, 0, -1):   # start from 5, go down to 1\n",
        "    for j in range(1, i + 1):\n",
        "        print(j, end=\" \")\n",
        "    print()"
      ],
      "metadata": {
        "colab": {
          "base_uri": "https://localhost:8080/"
        },
        "id": "Cu1HttnJ30w4",
        "outputId": "21bc3b08-85df-4702-994b-9e89dd28864c"
      },
      "execution_count": null,
      "outputs": [
        {
          "output_type": "stream",
          "name": "stdout",
          "text": [
            "1 2 3 4 5 \n",
            "1 2 3 4 \n",
            "1 2 3 \n",
            "1 2 \n",
            "1 \n"
          ]
        }
      ]
    },
    {
      "cell_type": "code",
      "source": [
        "# Square pattern\n",
        "for i in range(3):        # 3 rows\n",
        "    for j in range(4):    # 4 stars per row\n",
        "        print(\"*\", end=\" \")\n",
        "    print()"
      ],
      "metadata": {
        "colab": {
          "base_uri": "https://localhost:8080/"
        },
        "id": "I6c1C8_U36R2",
        "outputId": "1c28bea5-4be5-48c0-a944-4fa6e01b7ca5"
      },
      "execution_count": null,
      "outputs": [
        {
          "output_type": "stream",
          "name": "stdout",
          "text": [
            "* * * * \n",
            "* * * * \n",
            "* * * * \n"
          ]
        }
      ]
    },
    {
      "cell_type": "code",
      "source": [
        "#Right triangle\n",
        "\n",
        "for i in range(1, 5):     # rows = 4\n",
        "    for j in range(i):    # number of stars = row number\n",
        "        print(\"*\", end=\" \")\n",
        "    print()"
      ],
      "metadata": {
        "colab": {
          "base_uri": "https://localhost:8080/"
        },
        "id": "UHeXdy2z4Fkw",
        "outputId": "f485c664-beba-43dd-e0e0-d0ca72001122"
      },
      "execution_count": null,
      "outputs": [
        {
          "output_type": "stream",
          "name": "stdout",
          "text": [
            "* \n",
            "* * \n",
            "* * * \n",
            "* * * * \n"
          ]
        }
      ]
    },
    {
      "cell_type": "code",
      "source": [
        "#Pyramid pattern\n",
        "rows = 4\n",
        "for i in range(1, rows + 1):\n",
        "    print(\" \" * (rows - i), end=\"\")   # print spaces\n",
        "    print(\"* \" * i)                   # print stars\n"
      ],
      "metadata": {
        "colab": {
          "base_uri": "https://localhost:8080/"
        },
        "id": "_jCJD97I4gjW",
        "outputId": "3417c1ca-c977-4db8-c3a1-fbdafb1a7cab"
      },
      "execution_count": null,
      "outputs": [
        {
          "output_type": "stream",
          "name": "stdout",
          "text": [
            "   * \n",
            "  * * \n",
            " * * * \n",
            "* * * * \n"
          ]
        }
      ]
    },
    {
      "cell_type": "markdown",
      "source": [
        "#What is a Function?\n",
        "\n",
        "A function is a block of code that performs a specific task.\n",
        "You can define it once and reuse it many times.\n",
        "\n",
        " **Why use functions?**\n",
        "\n",
        "Avoid repeating code (reusability)\n",
        "\n",
        "Keep code organized and readable\n",
        "\n",
        "Easy to debug or modify"
      ],
      "metadata": {
        "id": "B_nXWXtY4rSR"
      }
    },
    {
      "cell_type": "code",
      "source": [
        "def greet():\n",
        "    print(\"Hello, welcome to Python!\")\n",
        "greet()"
      ],
      "metadata": {
        "colab": {
          "base_uri": "https://localhost:8080/"
        },
        "id": "H_tNCqOR40Xf",
        "outputId": "ed5fad63-7327-42ca-fb12-9ed7cd668d63"
      },
      "execution_count": null,
      "outputs": [
        {
          "output_type": "stream",
          "name": "stdout",
          "text": [
            "Hello, welcome to Python!\n"
          ]
        }
      ]
    },
    {
      "cell_type": "code",
      "source": [
        "def say_hello():\n",
        "    print(\"Hello!\")\n",
        "\n",
        "say_hello()\n"
      ],
      "metadata": {
        "colab": {
          "base_uri": "https://localhost:8080/"
        },
        "id": "-a9F7RIy5AeZ",
        "outputId": "758d19c4-2e51-4be7-9f63-ed0a633c19fc"
      },
      "execution_count": null,
      "outputs": [
        {
          "output_type": "stream",
          "name": "stdout",
          "text": [
            "Hello!\n"
          ]
        }
      ]
    },
    {
      "cell_type": "markdown",
      "source": [
        "#Parameters vs Arguments\n",
        "\n",
        "Parameter\tVariable inside function definition\tdef add(a, b): → a, b are parameters\n",
        "\n",
        "Argument\tActual value passed when calling function\tadd(3, 5) → 3, 5 are arguments"
      ],
      "metadata": {
        "id": "R1kvFyrK5HKT"
      }
    },
    {
      "cell_type": "code",
      "source": [
        "def add(a, b):       # parameters\n",
        "    print(a + b)\n",
        "\n",
        "add(3, 5)            # arguments\n"
      ],
      "metadata": {
        "colab": {
          "base_uri": "https://localhost:8080/"
        },
        "id": "-Es_kVvE5RVT",
        "outputId": "782aaf6e-8621-41d5-f1f5-63c29091c2ca"
      },
      "execution_count": null,
      "outputs": [
        {
          "output_type": "stream",
          "name": "stdout",
          "text": [
            "8\n"
          ]
        }
      ]
    },
    {
      "cell_type": "markdown",
      "source": [
        "# Default Arguments\n",
        "\n",
        "You can give a default value to a parameter.\n",
        "If the user doesn’t provide a value, Python uses the default."
      ],
      "metadata": {
        "id": "p_aNbEzP5Yqk"
      }
    },
    {
      "cell_type": "code",
      "source": [
        "def greet(name=\"Guest\"):\n",
        "    print(\"Hello,\", name)\n",
        "\n",
        "greet(\"Ali\")\n",
        "greet()\n"
      ],
      "metadata": {
        "colab": {
          "base_uri": "https://localhost:8080/"
        },
        "id": "m7hFokID5dKz",
        "outputId": "7fbc94fe-d735-401b-b281-069ac4f0dbd3"
      },
      "execution_count": null,
      "outputs": [
        {
          "output_type": "stream",
          "name": "stdout",
          "text": [
            "Hello, Ali\n",
            "Hello, Guest\n"
          ]
        }
      ]
    },
    {
      "cell_type": "markdown",
      "source": [
        "#Keyword Arguments\n",
        "\n",
        "You can pass arguments with names, not just positions."
      ],
      "metadata": {
        "id": "4hvrGPk55j4W"
      }
    },
    {
      "cell_type": "code",
      "source": [
        "def info(name, age):\n",
        "    print(name, \"is\", age, \"years old\")\n",
        "\n",
        "info(age=25, name=\"Ali\")   # order doesn’t matter\n"
      ],
      "metadata": {
        "colab": {
          "base_uri": "https://localhost:8080/"
        },
        "id": "kopx_nWj5oRX",
        "outputId": "86ca85e7-e32b-484c-8319-3c8fa9d946ff"
      },
      "execution_count": null,
      "outputs": [
        {
          "output_type": "stream",
          "name": "stdout",
          "text": [
            "Ali is 25 years old\n"
          ]
        }
      ]
    },
    {
      "cell_type": "markdown",
      "source": [
        "#Function Calling & Execution\n",
        "\n",
        "When we call a function:\n",
        "\n",
        "Python jumps to that function’s code.\n",
        "\n",
        "Executes the code inside it.\n",
        "\n",
        "Returns control back to where it was called.\n",
        "\n",
        "\n"
      ],
      "metadata": {
        "id": "b0tvBBbQ5tRb"
      }
    },
    {
      "cell_type": "code",
      "source": [
        "def multiply(a, b):\n",
        "    return a * b\n",
        "\n",
        "result = multiply(4, 5)\n",
        "print(result)\n"
      ],
      "metadata": {
        "id": "Y1O5rp6a56_x"
      },
      "execution_count": null,
      "outputs": []
    },
    {
      "cell_type": "markdown",
      "source": [
        "Execution flow:\n",
        "\n",
        "Function multiply() is called\n",
        "\n",
        "It returns 20\n",
        "\n",
        "Then print(result) displays it"
      ],
      "metadata": {
        "id": "n8xH_3q16Dgy"
      }
    },
    {
      "cell_type": "markdown",
      "source": [
        "#Return Statement vs No Return\n",
        "Type\tDescription\tExample\n",
        "With return\tSends a value back to where the function was called\treturn x + y\n",
        "No return\tOnly performs an action (like printing)\tprint(x + y)"
      ],
      "metadata": {
        "id": "6-eZfSvB6diB"
      }
    },
    {
      "cell_type": "code",
      "source": [
        "def add(a, b):\n",
        "    return a + b\n",
        "\n",
        "result = add(2, 3)\n",
        "print(result)\n"
      ],
      "metadata": {
        "colab": {
          "base_uri": "https://localhost:8080/"
        },
        "id": "p60dgPDK6m7J",
        "outputId": "29ba19ea-3418-43c0-f931-7d8d02f6d2e7"
      },
      "execution_count": null,
      "outputs": [
        {
          "output_type": "stream",
          "name": "stdout",
          "text": [
            "5\n"
          ]
        }
      ]
    },
    {
      "cell_type": "code",
      "source": [
        "def add(a, b):\n",
        "    print(a + b)\n",
        "\n",
        "add(2, 3)\n"
      ],
      "metadata": {
        "colab": {
          "base_uri": "https://localhost:8080/"
        },
        "id": "fFTo1mQe6nuN",
        "outputId": "c4d47eb2-0f9f-4f08-962a-9388117f64da"
      },
      "execution_count": null,
      "outputs": [
        {
          "output_type": "stream",
          "name": "stdout",
          "text": [
            "5\n"
          ]
        }
      ]
    },
    {
      "cell_type": "markdown",
      "source": [
        "#Variable Scope (Local vs Global)\n",
        "What is “Scope”?\n",
        "\n",
        "Scope means where a variable can be accessed or used in your program.\n",
        "\n",
        "Local Variable\n",
        "\n",
        "A variable that is declared inside a function and can be used only inside it."
      ],
      "metadata": {
        "id": "VGMTSaHl7Ity"
      }
    },
    {
      "cell_type": "code",
      "source": [
        "def my_function():\n",
        "    x = 10     # local variable\n",
        "    print(\"Inside function:\", x)\n",
        "\n",
        "my_function()\n",
        "\n",
        "print(\"Outside function:\", x)   # ❌ Error! x is local\n",
        "#Local variables disappear after the function ends."
      ],
      "metadata": {
        "colab": {
          "base_uri": "https://localhost:8080/",
          "height": 220
        },
        "id": "UB5QYp6X7Nvx",
        "outputId": "2e4bda2a-5958-46a7-e659-ce6358d45339"
      },
      "execution_count": null,
      "outputs": [
        {
          "output_type": "stream",
          "name": "stdout",
          "text": [
            "Inside function: 10\n"
          ]
        },
        {
          "output_type": "error",
          "ename": "NameError",
          "evalue": "name 'x' is not defined",
          "traceback": [
            "\u001b[0;31m---------------------------------------------------------------------------\u001b[0m",
            "\u001b[0;31mNameError\u001b[0m                                 Traceback (most recent call last)",
            "\u001b[0;32m/tmp/ipython-input-2533268743.py\u001b[0m in \u001b[0;36m<cell line: 0>\u001b[0;34m()\u001b[0m\n\u001b[1;32m      4\u001b[0m \u001b[0;34m\u001b[0m\u001b[0m\n\u001b[1;32m      5\u001b[0m \u001b[0mmy_function\u001b[0m\u001b[0;34m(\u001b[0m\u001b[0;34m)\u001b[0m\u001b[0;34m\u001b[0m\u001b[0;34m\u001b[0m\u001b[0m\n\u001b[0;32m----> 6\u001b[0;31m \u001b[0mprint\u001b[0m\u001b[0;34m(\u001b[0m\u001b[0;34m\"Outside function:\"\u001b[0m\u001b[0;34m,\u001b[0m \u001b[0mx\u001b[0m\u001b[0;34m)\u001b[0m   \u001b[0;31m# ❌ Error! x is local\u001b[0m\u001b[0;34m\u001b[0m\u001b[0;34m\u001b[0m\u001b[0m\n\u001b[0m\u001b[1;32m      7\u001b[0m \u001b[0;31m#Local variables disappear after the function ends.\u001b[0m\u001b[0;34m\u001b[0m\u001b[0;34m\u001b[0m\u001b[0m\n",
            "\u001b[0;31mNameError\u001b[0m: name 'x' is not defined"
          ]
        }
      ]
    },
    {
      "cell_type": "markdown",
      "source": [
        "#Global Variable\n",
        "\n",
        "A variable declared outside all functions.\n",
        "It can be accessed anywhere in the program."
      ],
      "metadata": {
        "id": "QoTV7mdZ7XV4"
      }
    },
    {
      "cell_type": "code",
      "source": [
        "x = 50  # global variable\n",
        "\n",
        "def show():\n",
        "    print(\"Inside function:\", x)\n",
        "\n",
        "show()\n",
        "\n",
        "print(\"Outside function:\", x)\n"
      ],
      "metadata": {
        "colab": {
          "base_uri": "https://localhost:8080/"
        },
        "id": "ko-KBxhq7aZu",
        "outputId": "8101f6fe-bf04-4ddb-e8ad-0c1a7f36a572"
      },
      "execution_count": null,
      "outputs": [
        {
          "output_type": "stream",
          "name": "stdout",
          "text": [
            "Inside function: 50\n",
            "Outside function: 50\n"
          ]
        }
      ]
    },
    {
      "cell_type": "markdown",
      "source": [
        "#Nested Functions (Function inside another function)\n",
        "\n",
        "You can define a function inside another function.\n",
        "The inner function can only be called inside the outer one."
      ],
      "metadata": {
        "id": "O1cz0d-77lBg"
      }
    },
    {
      "cell_type": "code",
      "source": [
        "def outer():\n",
        "    print(\"This is the outer function.\")\n",
        "\n",
        "    def inner():\n",
        "        print(\"This is the inner function.\")\n",
        "\n",
        "    inner()   # call inner function inside outer\n",
        "\n",
        "outer()\n"
      ],
      "metadata": {
        "colab": {
          "base_uri": "https://localhost:8080/"
        },
        "id": "-F2GtTmo7p1O",
        "outputId": "b290b7b6-96aa-4a58-972b-3a807d792e11"
      },
      "execution_count": null,
      "outputs": [
        {
          "output_type": "stream",
          "name": "stdout",
          "text": [
            "This is the outer function.\n",
            "This is the inner function.\n"
          ]
        }
      ]
    },
    {
      "cell_type": "markdown",
      "source": [
        "#Why use nested functions?\n",
        "\n",
        "To organize code (helper function inside another)\n",
        "\n",
        "To hide details from the rest of the program\n",
        "\n",
        "Used in closures and decorators (advanced Python)"
      ],
      "metadata": {
        "id": "pkFAEYmj7u_S"
      }
    }
  ]
}
