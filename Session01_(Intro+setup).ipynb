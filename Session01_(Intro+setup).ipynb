{
  "nbformat": 4,
  "nbformat_minor": 0,
  "metadata": {
    "colab": {
      "provenance": [],
      "authorship_tag": "ABX9TyNGZG5rR4gHK91t2e5Zux5d",
      "include_colab_link": true
    },
    "kernelspec": {
      "name": "python3",
      "display_name": "Python 3"
    },
    "language_info": {
      "name": "python"
    }
  },
  "cells": [
    {
      "cell_type": "markdown",
      "metadata": {
        "id": "view-in-github",
        "colab_type": "text"
      },
      "source": [
        "<a href=\"https://colab.research.google.com/github/jaweria01/Python_Volunteer_Course/blob/main/Session1(Intro%2Bsetup).ipynb\" target=\"_parent\"><img src=\"https://colab.research.google.com/assets/colab-badge.svg\" alt=\"Open In Colab\"/></a>"
      ]
    },
    {
      "cell_type": "markdown",
      "source": [
        "## **1. What is Programming?**\n",
        "\n",
        "Programming means giving instructions to the computer in a language it understands.\n",
        "\n",
        "We write instructions in human-readable language (English-like statements) → called high-level language.\n",
        "\n",
        "But computers only understand machine language(Low level Language) → 0 and 1 (binary system: power ON = 1, power OFF = 0).\n",
        "\n",
        "💡 Example:\n",
        "When we say in Python:\n",
        "\n",
        "\n",
        "`print(\"Hello World\")`\n",
        "\n",
        "We’re giving an instruction in English-like syntax. But internally, your machine will only understand it as 101010... binary pattern.\n"
      ],
      "metadata": {
        "id": "4S4e3avai8Q9"
      }
    },
    {
      "cell_type": "markdown",
      "source": [
        "## **2. Why Conversion is Needed?**\n",
        "\n",
        "The CPU chip (i3, i5, i7, Ryzen, etc.) can only understand binary.\n",
        "\n",
        "So, our high-level code must be translated into binary before execution.\n",
        "\n",
        "That translation happens using a Compiler or an Interpreter"
      ],
      "metadata": {
        "id": "EwmtbMRTjnTn"
      }
    },
    {
      "cell_type": "markdown",
      "source": [
        "## **3. Where are Compiler & Interpreter?**\n",
        "\n",
        "They are built into the Python software you installed.\n",
        "\n",
        "You don’t install them separately → they come with Python package.\n",
        "\n",
        "For example:\n",
        "\n",
        "**C++ Compiler** → GCC, Clang, MSVC\n",
        "\n",
        "**Python Compiler + Interpreter** → Provided by CPython (default Python implementation)"
      ],
      "metadata": {
        "id": "IBF4VE7LYh73"
      }
    },
    {
      "cell_type": "markdown",
      "source": [
        "##**4. Compiler vs Interpreter**\n",
        "\n",
        "**Compiler (C, C++, Java, etc.)**\n",
        "\n",
        "- Translates the entire program into machine code at once.\n",
        "\n",
        "- If there’s an error, it shows the list of errors at the end.\n",
        "\n",
        "- Faster execution because the whole code is already translated before running.\n",
        "\n",
        "💡 Example (C++):\n",
        "\n",
        "```\n",
        "\n",
        "#include <iostream>\n",
        "using namespace std;\n",
        "int main() {\n",
        "    cout << \"Hello World\";\n",
        "    return 0;\n",
        "}\n",
        "```\n",
        "\n",
        "This will first compile fully → if no errors, it creates an .exe file → runs directly.\n",
        "\n",
        "**Interpreter (Python, JavaScript, PHP, etc.)**\n",
        "\n",
        "- Translates line by line.\n",
        "\n",
        "- If it finds an error, it stops immediately.\n",
        "\n",
        "- Slower than compiler, but easier for beginners since you can test line by line.\n",
        "\n",
        "💡 Example (Python):\n",
        "\n",
        "```\n",
        "print(\"Hello\")\n",
        "print(\"World\")\n",
        "```\n",
        "\n",
        "- First line → interpreted → runs → shows Hello.\n",
        "- Second line → interpreted → runs → shows World.\n",
        "\n",
        "If you had an error in line 2, line 1 would still run successfully."
      ],
      "metadata": {
        "id": "OA2E8-3AkHNL"
      }
    },
    {
      "cell_type": "code",
      "source": [
        "\n"
      ],
      "metadata": {
        "id": "AcI23dZmUJ8g"
      },
      "execution_count": 6,
      "outputs": []
    },
    {
      "cell_type": "code",
      "source": [],
      "metadata": {
        "id": "L9z4I0FXTQsB"
      },
      "execution_count": 6,
      "outputs": []
    },
    {
      "cell_type": "markdown",
      "source": [
        "## **5. What Happens When You Run Python Code?**\n",
        "Let’s say you write:\n",
        "\n",
        "`print(\"Hello Python\")`\n",
        "\n",
        "The steps are:\n",
        "\n",
        "**Step 1: Compilation (Hidden Step in Python)**\n",
        "\n",
        "- Python compiles your code(.py file) into Bytecode (not directly into machine code).\n",
        "\n",
        "- Bytecode is a low-level, platform-independent code (not human readable).\n",
        "\n",
        "- Saved internally as .pyc files (Python Compiled).\n",
        "\n",
        "**Step 2: Interpretation by PVM (Python Virtual Machine)**\n",
        "\n",
        "- The PVM (Interpreter) reads bytecode line by line.\n",
        "\n",
        "- It converts bytecode into machine code (0s and 1s).\n",
        "\n",
        "- CPU executes those instructions.\n",
        "\n",
        "- Finally, you see the output.\n",
        "\n",
        "👉 So Python uses both Compiler + Interpreter internally.\n",
        "That’s why we say Python is an interpreted language, because the last execution step is done by the interpreter."
      ],
      "metadata": {
        "id": "NBBVYIqal5mj"
      }
    },
    {
      "cell_type": "markdown",
      "source": [
        "## **Example Walkthrough**\n",
        "\n",
        "Let’s trace this code:\n",
        "```\n",
        "x = 10\n",
        "y = 20\n",
        "print(x + y)\n",
        "```\n",
        "\n",
        "➡️ Step 1: Python Compiler → Converts into bytecode.\n",
        "\n",
        "➡️ Step 2: PVM Interpreter → Reads x=10, y=20, and print(x+y) line by line.\n",
        "\n",
        "➡️ Step 3: CPU executes addition (10 + 20).\n",
        "\n",
        "➡️ Step 4: Output → 30\n",
        "\n"
      ],
      "metadata": {
        "id": "liGGh5OspOHl"
      }
    },
    {
      "cell_type": "markdown",
      "source": [
        "## **Important Analogy**\n",
        "\n",
        "Imagine:\n",
        "\n",
        "- You (the programmer) → Teacher giving instructions in English.\n",
        "\n",
        "- Translator (Compiler/Interpreter) → Converts your English into a language only the student understands.\n",
        "\n",
        "- Student (CPU/Chip) → Understands only binary (0s,1s).\n",
        "\n",
        "- Action/Answer (Output) → What you see on screen."
      ],
      "metadata": {
        "id": "XCqihRuSrGPP"
      }
    },
    {
      "cell_type": "markdown",
      "source": [
        "## **6. Compile-time and run-time error**"
      ],
      "metadata": {
        "id": "7AxdIpIASs3P"
      }
    },
    {
      "cell_type": "markdown",
      "source": [
        "### **Compile time error**"
      ],
      "metadata": {
        "id": "YaFBC4d5VH2W"
      }
    },
    {
      "cell_type": "code",
      "source": [
        "# error in producing bytecode > so conversion into binary code not happened\n",
        "print(\"1\")\n",
        "print(''"
      ],
      "metadata": {
        "colab": {
          "base_uri": "https://localhost:8080/",
          "height": 111
        },
        "id": "G_YZHWQeUdT6",
        "outputId": "41b35c7a-230d-4831-d997-f529c06724d1"
      },
      "execution_count": 9,
      "outputs": [
        {
          "output_type": "error",
          "ename": "SyntaxError",
          "evalue": "incomplete input (ipython-input-3731047784.py, line 3)",
          "traceback": [
            "\u001b[0;36m  File \u001b[0;32m\"/tmp/ipython-input-3731047784.py\"\u001b[0;36m, line \u001b[0;32m3\u001b[0m\n\u001b[0;31m    print(''\u001b[0m\n\u001b[0m            ^\u001b[0m\n\u001b[0;31mSyntaxError\u001b[0m\u001b[0;31m:\u001b[0m incomplete input\n"
          ]
        }
      ]
    },
    {
      "cell_type": "markdown",
      "source": [
        "### **Run-time Error**"
      ],
      "metadata": {
        "id": "4pRFM28xVcw5"
      }
    },
    {
      "cell_type": "code",
      "source": [
        "print(\"fyp\")\n",
        "hello = print(\"hello world\")\n",
        "hello"
      ],
      "metadata": {
        "colab": {
          "base_uri": "https://localhost:8080/"
        },
        "id": "nPR8mrn3fXEY",
        "outputId": "ddad9d51-2c94-4e8b-800f-c2aaed579a70"
      },
      "execution_count": 14,
      "outputs": [
        {
          "output_type": "stream",
          "name": "stdout",
          "text": [
            "fyp\n",
            "hello world\n"
          ]
        }
      ]
    },
    {
      "cell_type": "code",
      "source": [
        "# error occur during execution > so binary code generated first\n",
        "print(\"ku\")\n",
        "print(helo)\n",
        "print(\"1\")"
      ],
      "metadata": {
        "colab": {
          "base_uri": "https://localhost:8080/",
          "height": 222
        },
        "id": "9PLYtjblUhrQ",
        "outputId": "7680f98e-0dd1-4c09-d864-d253852a06c1"
      },
      "execution_count": 10,
      "outputs": [
        {
          "output_type": "stream",
          "name": "stdout",
          "text": [
            "ku\n"
          ]
        },
        {
          "output_type": "error",
          "ename": "NameError",
          "evalue": "name 'helo' is not defined",
          "traceback": [
            "\u001b[0;31m---------------------------------------------------------------------------\u001b[0m",
            "\u001b[0;31mNameError\u001b[0m                                 Traceback (most recent call last)",
            "\u001b[0;32m/tmp/ipython-input-2387441245.py\u001b[0m in \u001b[0;36m<cell line: 0>\u001b[0;34m()\u001b[0m\n\u001b[1;32m      1\u001b[0m \u001b[0;31m# error occur during execution > so binary code generated first\u001b[0m\u001b[0;34m\u001b[0m\u001b[0;34m\u001b[0m\u001b[0m\n\u001b[1;32m      2\u001b[0m \u001b[0mprint\u001b[0m\u001b[0;34m(\u001b[0m\u001b[0;34m\"ku\"\u001b[0m\u001b[0;34m)\u001b[0m\u001b[0;34m\u001b[0m\u001b[0;34m\u001b[0m\u001b[0m\n\u001b[0;32m----> 3\u001b[0;31m \u001b[0mprint\u001b[0m\u001b[0;34m(\u001b[0m\u001b[0mhelo\u001b[0m\u001b[0;34m)\u001b[0m\u001b[0;34m\u001b[0m\u001b[0;34m\u001b[0m\u001b[0m\n\u001b[0m\u001b[1;32m      4\u001b[0m \u001b[0mprint\u001b[0m\u001b[0;34m(\u001b[0m\u001b[0;34m\"1\"\u001b[0m\u001b[0;34m)\u001b[0m\u001b[0;34m\u001b[0m\u001b[0;34m\u001b[0m\u001b[0m\n",
            "\u001b[0;31mNameError\u001b[0m: name 'helo' is not defined"
          ]
        }
      ]
    },
    {
      "cell_type": "markdown",
      "source": [
        "# **7. 🚀 Why Python?**  \n",
        "\n",
        "Python is one of the most popular programming languages in the world because it is **simple, powerful, and versatile**.  \n",
        "\n",
        "---\n",
        "\n",
        "## **🌟 Key Features of Python**  \n",
        "\n",
        "1. **Easy to Learn & Read**  \n",
        "   - Syntax is close to English.  \n",
        "   - Example:  \n",
        "     ```python\n",
        "     print(\"Hello, World!\")\n",
        "     ```\n",
        "\n",
        "2. **Interpreted Language**  \n",
        "   - No need to compile manually.  \n",
        "   - Just run the script and see the output.  \n",
        "\n",
        "3. **Cross-Platform**  \n",
        "   - Works on Windows, Mac, Linux.  \n",
        "\n",
        "4. **Extensive Libraries & Frameworks**  \n",
        "   - Data Science → NumPy, Pandas, Matplotlib.  \n",
        "   - Web Development → Django, Flask, FastAPI.  \n",
        "   - AI/ML → TensorFlow, PyTorch, Scikit-learn.  \n",
        "\n",
        "5. **Large Community Support**  \n",
        "   - Millions of developers contribute, making Python very well-documented and beginner-friendly.  \n",
        "\n",
        "6. **Versatile**  \n",
        "   - Can be used in almost every field of technology.  \n",
        "\n",
        "---\n",
        "\n",
        "## **8.🌍 Real-World Uses of Python**\n",
        "\n",
        "1. **Data Science & Machine Learning**  \n",
        "   - Analyzing big data, building AI models.  \n",
        "   - Example: Netflix recommendation system.  \n",
        "\n",
        "2. **Web Development**  \n",
        "   - Creating websites and web apps.  \n",
        "   - Example: Instagram and Spotify use Python.  \n",
        "\n",
        "3. **Automation & Scripting**  \n",
        "   - Automating boring tasks (like renaming 1000 files).  \n",
        "\n",
        "4. **Game Development**  \n",
        "   - Libraries like Pygame are used for small games.  \n",
        "\n",
        "5. **Cybersecurity**  \n",
        "   - Writing scripts to detect and prevent attacks.  \n",
        "\n",
        "6. **IoT & Robotics**  \n",
        "   - Controlling hardware devices with Python.  \n",
        "\n",
        "7. **Finance**  \n",
        "   - Used in algorithmic trading, risk management, and financial modeling.  \n",
        "\n",
        "---\n",
        "\n",
        "## **✅ Why Should You Learn Python?**  \n",
        "\n",
        "- Beginner-friendly.  \n",
        "- Opens doors to **Data Science, AI, Web Dev, Automation, Cybersecurity**.  \n",
        "- High demand in job market.  \n",
        "- Great community support for learners.  \n",
        "\n",
        "---\n"
      ],
      "metadata": {
        "id": "vI0JkNNru7q5"
      }
    },
    {
      "cell_type": "markdown",
      "source": [
        "## **🔑 9. Keywords & Identifiers**\n",
        "**Keywords**\n",
        "\n",
        "Keywords are reserved words in Python.\n",
        "\n",
        "They have special meaning and cannot be used as variable names.\n",
        "\n",
        "Example keywords: if, else, for, while, def, class, import, True, False, None.\n",
        "\n",
        "👉 Example:\n",
        "\n",
        "```if True:\n",
        "    print(\"This is a keyword example\")\n",
        "```\n",
        "\n",
        "⚠️ Wrong usage (❌):\n",
        "\n",
        "`for = 5   # ❌ ERROR: 'for' is a reserved keyword`\n",
        "\n",
        "**Identifiers**\n",
        "\n",
        "Identifiers are the names we give to variables, functions, classes, etc.\n",
        "\n",
        "**Rules for identifiers:**\n",
        "\n",
        "- Can contain letters, digits, and underscore (_).\n",
        "\n",
        "- Cannot start with a digit.\n",
        "\n",
        "- Cannot be a keyword.\n",
        "\n",
        "- Case-sensitive (Age ≠ age).\n",
        "\n",
        "👉 Example:\n",
        "\n",
        "```\n",
        "name = \"Alice\"\n",
        "age = 20\n",
        "user_123 = \"Valid identifier\"\n",
        "```"
      ],
      "metadata": {
        "id": "KLUT11vXvrAm"
      }
    },
    {
      "cell_type": "code",
      "source": [
        "i_0 = \"hello\"\n",
        "i_0"
      ],
      "metadata": {
        "colab": {
          "base_uri": "https://localhost:8080/",
          "height": 36
        },
        "id": "Xpd1bFUYhvtS",
        "outputId": "e1cbd3a6-a071-424b-bde1-ed398fee269d"
      },
      "execution_count": 18,
      "outputs": [
        {
          "output_type": "execute_result",
          "data": {
            "text/plain": [
              "'hello'"
            ],
            "application/vnd.google.colaboratory.intrinsic+json": {
              "type": "string"
            }
          },
          "metadata": {},
          "execution_count": 18
        }
      ]
    },
    {
      "cell_type": "code",
      "source": [
        "01 = \"Hello\"\n",
        "01"
      ],
      "metadata": {
        "colab": {
          "base_uri": "https://localhost:8080/",
          "height": 111
        },
        "id": "NgnOnRaXh-Ja",
        "outputId": "6b019992-9da2-4d37-ebc3-c6fc247f4066"
      },
      "execution_count": 19,
      "outputs": [
        {
          "output_type": "error",
          "ename": "SyntaxError",
          "evalue": "leading zeros in decimal integer literals are not permitted; use an 0o prefix for octal integers (ipython-input-1075004055.py, line 1)",
          "traceback": [
            "\u001b[0;36m  File \u001b[0;32m\"/tmp/ipython-input-1075004055.py\"\u001b[0;36m, line \u001b[0;32m1\u001b[0m\n\u001b[0;31m    01 = \"Hello\"\u001b[0m\n\u001b[0m    ^\u001b[0m\n\u001b[0;31mSyntaxError\u001b[0m\u001b[0;31m:\u001b[0m leading zeros in decimal integer literals are not permitted; use an 0o prefix for octal integers\n"
          ]
        }
      ]
    },
    {
      "cell_type": "code",
      "source": [
        "if = \"h\""
      ],
      "metadata": {
        "colab": {
          "base_uri": "https://localhost:8080/",
          "height": 111
        },
        "id": "DB6gk90ThW4-",
        "outputId": "29f4ce11-bdbe-40b6-bc80-049c0f60ee9c"
      },
      "execution_count": 15,
      "outputs": [
        {
          "output_type": "error",
          "ename": "SyntaxError",
          "evalue": "invalid syntax (ipython-input-1965923752.py, line 1)",
          "traceback": [
            "\u001b[0;36m  File \u001b[0;32m\"/tmp/ipython-input-1965923752.py\"\u001b[0;36m, line \u001b[0;32m1\u001b[0m\n\u001b[0;31m    if = \"h\"\u001b[0m\n\u001b[0m       ^\u001b[0m\n\u001b[0;31mSyntaxError\u001b[0m\u001b[0;31m:\u001b[0m invalid syntax\n"
          ]
        }
      ]
    },
    {
      "cell_type": "code",
      "source": [
        "Age = \"10\"\n",
        "print(Age)\n",
        "age = \"20\"\n",
        "print(age)"
      ],
      "metadata": {
        "colab": {
          "base_uri": "https://localhost:8080/"
        },
        "id": "2-cgWkdfiQgJ",
        "outputId": "be83a843-e08e-462e-c6d5-2c25eb17647f"
      },
      "execution_count": 24,
      "outputs": [
        {
          "output_type": "stream",
          "name": "stdout",
          "text": [
            "10\n",
            "20\n"
          ]
        }
      ]
    },
    {
      "cell_type": "markdown",
      "source": [
        "## **10. Comments**\n",
        " **Single line Comment**"
      ],
      "metadata": {
        "id": "83Fysqb4vGzU"
      }
    },
    {
      "cell_type": "code",
      "source": [
        "# making variable\n",
        "a = \"1\"\n"
      ],
      "metadata": {
        "id": "qHZYFyLYyYwq"
      },
      "execution_count": 25,
      "outputs": []
    },
    {
      "cell_type": "markdown",
      "source": [
        "**Multi-line Comment**"
      ],
      "metadata": {
        "id": "rv4utjUKyh6U"
      }
    },
    {
      "cell_type": "code",
      "source": [
        "# docs string\n",
        "\"\"\"\n",
        "  writing a code that will\n",
        "  be use in automation\n",
        "\n",
        "\"\"\"\n",
        "#"
      ],
      "metadata": {
        "id": "XFF3bMexymjX",
        "colab": {
          "base_uri": "https://localhost:8080/",
          "height": 36
        },
        "outputId": "666479d1-3cea-41ad-f94f-f921c53c960a"
      },
      "execution_count": 28,
      "outputs": [
        {
          "output_type": "execute_result",
          "data": {
            "text/plain": [
              "' \\n  writing a code that will\\n  be use in automation\\n\\n'"
            ],
            "application/vnd.google.colaboratory.intrinsic+json": {
              "type": "string"
            }
          },
          "metadata": {},
          "execution_count": 28
        }
      ]
    },
    {
      "cell_type": "markdown",
      "source": [
        "# **Writing First Program**"
      ],
      "metadata": {
        "id": "ffLGHOd-y42I"
      }
    },
    {
      "cell_type": "code",
      "source": [
        "print(\"Hello world\")"
      ],
      "metadata": {
        "id": "AI4wc9uYz45v",
        "colab": {
          "base_uri": "https://localhost:8080/"
        },
        "outputId": "c8e78812-3bff-43b1-91fc-476057b2f4d4"
      },
      "execution_count": 30,
      "outputs": [
        {
          "output_type": "stream",
          "name": "stdout",
          "text": [
            "Hello world\n"
          ]
        }
      ]
    },
    {
      "cell_type": "markdown",
      "source": [
        "## **11. print() function + parameters**"
      ],
      "metadata": {
        "id": "jKgcaL8Tz5Q0"
      }
    },
    {
      "cell_type": "markdown",
      "source": [
        "**sep → Separator (default: space)**"
      ],
      "metadata": {
        "id": "1iZTHqwMz7Vk"
      }
    },
    {
      "cell_type": "code",
      "source": [
        "print(\"Hello World\",\"Hello \" )"
      ],
      "metadata": {
        "id": "gE0SFhM80NK2",
        "colab": {
          "base_uri": "https://localhost:8080/"
        },
        "outputId": "7244bd27-0610-4577-e8b2-24db68ad52c7"
      },
      "execution_count": 43,
      "outputs": [
        {
          "output_type": "stream",
          "name": "stdout",
          "text": [
            "Hello World Hello \n"
          ]
        }
      ]
    },
    {
      "cell_type": "code",
      "source": [],
      "metadata": {
        "id": "izgGb_rj0NMT"
      },
      "execution_count": null,
      "outputs": []
    },
    {
      "cell_type": "markdown",
      "source": [
        "**end → End character (default: newline \\n)**\n",
        "\n",
        "always ends with a newline (\\n).\n",
        "\n",
        "\"Ends with newline\" means after printing, the cursor moves to the start of the next line"
      ],
      "metadata": {
        "id": "9-5owXlK0Kyi"
      }
    },
    {
      "cell_type": "code",
      "source": [
        "print(\"Hello \\n world \")\n",
        "print(\"World\")"
      ],
      "metadata": {
        "colab": {
          "base_uri": "https://localhost:8080/"
        },
        "id": "9YAIvNxglEct",
        "outputId": "177b0174-cebc-4890-fb97-07ed4a4ce74d"
      },
      "execution_count": 47,
      "outputs": [
        {
          "output_type": "stream",
          "name": "stdout",
          "text": [
            "Hello \n",
            " world \n",
            "World\n"
          ]
        }
      ]
    },
    {
      "cell_type": "code",
      "source": [
        "print(\"hello world\")\n",
        "print(\"hello python\")"
      ],
      "metadata": {
        "colab": {
          "base_uri": "https://localhost:8080/"
        },
        "id": "LcFsC11kmW0W",
        "outputId": "71e3139d-abe6-400c-8674-505975c563a0"
      },
      "execution_count": 50,
      "outputs": [
        {
          "output_type": "stream",
          "name": "stdout",
          "text": [
            "hello world\n",
            "hello python\n"
          ]
        }
      ]
    },
    {
      "cell_type": "code",
      "source": [
        "print(\"hello world\", end = \"\\n \")\n",
        "print(\"hello python\")"
      ],
      "metadata": {
        "colab": {
          "base_uri": "https://localhost:8080/"
        },
        "id": "uD5pVMXmmLNc",
        "outputId": "ccc49756-8384-4687-b31f-08bf0ae05a99"
      },
      "execution_count": 49,
      "outputs": [
        {
          "output_type": "stream",
          "name": "stdout",
          "text": [
            "hello world\n",
            " hello python\n"
          ]
        }
      ]
    },
    {
      "cell_type": "markdown",
      "source": [],
      "metadata": {
        "id": "YfjjfNpjmoJY"
      }
    },
    {
      "cell_type": "code",
      "source": [
        "print(\"hello world\", \"Hello\" end = \", \")\n",
        "print(\"hello python\" , end=  \"  \")\n",
        "print(\"hello jaweria\")"
      ],
      "metadata": {
        "colab": {
          "base_uri": "https://localhost:8080/"
        },
        "id": "roEMH5dU0OGx",
        "outputId": "c2f0237d-e395-481f-f14d-1885a6369682"
      },
      "execution_count": 51,
      "outputs": [
        {
          "output_type": "stream",
          "name": "stdout",
          "text": [
            "hello world, hello python  hello jaweria\n"
          ]
        }
      ]
    },
    {
      "cell_type": "code",
      "source": [
        "print('hy')"
      ],
      "metadata": {
        "id": "NSs-rQzS0OIN",
        "colab": {
          "base_uri": "https://localhost:8080/"
        },
        "outputId": "1a9f64c0-e356-4e77-81ed-6e85c190a1ef"
      },
      "execution_count": 52,
      "outputs": [
        {
          "output_type": "stream",
          "name": "stdout",
          "text": [
            "hy\n"
          ]
        }
      ]
    },
    {
      "cell_type": "code",
      "source": [],
      "metadata": {
        "id": "tIUZgzON0OS3"
      },
      "execution_count": null,
      "outputs": []
    },
    {
      "cell_type": "markdown",
      "source": [
        "## **📌 Example Problem (for students)**\n",
        "\n",
        "Task: Write a program that:\n",
        "\n",
        "Prints your name and age using print().\n",
        "\n",
        "Prints three favorite hobbies separated by commas.\n",
        "\n",
        "Uses a multi-line comment to describe what the program does."
      ],
      "metadata": {
        "id": "N02YUz4F12gM"
      }
    }
  ]
}
